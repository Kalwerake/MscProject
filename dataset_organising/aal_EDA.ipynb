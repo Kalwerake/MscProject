{
 "cells": [
  {
   "cell_type": "markdown",
   "source": [
    "## AAL atlas"
   ],
   "metadata": {
    "collapsed": false,
    "pycharm": {
     "name": "#%% md\n"
    }
   }
  },
  {
   "cell_type": "code",
   "execution_count": 1,
   "outputs": [],
   "source": [
    "import pandas as pd\n",
    "import numpy as np\n",
    "import os\n",
    "import re\n",
    "import matplotlib.pyplot as plt\n",
    "import seaborn as sns\n",
    "from dfc_functions import PickPickle\n",
    "import pickle\n",
    "from dfc_functions import FetchROI"
   ],
   "metadata": {
    "collapsed": false,
    "pycharm": {
     "name": "#%%\n"
    }
   }
  },
  {
   "cell_type": "code",
   "execution_count": 5,
   "outputs": [],
   "source": [
    "parent_dir = os.path.dirname(os.getcwd()) # get parent directory\n",
    "pheno_dir = os.path.join(parent_dir, 'phenotype_files') # get directory for phenotype data files\n",
    "phenotype_path = os.path.join(parent_dir,'phenotype_files/pheno_clean.csv') # path to phenotype file\n",
    "aal_dir = os.path.join(parent_dir, 'rois_aal')"
   ],
   "metadata": {
    "collapsed": false,
    "pycharm": {
     "name": "#%%\n"
    }
   }
  },
  {
   "cell_type": "code",
   "execution_count": 3,
   "outputs": [],
   "source": [
    "df = pd.read_csv(phenotype_path) # load the phenotype data"
   ],
   "metadata": {
    "collapsed": false,
    "pycharm": {
     "name": "#%%\n"
    }
   }
  },
  {
   "cell_type": "code",
   "execution_count": 4,
   "outputs": [
    {
     "data": {
      "text/plain": "   SUB_ID       FILE_ID  AGE_AT_SCAN  SEX  DSM_IV_TR  DX_GROUP  \\\n0   50002  Pitt_0050002        16.77    1          1         1   \n1   50003  Pitt_0050003        24.45    1          1         1   \n2   50004  Pitt_0050004        19.09    1          1         1   \n3   50005  Pitt_0050005        13.73    2          1         1   \n4   50006  Pitt_0050006        13.37    1          1         1   \n\n                         FMRI_FILES                       CC200  \\\n0  Pitt_0050002_func_preproc.nii.gz  Pitt_0050002_rois_cc200.1D   \n1  Pitt_0050003_func_preproc.nii.gz  Pitt_0050003_rois_cc200.1D   \n2  Pitt_0050004_func_preproc.nii.gz  Pitt_0050004_rois_cc200.1D   \n3  Pitt_0050005_func_preproc.nii.gz  Pitt_0050005_rois_cc200.1D   \n4  Pitt_0050006_func_preproc.nii.gz  Pitt_0050006_rois_cc200.1D   \n\n         DFC_DATA_STORE  \n0  Pitt_0050002_dfc.pkl  \n1  Pitt_0050003_dfc.pkl  \n2  Pitt_0050004_dfc.pkl  \n3  Pitt_0050005_dfc.pkl  \n4  Pitt_0050006_dfc.pkl  ",
      "text/html": "<div>\n<style scoped>\n    .dataframe tbody tr th:only-of-type {\n        vertical-align: middle;\n    }\n\n    .dataframe tbody tr th {\n        vertical-align: top;\n    }\n\n    .dataframe thead th {\n        text-align: right;\n    }\n</style>\n<table border=\"1\" class=\"dataframe\">\n  <thead>\n    <tr style=\"text-align: right;\">\n      <th></th>\n      <th>SUB_ID</th>\n      <th>FILE_ID</th>\n      <th>AGE_AT_SCAN</th>\n      <th>SEX</th>\n      <th>DSM_IV_TR</th>\n      <th>DX_GROUP</th>\n      <th>FMRI_FILES</th>\n      <th>CC200</th>\n      <th>DFC_DATA_STORE</th>\n    </tr>\n  </thead>\n  <tbody>\n    <tr>\n      <th>0</th>\n      <td>50002</td>\n      <td>Pitt_0050002</td>\n      <td>16.77</td>\n      <td>1</td>\n      <td>1</td>\n      <td>1</td>\n      <td>Pitt_0050002_func_preproc.nii.gz</td>\n      <td>Pitt_0050002_rois_cc200.1D</td>\n      <td>Pitt_0050002_dfc.pkl</td>\n    </tr>\n    <tr>\n      <th>1</th>\n      <td>50003</td>\n      <td>Pitt_0050003</td>\n      <td>24.45</td>\n      <td>1</td>\n      <td>1</td>\n      <td>1</td>\n      <td>Pitt_0050003_func_preproc.nii.gz</td>\n      <td>Pitt_0050003_rois_cc200.1D</td>\n      <td>Pitt_0050003_dfc.pkl</td>\n    </tr>\n    <tr>\n      <th>2</th>\n      <td>50004</td>\n      <td>Pitt_0050004</td>\n      <td>19.09</td>\n      <td>1</td>\n      <td>1</td>\n      <td>1</td>\n      <td>Pitt_0050004_func_preproc.nii.gz</td>\n      <td>Pitt_0050004_rois_cc200.1D</td>\n      <td>Pitt_0050004_dfc.pkl</td>\n    </tr>\n    <tr>\n      <th>3</th>\n      <td>50005</td>\n      <td>Pitt_0050005</td>\n      <td>13.73</td>\n      <td>2</td>\n      <td>1</td>\n      <td>1</td>\n      <td>Pitt_0050005_func_preproc.nii.gz</td>\n      <td>Pitt_0050005_rois_cc200.1D</td>\n      <td>Pitt_0050005_dfc.pkl</td>\n    </tr>\n    <tr>\n      <th>4</th>\n      <td>50006</td>\n      <td>Pitt_0050006</td>\n      <td>13.37</td>\n      <td>1</td>\n      <td>1</td>\n      <td>1</td>\n      <td>Pitt_0050006_func_preproc.nii.gz</td>\n      <td>Pitt_0050006_rois_cc200.1D</td>\n      <td>Pitt_0050006_dfc.pkl</td>\n    </tr>\n  </tbody>\n</table>\n</div>"
     },
     "execution_count": 4,
     "metadata": {},
     "output_type": "execute_result"
    }
   ],
   "source": [
    "df.head()"
   ],
   "metadata": {
    "collapsed": false,
    "pycharm": {
     "name": "#%%\n"
    }
   }
  },
  {
   "cell_type": "markdown",
   "source": [
    "# check for null values"
   ],
   "metadata": {
    "collapsed": false,
    "pycharm": {
     "name": "#%% md\n"
    }
   }
  },
  {
   "cell_type": "code",
   "execution_count": 31,
   "outputs": [],
   "source": [
    "aal_files = [idx + '_rois_aal.1D' for idx in df.FILE_ID]"
   ],
   "metadata": {
    "collapsed": false,
    "pycharm": {
     "name": "#%%\n"
    }
   }
  },
  {
   "cell_type": "code",
   "execution_count": null,
   "outputs": [],
   "source": [
    "fetch =FetchROI(aal_dir)"
   ],
   "metadata": {
    "collapsed": false,
    "pycharm": {
     "name": "#%%\n"
    }
   }
  },
  {
   "cell_type": "code",
   "execution_count": 27,
   "outputs": [],
   "source": [
    "null_file = {}\n",
    "for i,file in enumerate(aal_files):\n",
    "    data = fetch.fetch_roi_avg_ts(file)\n",
    "    for f in data.columns:\n",
    "        val_l = len(data[f].unique())\n",
    "        if val_l == 1:\n",
    "            null_file[file] = data[f].unique()"
   ],
   "metadata": {
    "collapsed": false,
    "pycharm": {
     "name": "#%%\n"
    }
   }
  },
  {
   "cell_type": "code",
   "execution_count": 53,
   "outputs": [
    {
     "data": {
      "text/plain": "88"
     },
     "execution_count": 53,
     "metadata": {},
     "output_type": "execute_result"
    }
   ],
   "source": [
    "len(null_file)"
   ],
   "metadata": {
    "collapsed": false,
    "pycharm": {
     "name": "#%%\n"
    }
   }
  },
  {
   "cell_type": "code",
   "execution_count": 51,
   "outputs": [],
   "source": [
    "null_idx = []\n",
    "for i,file in enumerate(aal_files):\n",
    "    data = fetch.fetch_roi_avg_ts(file)\n",
    "    null = []\n",
    "    for f in data.columns:\n",
    "        val_l = len(data[f].unique())\n",
    "        if val_l == 1:\n",
    "            null.append(1)\n",
    "    if len(null)> 0:\n",
    "        null_idx.append(i)"
   ],
   "metadata": {
    "collapsed": false,
    "pycharm": {
     "name": "#%%\n"
    }
   }
  },
  {
   "cell_type": "code",
   "execution_count": 54,
   "outputs": [
    {
     "data": {
      "text/plain": "88"
     },
     "execution_count": 54,
     "metadata": {},
     "output_type": "execute_result"
    }
   ],
   "source": [
    "len(null_idx)"
   ],
   "metadata": {
    "collapsed": false,
    "pycharm": {
     "name": "#%%\n"
    }
   }
  },
  {
   "cell_type": "code",
   "execution_count": 55,
   "outputs": [
    {
     "data": {
      "text/plain": "      SUB_ID       FILE_ID  AGE_AT_SCAN  SEX  DSM_IV_TR  DX_GROUP  \\\n2      50004  Pitt_0050004        19.09    1          1         1   \n5      50007  Pitt_0050007        17.78    1          1         1   \n9      50011  Pitt_0050011        16.93    1          1         1   \n14     50016  Pitt_0050016        21.82    1          1         1   \n15     50017  Pitt_0050017        22.70    1          1         1   \n...      ...           ...          ...  ...        ...       ...   \n1066   51580   SBL_0051580        42.00    1          3         1   \n1068   51582   SBL_0051582        31.00    1          2         1   \n1069   51583   SBL_0051583        35.00    1          2         1   \n1070   51584   SBL_0051584        49.00    1          2         1   \n1071   51585   SBL_0051585        27.00    1          1         1   \n\n                            FMRI_FILES                       CC200  \\\n2     Pitt_0050004_func_preproc.nii.gz  Pitt_0050004_rois_cc200.1D   \n5     Pitt_0050007_func_preproc.nii.gz  Pitt_0050007_rois_cc200.1D   \n9     Pitt_0050011_func_preproc.nii.gz  Pitt_0050011_rois_cc200.1D   \n14    Pitt_0050016_func_preproc.nii.gz  Pitt_0050016_rois_cc200.1D   \n15    Pitt_0050017_func_preproc.nii.gz  Pitt_0050017_rois_cc200.1D   \n...                                ...                         ...   \n1066   SBL_0051580_func_preproc.nii.gz   SBL_0051580_rois_cc200.1D   \n1068   SBL_0051582_func_preproc.nii.gz   SBL_0051582_rois_cc200.1D   \n1069   SBL_0051583_func_preproc.nii.gz   SBL_0051583_rois_cc200.1D   \n1070   SBL_0051584_func_preproc.nii.gz   SBL_0051584_rois_cc200.1D   \n1071   SBL_0051585_func_preproc.nii.gz   SBL_0051585_rois_cc200.1D   \n\n            DFC_DATA_STORE  \n2     Pitt_0050004_dfc.pkl  \n5     Pitt_0050007_dfc.pkl  \n9     Pitt_0050011_dfc.pkl  \n14    Pitt_0050016_dfc.pkl  \n15    Pitt_0050017_dfc.pkl  \n...                    ...  \n1066   SBL_0051580_dfc.pkl  \n1068   SBL_0051582_dfc.pkl  \n1069   SBL_0051583_dfc.pkl  \n1070   SBL_0051584_dfc.pkl  \n1071   SBL_0051585_dfc.pkl  \n\n[88 rows x 9 columns]",
      "text/html": "<div>\n<style scoped>\n    .dataframe tbody tr th:only-of-type {\n        vertical-align: middle;\n    }\n\n    .dataframe tbody tr th {\n        vertical-align: top;\n    }\n\n    .dataframe thead th {\n        text-align: right;\n    }\n</style>\n<table border=\"1\" class=\"dataframe\">\n  <thead>\n    <tr style=\"text-align: right;\">\n      <th></th>\n      <th>SUB_ID</th>\n      <th>FILE_ID</th>\n      <th>AGE_AT_SCAN</th>\n      <th>SEX</th>\n      <th>DSM_IV_TR</th>\n      <th>DX_GROUP</th>\n      <th>FMRI_FILES</th>\n      <th>CC200</th>\n      <th>DFC_DATA_STORE</th>\n    </tr>\n  </thead>\n  <tbody>\n    <tr>\n      <th>2</th>\n      <td>50004</td>\n      <td>Pitt_0050004</td>\n      <td>19.09</td>\n      <td>1</td>\n      <td>1</td>\n      <td>1</td>\n      <td>Pitt_0050004_func_preproc.nii.gz</td>\n      <td>Pitt_0050004_rois_cc200.1D</td>\n      <td>Pitt_0050004_dfc.pkl</td>\n    </tr>\n    <tr>\n      <th>5</th>\n      <td>50007</td>\n      <td>Pitt_0050007</td>\n      <td>17.78</td>\n      <td>1</td>\n      <td>1</td>\n      <td>1</td>\n      <td>Pitt_0050007_func_preproc.nii.gz</td>\n      <td>Pitt_0050007_rois_cc200.1D</td>\n      <td>Pitt_0050007_dfc.pkl</td>\n    </tr>\n    <tr>\n      <th>9</th>\n      <td>50011</td>\n      <td>Pitt_0050011</td>\n      <td>16.93</td>\n      <td>1</td>\n      <td>1</td>\n      <td>1</td>\n      <td>Pitt_0050011_func_preproc.nii.gz</td>\n      <td>Pitt_0050011_rois_cc200.1D</td>\n      <td>Pitt_0050011_dfc.pkl</td>\n    </tr>\n    <tr>\n      <th>14</th>\n      <td>50016</td>\n      <td>Pitt_0050016</td>\n      <td>21.82</td>\n      <td>1</td>\n      <td>1</td>\n      <td>1</td>\n      <td>Pitt_0050016_func_preproc.nii.gz</td>\n      <td>Pitt_0050016_rois_cc200.1D</td>\n      <td>Pitt_0050016_dfc.pkl</td>\n    </tr>\n    <tr>\n      <th>15</th>\n      <td>50017</td>\n      <td>Pitt_0050017</td>\n      <td>22.70</td>\n      <td>1</td>\n      <td>1</td>\n      <td>1</td>\n      <td>Pitt_0050017_func_preproc.nii.gz</td>\n      <td>Pitt_0050017_rois_cc200.1D</td>\n      <td>Pitt_0050017_dfc.pkl</td>\n    </tr>\n    <tr>\n      <th>...</th>\n      <td>...</td>\n      <td>...</td>\n      <td>...</td>\n      <td>...</td>\n      <td>...</td>\n      <td>...</td>\n      <td>...</td>\n      <td>...</td>\n      <td>...</td>\n    </tr>\n    <tr>\n      <th>1066</th>\n      <td>51580</td>\n      <td>SBL_0051580</td>\n      <td>42.00</td>\n      <td>1</td>\n      <td>3</td>\n      <td>1</td>\n      <td>SBL_0051580_func_preproc.nii.gz</td>\n      <td>SBL_0051580_rois_cc200.1D</td>\n      <td>SBL_0051580_dfc.pkl</td>\n    </tr>\n    <tr>\n      <th>1068</th>\n      <td>51582</td>\n      <td>SBL_0051582</td>\n      <td>31.00</td>\n      <td>1</td>\n      <td>2</td>\n      <td>1</td>\n      <td>SBL_0051582_func_preproc.nii.gz</td>\n      <td>SBL_0051582_rois_cc200.1D</td>\n      <td>SBL_0051582_dfc.pkl</td>\n    </tr>\n    <tr>\n      <th>1069</th>\n      <td>51583</td>\n      <td>SBL_0051583</td>\n      <td>35.00</td>\n      <td>1</td>\n      <td>2</td>\n      <td>1</td>\n      <td>SBL_0051583_func_preproc.nii.gz</td>\n      <td>SBL_0051583_rois_cc200.1D</td>\n      <td>SBL_0051583_dfc.pkl</td>\n    </tr>\n    <tr>\n      <th>1070</th>\n      <td>51584</td>\n      <td>SBL_0051584</td>\n      <td>49.00</td>\n      <td>1</td>\n      <td>2</td>\n      <td>1</td>\n      <td>SBL_0051584_func_preproc.nii.gz</td>\n      <td>SBL_0051584_rois_cc200.1D</td>\n      <td>SBL_0051584_dfc.pkl</td>\n    </tr>\n    <tr>\n      <th>1071</th>\n      <td>51585</td>\n      <td>SBL_0051585</td>\n      <td>27.00</td>\n      <td>1</td>\n      <td>1</td>\n      <td>1</td>\n      <td>SBL_0051585_func_preproc.nii.gz</td>\n      <td>SBL_0051585_rois_cc200.1D</td>\n      <td>SBL_0051585_dfc.pkl</td>\n    </tr>\n  </tbody>\n</table>\n<p>88 rows × 9 columns</p>\n</div>"
     },
     "execution_count": 55,
     "metadata": {},
     "output_type": "execute_result"
    }
   ],
   "source": [
    "df.iloc[null_idx,:]"
   ],
   "metadata": {
    "collapsed": false,
    "pycharm": {
     "name": "#%%\n"
    }
   }
  },
  {
   "cell_type": "markdown",
   "source": [
    "88 subjects contain all missing values in atleast one roi time series, these 88 shall be elimnated"
   ],
   "metadata": {
    "collapsed": false,
    "pycharm": {
     "name": "#%% md\n"
    }
   }
  },
  {
   "cell_type": "code",
   "execution_count": 56,
   "outputs": [],
   "source": [
    "aal_nn = df.drop(null_idx)"
   ],
   "metadata": {
    "collapsed": false,
    "pycharm": {
     "name": "#%%\n"
    }
   }
  },
  {
   "cell_type": "code",
   "execution_count": 57,
   "outputs": [],
   "source": [
    "aal_nn.reset_index(inplace=True,drop=True)"
   ],
   "metadata": {
    "collapsed": false,
    "pycharm": {
     "name": "#%%\n"
    }
   }
  },
  {
   "cell_type": "code",
   "execution_count": 58,
   "outputs": [],
   "source": [
    "nn_save_path = os.path.join(pheno_dir, 'aal_nn.csv')"
   ],
   "metadata": {
    "collapsed": false,
    "pycharm": {
     "name": "#%%\n"
    }
   }
  },
  {
   "cell_type": "code",
   "execution_count": 59,
   "outputs": [],
   "source": [
    "aal_nn.to_csv(nn_save_path, index= False)"
   ],
   "metadata": {
    "collapsed": false,
    "pycharm": {
     "name": "#%%\n"
    }
   }
  },
  {
   "cell_type": "code",
   "execution_count": 60,
   "outputs": [
    {
     "data": {
      "text/plain": "     SUB_ID           FILE_ID  AGE_AT_SCAN  SEX  DSM_IV_TR  DX_GROUP  \\\n0     50002      Pitt_0050002        16.77    1          1         1   \n1     50003      Pitt_0050003        24.45    1          1         1   \n2     50005      Pitt_0050005        13.73    2          1         1   \n3     50006      Pitt_0050006        13.37    1          1         1   \n4     50008      Pitt_0050008        32.45    1          1         1   \n..      ...               ...          ...  ...        ...       ...   \n981   51574       SBL_0051574        30.00    1          2         1   \n982   51576       SBL_0051576        31.00    1          3         1   \n983   51581       SBL_0051581        64.00    1          3         1   \n984   51606  MaxMun_a_0051606        29.00    2          2         1   \n985   51607  MaxMun_a_0051607        26.00    1          2         1   \n\n                               FMRI_FILES                           CC200  \\\n0        Pitt_0050002_func_preproc.nii.gz      Pitt_0050002_rois_cc200.1D   \n1        Pitt_0050003_func_preproc.nii.gz      Pitt_0050003_rois_cc200.1D   \n2        Pitt_0050005_func_preproc.nii.gz      Pitt_0050005_rois_cc200.1D   \n3        Pitt_0050006_func_preproc.nii.gz      Pitt_0050006_rois_cc200.1D   \n4        Pitt_0050008_func_preproc.nii.gz      Pitt_0050008_rois_cc200.1D   \n..                                    ...                             ...   \n981       SBL_0051574_func_preproc.nii.gz       SBL_0051574_rois_cc200.1D   \n982       SBL_0051576_func_preproc.nii.gz       SBL_0051576_rois_cc200.1D   \n983       SBL_0051581_func_preproc.nii.gz       SBL_0051581_rois_cc200.1D   \n984  MaxMun_a_0051606_func_preproc.nii.gz  MaxMun_a_0051606_rois_cc200.1D   \n985  MaxMun_a_0051607_func_preproc.nii.gz  MaxMun_a_0051607_rois_cc200.1D   \n\n               DFC_DATA_STORE  \n0        Pitt_0050002_dfc.pkl  \n1        Pitt_0050003_dfc.pkl  \n2        Pitt_0050005_dfc.pkl  \n3        Pitt_0050006_dfc.pkl  \n4        Pitt_0050008_dfc.pkl  \n..                        ...  \n981       SBL_0051574_dfc.pkl  \n982       SBL_0051576_dfc.pkl  \n983       SBL_0051581_dfc.pkl  \n984  MaxMun_a_0051606_dfc.pkl  \n985  MaxMun_a_0051607_dfc.pkl  \n\n[986 rows x 9 columns]",
      "text/html": "<div>\n<style scoped>\n    .dataframe tbody tr th:only-of-type {\n        vertical-align: middle;\n    }\n\n    .dataframe tbody tr th {\n        vertical-align: top;\n    }\n\n    .dataframe thead th {\n        text-align: right;\n    }\n</style>\n<table border=\"1\" class=\"dataframe\">\n  <thead>\n    <tr style=\"text-align: right;\">\n      <th></th>\n      <th>SUB_ID</th>\n      <th>FILE_ID</th>\n      <th>AGE_AT_SCAN</th>\n      <th>SEX</th>\n      <th>DSM_IV_TR</th>\n      <th>DX_GROUP</th>\n      <th>FMRI_FILES</th>\n      <th>CC200</th>\n      <th>DFC_DATA_STORE</th>\n    </tr>\n  </thead>\n  <tbody>\n    <tr>\n      <th>0</th>\n      <td>50002</td>\n      <td>Pitt_0050002</td>\n      <td>16.77</td>\n      <td>1</td>\n      <td>1</td>\n      <td>1</td>\n      <td>Pitt_0050002_func_preproc.nii.gz</td>\n      <td>Pitt_0050002_rois_cc200.1D</td>\n      <td>Pitt_0050002_dfc.pkl</td>\n    </tr>\n    <tr>\n      <th>1</th>\n      <td>50003</td>\n      <td>Pitt_0050003</td>\n      <td>24.45</td>\n      <td>1</td>\n      <td>1</td>\n      <td>1</td>\n      <td>Pitt_0050003_func_preproc.nii.gz</td>\n      <td>Pitt_0050003_rois_cc200.1D</td>\n      <td>Pitt_0050003_dfc.pkl</td>\n    </tr>\n    <tr>\n      <th>2</th>\n      <td>50005</td>\n      <td>Pitt_0050005</td>\n      <td>13.73</td>\n      <td>2</td>\n      <td>1</td>\n      <td>1</td>\n      <td>Pitt_0050005_func_preproc.nii.gz</td>\n      <td>Pitt_0050005_rois_cc200.1D</td>\n      <td>Pitt_0050005_dfc.pkl</td>\n    </tr>\n    <tr>\n      <th>3</th>\n      <td>50006</td>\n      <td>Pitt_0050006</td>\n      <td>13.37</td>\n      <td>1</td>\n      <td>1</td>\n      <td>1</td>\n      <td>Pitt_0050006_func_preproc.nii.gz</td>\n      <td>Pitt_0050006_rois_cc200.1D</td>\n      <td>Pitt_0050006_dfc.pkl</td>\n    </tr>\n    <tr>\n      <th>4</th>\n      <td>50008</td>\n      <td>Pitt_0050008</td>\n      <td>32.45</td>\n      <td>1</td>\n      <td>1</td>\n      <td>1</td>\n      <td>Pitt_0050008_func_preproc.nii.gz</td>\n      <td>Pitt_0050008_rois_cc200.1D</td>\n      <td>Pitt_0050008_dfc.pkl</td>\n    </tr>\n    <tr>\n      <th>...</th>\n      <td>...</td>\n      <td>...</td>\n      <td>...</td>\n      <td>...</td>\n      <td>...</td>\n      <td>...</td>\n      <td>...</td>\n      <td>...</td>\n      <td>...</td>\n    </tr>\n    <tr>\n      <th>981</th>\n      <td>51574</td>\n      <td>SBL_0051574</td>\n      <td>30.00</td>\n      <td>1</td>\n      <td>2</td>\n      <td>1</td>\n      <td>SBL_0051574_func_preproc.nii.gz</td>\n      <td>SBL_0051574_rois_cc200.1D</td>\n      <td>SBL_0051574_dfc.pkl</td>\n    </tr>\n    <tr>\n      <th>982</th>\n      <td>51576</td>\n      <td>SBL_0051576</td>\n      <td>31.00</td>\n      <td>1</td>\n      <td>3</td>\n      <td>1</td>\n      <td>SBL_0051576_func_preproc.nii.gz</td>\n      <td>SBL_0051576_rois_cc200.1D</td>\n      <td>SBL_0051576_dfc.pkl</td>\n    </tr>\n    <tr>\n      <th>983</th>\n      <td>51581</td>\n      <td>SBL_0051581</td>\n      <td>64.00</td>\n      <td>1</td>\n      <td>3</td>\n      <td>1</td>\n      <td>SBL_0051581_func_preproc.nii.gz</td>\n      <td>SBL_0051581_rois_cc200.1D</td>\n      <td>SBL_0051581_dfc.pkl</td>\n    </tr>\n    <tr>\n      <th>984</th>\n      <td>51606</td>\n      <td>MaxMun_a_0051606</td>\n      <td>29.00</td>\n      <td>2</td>\n      <td>2</td>\n      <td>1</td>\n      <td>MaxMun_a_0051606_func_preproc.nii.gz</td>\n      <td>MaxMun_a_0051606_rois_cc200.1D</td>\n      <td>MaxMun_a_0051606_dfc.pkl</td>\n    </tr>\n    <tr>\n      <th>985</th>\n      <td>51607</td>\n      <td>MaxMun_a_0051607</td>\n      <td>26.00</td>\n      <td>1</td>\n      <td>2</td>\n      <td>1</td>\n      <td>MaxMun_a_0051607_func_preproc.nii.gz</td>\n      <td>MaxMun_a_0051607_rois_cc200.1D</td>\n      <td>MaxMun_a_0051607_dfc.pkl</td>\n    </tr>\n  </tbody>\n</table>\n<p>986 rows × 9 columns</p>\n</div>"
     },
     "execution_count": 60,
     "metadata": {},
     "output_type": "execute_result"
    }
   ],
   "source": [
    "pd.read_csv(nn_save_path)"
   ],
   "metadata": {
    "collapsed": false,
    "pycharm": {
     "name": "#%%\n"
    }
   }
  },
  {
   "cell_type": "code",
   "execution_count": null,
   "outputs": [],
   "source": [],
   "metadata": {
    "collapsed": false,
    "pycharm": {
     "name": "#%%\n"
    }
   }
  }
 ],
 "metadata": {
  "kernelspec": {
   "display_name": "Python 3",
   "language": "python",
   "name": "python3"
  },
  "language_info": {
   "codemirror_mode": {
    "name": "ipython",
    "version": 2
   },
   "file_extension": ".py",
   "mimetype": "text/x-python",
   "name": "python",
   "nbconvert_exporter": "python",
   "pygments_lexer": "ipython2",
   "version": "2.7.6"
  }
 },
 "nbformat": 4,
 "nbformat_minor": 0
}