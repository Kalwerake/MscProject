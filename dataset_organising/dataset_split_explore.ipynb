{
 "cells": [
  {
   "cell_type": "markdown",
   "metadata": {
    "pycharm": {
     "name": "#%% md\n"
    }
   },
   "source": [
    "## Splitting data into train and test folders"
   ]
  },
  {
   "cell_type": "code",
   "execution_count": 2,
   "metadata": {
    "collapsed": true
   },
   "outputs": [],
   "source": [
    "import os\n",
    "import pandas as pd\n",
    "from sklearn.model_selection import train_test_split\n",
    "import matplotlib.pyplot as plt\n",
    "import seaborn as sns"
   ]
  },
  {
   "cell_type": "code",
   "execution_count": 4,
   "metadata": {
    "pycharm": {
     "name": "#%%\n"
    }
   },
   "outputs": [],
   "source": [
    "parent_dir =os.path.dirname(os.getcwd())\n",
    "pheno_dir = os.path.join(parent_dir, 'phenotype_files')\n",
    "df_path = os.path.join(pheno_dir, 'pheno_clean.csv')"
   ]
  },
  {
   "cell_type": "code",
   "execution_count": 7,
   "metadata": {
    "pycharm": {
     "name": "#%%\n"
    }
   },
   "outputs": [
    {
     "name": "stdout",
     "output_type": "stream",
     "text": [
      "Stored 'parent_dir' (str)\n",
      "Stored 'pheno_dir' (str)\n",
      "Stored 'df_path' (str)\n"
     ]
    }
   ],
   "source": [
    "%store parent_dir\n",
    "%store pheno_dir\n",
    "%store df_path"
   ]
  },
  {
   "cell_type": "markdown",
   "metadata": {},
   "source": [
    "## Adding Multi-Class label and binarizing Target"
   ]
  },
  {
   "cell_type": "code",
   "execution_count": 8,
   "metadata": {
    "pycharm": {
     "name": "#%%\n"
    }
   },
   "outputs": [
    {
     "data": {
      "text/html": [
       "<div>\n",
       "<style scoped>\n",
       "    .dataframe tbody tr th:only-of-type {\n",
       "        vertical-align: middle;\n",
       "    }\n",
       "\n",
       "    .dataframe tbody tr th {\n",
       "        vertical-align: top;\n",
       "    }\n",
       "\n",
       "    .dataframe thead th {\n",
       "        text-align: right;\n",
       "    }\n",
       "</style>\n",
       "<table border=\"1\" class=\"dataframe\">\n",
       "  <thead>\n",
       "    <tr style=\"text-align: right;\">\n",
       "      <th></th>\n",
       "      <th>SUB_ID</th>\n",
       "      <th>FILE_ID</th>\n",
       "      <th>AGE_AT_SCAN</th>\n",
       "      <th>SEX</th>\n",
       "      <th>DSM_IV_TR</th>\n",
       "      <th>DX_GROUP</th>\n",
       "      <th>FMRI_FILES</th>\n",
       "      <th>CC200</th>\n",
       "      <th>DFC_DATA_STORE</th>\n",
       "    </tr>\n",
       "  </thead>\n",
       "  <tbody>\n",
       "    <tr>\n",
       "      <th>0</th>\n",
       "      <td>50002</td>\n",
       "      <td>Pitt_0050002</td>\n",
       "      <td>16.77</td>\n",
       "      <td>1</td>\n",
       "      <td>1</td>\n",
       "      <td>1</td>\n",
       "      <td>Pitt_0050002_func_preproc.nii.gz</td>\n",
       "      <td>Pitt_0050002_rois_cc200.1D</td>\n",
       "      <td>Pitt_0050002_dfc.pkl</td>\n",
       "    </tr>\n",
       "    <tr>\n",
       "      <th>1</th>\n",
       "      <td>50003</td>\n",
       "      <td>Pitt_0050003</td>\n",
       "      <td>24.45</td>\n",
       "      <td>1</td>\n",
       "      <td>1</td>\n",
       "      <td>1</td>\n",
       "      <td>Pitt_0050003_func_preproc.nii.gz</td>\n",
       "      <td>Pitt_0050003_rois_cc200.1D</td>\n",
       "      <td>Pitt_0050003_dfc.pkl</td>\n",
       "    </tr>\n",
       "    <tr>\n",
       "      <th>2</th>\n",
       "      <td>50004</td>\n",
       "      <td>Pitt_0050004</td>\n",
       "      <td>19.09</td>\n",
       "      <td>1</td>\n",
       "      <td>1</td>\n",
       "      <td>1</td>\n",
       "      <td>Pitt_0050004_func_preproc.nii.gz</td>\n",
       "      <td>Pitt_0050004_rois_cc200.1D</td>\n",
       "      <td>Pitt_0050004_dfc.pkl</td>\n",
       "    </tr>\n",
       "    <tr>\n",
       "      <th>3</th>\n",
       "      <td>50005</td>\n",
       "      <td>Pitt_0050005</td>\n",
       "      <td>13.73</td>\n",
       "      <td>2</td>\n",
       "      <td>1</td>\n",
       "      <td>1</td>\n",
       "      <td>Pitt_0050005_func_preproc.nii.gz</td>\n",
       "      <td>Pitt_0050005_rois_cc200.1D</td>\n",
       "      <td>Pitt_0050005_dfc.pkl</td>\n",
       "    </tr>\n",
       "    <tr>\n",
       "      <th>4</th>\n",
       "      <td>50006</td>\n",
       "      <td>Pitt_0050006</td>\n",
       "      <td>13.37</td>\n",
       "      <td>1</td>\n",
       "      <td>1</td>\n",
       "      <td>1</td>\n",
       "      <td>Pitt_0050006_func_preproc.nii.gz</td>\n",
       "      <td>Pitt_0050006_rois_cc200.1D</td>\n",
       "      <td>Pitt_0050006_dfc.pkl</td>\n",
       "    </tr>\n",
       "  </tbody>\n",
       "</table>\n",
       "</div>"
      ],
      "text/plain": [
       "   SUB_ID       FILE_ID  AGE_AT_SCAN  SEX  DSM_IV_TR  DX_GROUP  \\\n",
       "0   50002  Pitt_0050002        16.77    1          1         1   \n",
       "1   50003  Pitt_0050003        24.45    1          1         1   \n",
       "2   50004  Pitt_0050004        19.09    1          1         1   \n",
       "3   50005  Pitt_0050005        13.73    2          1         1   \n",
       "4   50006  Pitt_0050006        13.37    1          1         1   \n",
       "\n",
       "                         FMRI_FILES                       CC200  \\\n",
       "0  Pitt_0050002_func_preproc.nii.gz  Pitt_0050002_rois_cc200.1D   \n",
       "1  Pitt_0050003_func_preproc.nii.gz  Pitt_0050003_rois_cc200.1D   \n",
       "2  Pitt_0050004_func_preproc.nii.gz  Pitt_0050004_rois_cc200.1D   \n",
       "3  Pitt_0050005_func_preproc.nii.gz  Pitt_0050005_rois_cc200.1D   \n",
       "4  Pitt_0050006_func_preproc.nii.gz  Pitt_0050006_rois_cc200.1D   \n",
       "\n",
       "         DFC_DATA_STORE  \n",
       "0  Pitt_0050002_dfc.pkl  \n",
       "1  Pitt_0050003_dfc.pkl  \n",
       "2  Pitt_0050004_dfc.pkl  \n",
       "3  Pitt_0050005_dfc.pkl  \n",
       "4  Pitt_0050006_dfc.pkl  "
      ]
     },
     "execution_count": 8,
     "metadata": {},
     "output_type": "execute_result"
    }
   ],
   "source": [
    "df = pd.read_csv(df_path) # read phenotype file\n",
    "df.head()"
   ]
  },
  {
   "cell_type": "code",
   "execution_count": 29,
   "metadata": {
    "pycharm": {
     "name": "#%%\n"
    }
   },
   "outputs": [
    {
     "data": {
      "text/html": [
       "<div>\n",
       "<style scoped>\n",
       "    .dataframe tbody tr th:only-of-type {\n",
       "        vertical-align: middle;\n",
       "    }\n",
       "\n",
       "    .dataframe tbody tr th {\n",
       "        vertical-align: top;\n",
       "    }\n",
       "\n",
       "    .dataframe thead th {\n",
       "        text-align: right;\n",
       "    }\n",
       "</style>\n",
       "<table border=\"1\" class=\"dataframe\">\n",
       "  <thead>\n",
       "    <tr style=\"text-align: right;\">\n",
       "      <th></th>\n",
       "      <th>FILE_ID</th>\n",
       "      <th>DSM_IV_TR</th>\n",
       "      <th>DX_GROUP</th>\n",
       "    </tr>\n",
       "  </thead>\n",
       "  <tbody>\n",
       "    <tr>\n",
       "      <th>0</th>\n",
       "      <td>Pitt_0050002</td>\n",
       "      <td>1</td>\n",
       "      <td>1</td>\n",
       "    </tr>\n",
       "    <tr>\n",
       "      <th>1</th>\n",
       "      <td>Pitt_0050003</td>\n",
       "      <td>1</td>\n",
       "      <td>1</td>\n",
       "    </tr>\n",
       "    <tr>\n",
       "      <th>2</th>\n",
       "      <td>Pitt_0050004</td>\n",
       "      <td>1</td>\n",
       "      <td>1</td>\n",
       "    </tr>\n",
       "    <tr>\n",
       "      <th>3</th>\n",
       "      <td>Pitt_0050005</td>\n",
       "      <td>1</td>\n",
       "      <td>1</td>\n",
       "    </tr>\n",
       "    <tr>\n",
       "      <th>4</th>\n",
       "      <td>Pitt_0050006</td>\n",
       "      <td>1</td>\n",
       "      <td>1</td>\n",
       "    </tr>\n",
       "  </tbody>\n",
       "</table>\n",
       "</div>"
      ],
      "text/plain": [
       "        FILE_ID  DSM_IV_TR  DX_GROUP\n",
       "0  Pitt_0050002          1         1\n",
       "1  Pitt_0050003          1         1\n",
       "2  Pitt_0050004          1         1\n",
       "3  Pitt_0050005          1         1\n",
       "4  Pitt_0050006          1         1"
      ]
     },
     "execution_count": 29,
     "metadata": {},
     "output_type": "execute_result"
    }
   ],
   "source": [
    "df= df.loc[:,['FILE_ID','DSM_IV_TR','DX_GROUP']] # these columns are needed, the file ID and the two targets, binary: DX_Group, and Multi Class DSM_IV_TR\n",
    "df.head()"
   ]
  },
  {
   "cell_type": "markdown",
   "metadata": {
    "pycharm": {
     "name": "#%% md\n"
    }
   },
   "source": [
    "#### Target Classes\n",
    "##### Binary : `DX_GROUP`\n",
    "- 1: Autism\n",
    "- 2: Control\n",
    "\n",
    "##### Multi-class: `DSM_IV_TR`\n",
    "- 0: Control\n",
    "- 1: Autism\n",
    "- 2: Aspergers\n",
    "- 3: PDD-NOS (Pervasive Developmental Disorder-Not Otherwise Specified)\n",
    "- 4: Aspergers or PDD-NOS"
   ]
  },
  {
   "cell_type": "code",
   "execution_count": 205,
   "metadata": {
    "pycharm": {
     "name": "#%%\n"
    }
   },
   "outputs": [],
   "source": [
    "bin_labels = ['Autism','Control']\n",
    "mult_labels = ['Nan','Control','Autism','Aspergers', 'PDD-NOS','Aspergers/PDD']"
   ]
  },
  {
   "cell_type": "code",
   "execution_count": 206,
   "metadata": {
    "pycharm": {
     "name": "#%%\n"
    }
   },
   "outputs": [
    {
     "name": "stdout",
     "output_type": "stream",
     "text": [
      "Stored 'bin_labels' (list)\n",
      "Stored 'mult_labels' (list)\n"
     ]
    }
   ],
   "source": [
    "%store bin_labels\n",
    "%store mult_labels"
   ]
  },
  {
   "cell_type": "code",
   "execution_count": 225,
   "metadata": {
    "pycharm": {
     "name": "#%%\n"
    }
   },
   "outputs": [
    {
     "data": {
      "image/png": "[encoded data removed]",
      "text/plain": [
       "<Figure size 640x480 with 2 Axes>"
      ]
     },
     "metadata": {},
     "output_type": "display_data"
    }
   ],
   "source": [
    "fig, (axis1,axis0) = plt.subplots(nrows=1,ncols=2)\n",
    "axis0 = sns.countplot(df, x = 'DX_GROUP')\n",
    "axis1 = sns.countplot(df, x = 'DSM_IV_TR')\n",
    "plt.show()\n",
    "plt.show()"
   ]
  },
  {
   "cell_type": "markdown",
   "metadata": {
    "pycharm": {
     "name": "#%% md\n"
    }
   },
   "source": [
    "Target classes are balanced, a 0.2 train/test split will be carried out using scikit-learn's train_test_split module\n",
    "The multi-class labels are problematic the -9999 class is not mentioned in the ABIDE dataset details, and the classes are heavily unbalanced."
   ]
  },
  {
   "cell_type": "markdown",
   "metadata": {
    "pycharm": {
     "name": "#%% md\n"
    }
   },
   "source": [
    "### What's happening with -9999 in DSM_IV_TR?"
   ]
  },
  {
   "cell_type": "code",
   "execution_count": 95,
   "metadata": {
    "pycharm": {
     "name": "#%%\n"
    }
   },
   "outputs": [],
   "source": [
    "check_df = df[['FILE_ID','DX_GROUP', 'DSM_IV_TR']]"
   ]
  },
  {
   "cell_type": "code",
   "execution_count": 107,
   "metadata": {
    "pycharm": {
     "name": "#%%\n"
    }
   },
   "outputs": [
    {
     "data": {
      "text/plain": [
       "'Pitt_0050002'"
      ]
     },
     "execution_count": 107,
     "metadata": {},
     "output_type": "execute_result"
    }
   ],
   "source": [
    "check_df.loc[0, 'FILE_ID']\n",
    "len(_0050002)"
   ]
  },
  {
   "cell_type": "code",
   "execution_count": 117,
   "metadata": {
    "pycharm": {
     "name": "#%%\n"
    }
   },
   "outputs": [
    {
     "data": {
      "text/plain": [
       "8"
      ]
     },
     "execution_count": 117,
     "metadata": {},
     "output_type": "execute_result"
    }
   ],
   "source": [
    "len('_0050002') #length of subject id string"
   ]
  },
  {
   "cell_type": "code",
   "execution_count": 120,
   "metadata": {
    "pycharm": {
     "name": "#%%\n"
    }
   },
   "outputs": [
    {
     "name": "stderr",
     "output_type": "stream",
     "text": [
      "/var/folders/0k/w62sf0c17hs15h730mmdkmj40000gn/T/ipykernel_811/3830846138.py:3: SettingWithCopyWarning: \n",
      "A value is trying to be set on a copy of a slice from a DataFrame.\n",
      "Try using .loc[row_indexer,col_indexer] = value instead\n",
      "\n",
      "See the caveats in the documentation: https://pandas.pydata.org/pandas-docs/stable/user_guide/indexing.html#returning-a-view-versus-a-copy\n",
      "  non_standard['SITE'] = site # add site ids to the non_stadard dataframe\n"
     ]
    },
    {
     "data": {
      "text/html": [
       "<div>\n",
       "<style scoped>\n",
       "    .dataframe tbody tr th:only-of-type {\n",
       "        vertical-align: middle;\n",
       "    }\n",
       "\n",
       "    .dataframe tbody tr th {\n",
       "        vertical-align: top;\n",
       "    }\n",
       "\n",
       "    .dataframe thead th {\n",
       "        text-align: right;\n",
       "    }\n",
       "</style>\n",
       "<table border=\"1\" class=\"dataframe\">\n",
       "  <thead>\n",
       "    <tr style=\"text-align: right;\">\n",
       "      <th></th>\n",
       "      <th>FILE_ID</th>\n",
       "      <th>DX_GROUP</th>\n",
       "      <th>DSM_IV_TR</th>\n",
       "      <th>SITE</th>\n",
       "    </tr>\n",
       "  </thead>\n",
       "  <tbody>\n",
       "    <tr>\n",
       "      <th>99</th>\n",
       "      <td>SDSU_0050188</td>\n",
       "      <td>1</td>\n",
       "      <td>-9999</td>\n",
       "      <td>SDSU</td>\n",
       "    </tr>\n",
       "    <tr>\n",
       "      <th>102</th>\n",
       "      <td>SDSU_0050191</td>\n",
       "      <td>1</td>\n",
       "      <td>-9999</td>\n",
       "      <td>SDSU</td>\n",
       "    </tr>\n",
       "    <tr>\n",
       "      <th>192</th>\n",
       "      <td>UM_1_0050297</td>\n",
       "      <td>1</td>\n",
       "      <td>-9999</td>\n",
       "      <td>UM_1</td>\n",
       "    </tr>\n",
       "    <tr>\n",
       "      <th>197</th>\n",
       "      <td>UM_1_0050302</td>\n",
       "      <td>1</td>\n",
       "      <td>-9999</td>\n",
       "      <td>UM_1</td>\n",
       "    </tr>\n",
       "    <tr>\n",
       "      <th>810</th>\n",
       "      <td>Stanford_0051160</td>\n",
       "      <td>1</td>\n",
       "      <td>-9999</td>\n",
       "      <td>Stanford</td>\n",
       "    </tr>\n",
       "    <tr>\n",
       "      <th>811</th>\n",
       "      <td>Stanford_0051161</td>\n",
       "      <td>1</td>\n",
       "      <td>-9999</td>\n",
       "      <td>Stanford</td>\n",
       "    </tr>\n",
       "    <tr>\n",
       "      <th>812</th>\n",
       "      <td>Stanford_0051162</td>\n",
       "      <td>1</td>\n",
       "      <td>-9999</td>\n",
       "      <td>Stanford</td>\n",
       "    </tr>\n",
       "    <tr>\n",
       "      <th>813</th>\n",
       "      <td>Stanford_0051163</td>\n",
       "      <td>1</td>\n",
       "      <td>-9999</td>\n",
       "      <td>Stanford</td>\n",
       "    </tr>\n",
       "    <tr>\n",
       "      <th>814</th>\n",
       "      <td>Stanford_0051164</td>\n",
       "      <td>1</td>\n",
       "      <td>-9999</td>\n",
       "      <td>Stanford</td>\n",
       "    </tr>\n",
       "    <tr>\n",
       "      <th>815</th>\n",
       "      <td>Stanford_0051165</td>\n",
       "      <td>1</td>\n",
       "      <td>-9999</td>\n",
       "      <td>Stanford</td>\n",
       "    </tr>\n",
       "    <tr>\n",
       "      <th>816</th>\n",
       "      <td>Stanford_0051166</td>\n",
       "      <td>1</td>\n",
       "      <td>-9999</td>\n",
       "      <td>Stanford</td>\n",
       "    </tr>\n",
       "    <tr>\n",
       "      <th>817</th>\n",
       "      <td>Stanford_0051167</td>\n",
       "      <td>1</td>\n",
       "      <td>-9999</td>\n",
       "      <td>Stanford</td>\n",
       "    </tr>\n",
       "    <tr>\n",
       "      <th>818</th>\n",
       "      <td>Stanford_0051168</td>\n",
       "      <td>1</td>\n",
       "      <td>-9999</td>\n",
       "      <td>Stanford</td>\n",
       "    </tr>\n",
       "    <tr>\n",
       "      <th>819</th>\n",
       "      <td>Stanford_0051169</td>\n",
       "      <td>1</td>\n",
       "      <td>-9999</td>\n",
       "      <td>Stanford</td>\n",
       "    </tr>\n",
       "    <tr>\n",
       "      <th>820</th>\n",
       "      <td>Stanford_0051170</td>\n",
       "      <td>1</td>\n",
       "      <td>-9999</td>\n",
       "      <td>Stanford</td>\n",
       "    </tr>\n",
       "    <tr>\n",
       "      <th>821</th>\n",
       "      <td>Stanford_0051171</td>\n",
       "      <td>1</td>\n",
       "      <td>-9999</td>\n",
       "      <td>Stanford</td>\n",
       "    </tr>\n",
       "    <tr>\n",
       "      <th>822</th>\n",
       "      <td>Stanford_0051172</td>\n",
       "      <td>1</td>\n",
       "      <td>-9999</td>\n",
       "      <td>Stanford</td>\n",
       "    </tr>\n",
       "    <tr>\n",
       "      <th>823</th>\n",
       "      <td>Stanford_0051173</td>\n",
       "      <td>1</td>\n",
       "      <td>-9999</td>\n",
       "      <td>Stanford</td>\n",
       "    </tr>\n",
       "    <tr>\n",
       "      <th>824</th>\n",
       "      <td>Stanford_0051174</td>\n",
       "      <td>1</td>\n",
       "      <td>-9999</td>\n",
       "      <td>Stanford</td>\n",
       "    </tr>\n",
       "    <tr>\n",
       "      <th>825</th>\n",
       "      <td>Stanford_0051175</td>\n",
       "      <td>1</td>\n",
       "      <td>-9999</td>\n",
       "      <td>Stanford</td>\n",
       "    </tr>\n",
       "    <tr>\n",
       "      <th>826</th>\n",
       "      <td>Stanford_0051176</td>\n",
       "      <td>1</td>\n",
       "      <td>-9999</td>\n",
       "      <td>Stanford</td>\n",
       "    </tr>\n",
       "    <tr>\n",
       "      <th>827</th>\n",
       "      <td>Stanford_0051177</td>\n",
       "      <td>1</td>\n",
       "      <td>-9999</td>\n",
       "      <td>Stanford</td>\n",
       "    </tr>\n",
       "    <tr>\n",
       "      <th>828</th>\n",
       "      <td>Stanford_0051178</td>\n",
       "      <td>1</td>\n",
       "      <td>-9999</td>\n",
       "      <td>Stanford</td>\n",
       "    </tr>\n",
       "    <tr>\n",
       "      <th>829</th>\n",
       "      <td>Stanford_0051179</td>\n",
       "      <td>1</td>\n",
       "      <td>-9999</td>\n",
       "      <td>Stanford</td>\n",
       "    </tr>\n",
       "    <tr>\n",
       "      <th>830</th>\n",
       "      <td>Stanford_0051180</td>\n",
       "      <td>2</td>\n",
       "      <td>-9999</td>\n",
       "      <td>Stanford</td>\n",
       "    </tr>\n",
       "    <tr>\n",
       "      <th>831</th>\n",
       "      <td>Stanford_0051181</td>\n",
       "      <td>2</td>\n",
       "      <td>-9999</td>\n",
       "      <td>Stanford</td>\n",
       "    </tr>\n",
       "    <tr>\n",
       "      <th>832</th>\n",
       "      <td>Stanford_0051182</td>\n",
       "      <td>2</td>\n",
       "      <td>-9999</td>\n",
       "      <td>Stanford</td>\n",
       "    </tr>\n",
       "    <tr>\n",
       "      <th>833</th>\n",
       "      <td>Stanford_0051183</td>\n",
       "      <td>2</td>\n",
       "      <td>-9999</td>\n",
       "      <td>Stanford</td>\n",
       "    </tr>\n",
       "    <tr>\n",
       "      <th>834</th>\n",
       "      <td>Stanford_0051184</td>\n",
       "      <td>2</td>\n",
       "      <td>-9999</td>\n",
       "      <td>Stanford</td>\n",
       "    </tr>\n",
       "    <tr>\n",
       "      <th>835</th>\n",
       "      <td>Stanford_0051185</td>\n",
       "      <td>2</td>\n",
       "      <td>-9999</td>\n",
       "      <td>Stanford</td>\n",
       "    </tr>\n",
       "    <tr>\n",
       "      <th>836</th>\n",
       "      <td>Stanford_0051186</td>\n",
       "      <td>2</td>\n",
       "      <td>-9999</td>\n",
       "      <td>Stanford</td>\n",
       "    </tr>\n",
       "    <tr>\n",
       "      <th>837</th>\n",
       "      <td>Stanford_0051187</td>\n",
       "      <td>2</td>\n",
       "      <td>-9999</td>\n",
       "      <td>Stanford</td>\n",
       "    </tr>\n",
       "    <tr>\n",
       "      <th>838</th>\n",
       "      <td>Stanford_0051188</td>\n",
       "      <td>2</td>\n",
       "      <td>-9999</td>\n",
       "      <td>Stanford</td>\n",
       "    </tr>\n",
       "    <tr>\n",
       "      <th>839</th>\n",
       "      <td>Stanford_0051189</td>\n",
       "      <td>2</td>\n",
       "      <td>-9999</td>\n",
       "      <td>Stanford</td>\n",
       "    </tr>\n",
       "    <tr>\n",
       "      <th>840</th>\n",
       "      <td>Stanford_0051190</td>\n",
       "      <td>2</td>\n",
       "      <td>-9999</td>\n",
       "      <td>Stanford</td>\n",
       "    </tr>\n",
       "    <tr>\n",
       "      <th>841</th>\n",
       "      <td>Stanford_0051191</td>\n",
       "      <td>2</td>\n",
       "      <td>-9999</td>\n",
       "      <td>Stanford</td>\n",
       "    </tr>\n",
       "    <tr>\n",
       "      <th>842</th>\n",
       "      <td>Stanford_0051192</td>\n",
       "      <td>2</td>\n",
       "      <td>-9999</td>\n",
       "      <td>Stanford</td>\n",
       "    </tr>\n",
       "    <tr>\n",
       "      <th>843</th>\n",
       "      <td>Stanford_0051193</td>\n",
       "      <td>2</td>\n",
       "      <td>-9999</td>\n",
       "      <td>Stanford</td>\n",
       "    </tr>\n",
       "    <tr>\n",
       "      <th>844</th>\n",
       "      <td>Stanford_0051194</td>\n",
       "      <td>2</td>\n",
       "      <td>-9999</td>\n",
       "      <td>Stanford</td>\n",
       "    </tr>\n",
       "    <tr>\n",
       "      <th>845</th>\n",
       "      <td>Stanford_0051195</td>\n",
       "      <td>2</td>\n",
       "      <td>-9999</td>\n",
       "      <td>Stanford</td>\n",
       "    </tr>\n",
       "    <tr>\n",
       "      <th>846</th>\n",
       "      <td>Stanford_0051196</td>\n",
       "      <td>2</td>\n",
       "      <td>-9999</td>\n",
       "      <td>Stanford</td>\n",
       "    </tr>\n",
       "    <tr>\n",
       "      <th>847</th>\n",
       "      <td>Stanford_0051197</td>\n",
       "      <td>2</td>\n",
       "      <td>-9999</td>\n",
       "      <td>Stanford</td>\n",
       "    </tr>\n",
       "    <tr>\n",
       "      <th>848</th>\n",
       "      <td>Stanford_0051198</td>\n",
       "      <td>2</td>\n",
       "      <td>-9999</td>\n",
       "      <td>Stanford</td>\n",
       "    </tr>\n",
       "    <tr>\n",
       "      <th>849</th>\n",
       "      <td>Stanford_0051199</td>\n",
       "      <td>2</td>\n",
       "      <td>-9999</td>\n",
       "      <td>Stanford</td>\n",
       "    </tr>\n",
       "  </tbody>\n",
       "</table>\n",
       "</div>"
      ],
      "text/plain": [
       "              FILE_ID  DX_GROUP  DSM_IV_TR      SITE\n",
       "99       SDSU_0050188         1      -9999      SDSU\n",
       "102      SDSU_0050191         1      -9999      SDSU\n",
       "192      UM_1_0050297         1      -9999      UM_1\n",
       "197      UM_1_0050302         1      -9999      UM_1\n",
       "810  Stanford_0051160         1      -9999  Stanford\n",
       "811  Stanford_0051161         1      -9999  Stanford\n",
       "812  Stanford_0051162         1      -9999  Stanford\n",
       "813  Stanford_0051163         1      -9999  Stanford\n",
       "814  Stanford_0051164         1      -9999  Stanford\n",
       "815  Stanford_0051165         1      -9999  Stanford\n",
       "816  Stanford_0051166         1      -9999  Stanford\n",
       "817  Stanford_0051167         1      -9999  Stanford\n",
       "818  Stanford_0051168         1      -9999  Stanford\n",
       "819  Stanford_0051169         1      -9999  Stanford\n",
       "820  Stanford_0051170         1      -9999  Stanford\n",
       "821  Stanford_0051171         1      -9999  Stanford\n",
       "822  Stanford_0051172         1      -9999  Stanford\n",
       "823  Stanford_0051173         1      -9999  Stanford\n",
       "824  Stanford_0051174         1      -9999  Stanford\n",
       "825  Stanford_0051175         1      -9999  Stanford\n",
       "826  Stanford_0051176         1      -9999  Stanford\n",
       "827  Stanford_0051177         1      -9999  Stanford\n",
       "828  Stanford_0051178         1      -9999  Stanford\n",
       "829  Stanford_0051179         1      -9999  Stanford\n",
       "830  Stanford_0051180         2      -9999  Stanford\n",
       "831  Stanford_0051181         2      -9999  Stanford\n",
       "832  Stanford_0051182         2      -9999  Stanford\n",
       "833  Stanford_0051183         2      -9999  Stanford\n",
       "834  Stanford_0051184         2      -9999  Stanford\n",
       "835  Stanford_0051185         2      -9999  Stanford\n",
       "836  Stanford_0051186         2      -9999  Stanford\n",
       "837  Stanford_0051187         2      -9999  Stanford\n",
       "838  Stanford_0051188         2      -9999  Stanford\n",
       "839  Stanford_0051189         2      -9999  Stanford\n",
       "840  Stanford_0051190         2      -9999  Stanford\n",
       "841  Stanford_0051191         2      -9999  Stanford\n",
       "842  Stanford_0051192         2      -9999  Stanford\n",
       "843  Stanford_0051193         2      -9999  Stanford\n",
       "844  Stanford_0051194         2      -9999  Stanford\n",
       "845  Stanford_0051195         2      -9999  Stanford\n",
       "846  Stanford_0051196         2      -9999  Stanford\n",
       "847  Stanford_0051197         2      -9999  Stanford\n",
       "848  Stanford_0051198         2      -9999  Stanford\n",
       "849  Stanford_0051199         2      -9999  Stanford"
      ]
     },
     "execution_count": 120,
     "metadata": {},
     "output_type": "execute_result"
    }
   ],
   "source": [
    "non_standard = check_df[check_df[\"DSM_IV_TR\"]== -9999]\n",
    "site = [file[:-8] for file in non_standard['FILE_ID']] # remove subject id from file id leaving site id\n",
    "non_standard['SITE'] = site # add site ids to the non_stadard dataframe\n",
    "non_standard"
   ]
  },
  {
   "cell_type": "code",
   "execution_count": 119,
   "metadata": {
    "pycharm": {
     "name": "#%%\n"
    }
   },
   "outputs": [
    {
     "data": {
      "image/png": "[encoded data removed]",
      "text/plain": [
       "<Figure size 1000x500 with 2 Axes>"
      ]
     },
     "metadata": {},
     "output_type": "display_data"
    }
   ],
   "source": [
    "fig, (ax0,ax1) = plt.subplots(nrows=1, ncols=2, figsize=(10, 5))\n",
    "sns.countplot(non_standard, x = 'SITE', ax =ax0) # number of non_standard entries in each site\n",
    "sns.countplot(non_standard, x = 'DX_GROUP', ax =ax1)\n",
    "plt.show()"
   ]
  },
  {
   "cell_type": "markdown",
   "metadata": {},
   "source": []
  },
  {
   "cell_type": "code",
   "execution_count": 126,
   "metadata": {
    "pycharm": {
     "name": "#%%\n"
    }
   },
   "outputs": [],
   "source": [
    "non_standard_path = os.path.join(pheno_dir, 'multiclass_ns.csv') # save path for the non_standard file, save as multiclass_ns.csv\n",
    "non_standard.to_csv(non_standard_path, index= False)"
   ]
  },
  {
   "cell_type": "markdown",
   "metadata": {
    "pycharm": {
     "name": "#%% md\n"
    }
   },
   "source": [
    "## Split data"
   ]
  },
  {
   "cell_type": "code",
   "execution_count": 30,
   "metadata": {
    "pycharm": {
     "name": "#%%\n"
    }
   },
   "outputs": [],
   "source": [
    "features = df.columns.to_list() # all feature names\n",
    "y = df[features[-1]] # target feature 'DX_GROUP'\n",
    "X = df[features[:-1]]# independent variables"
   ]
  },
  {
   "cell_type": "code",
   "execution_count": 32,
   "metadata": {
    "pycharm": {
     "name": "#%%\n"
    }
   },
   "outputs": [],
   "source": [
    "X_train, X_test, y_train, y_test = train_test_split( X, y, test_size=0.2, random_state=42) # split into train and test sets"
   ]
  },
  {
   "cell_type": "code",
   "execution_count": 33,
   "metadata": {
    "pycharm": {
     "name": "#%%\n"
    }
   },
   "outputs": [
    {
     "name": "stdout",
     "output_type": "stream",
     "text": [
      "Train test target: \n",
      "2    445\n",
      "1    414\n",
      "Name: DX_GROUP, dtype: int64 \n",
      " Test set target \n",
      "2    111\n",
      "1    104\n",
      "Name: DX_GROUP, dtype: int64\n"
     ]
    }
   ],
   "source": [
    "print(f\"Train test target: \\n{y_train.value_counts()} \\n Test set target \\n{y_test.value_counts()}\")"
   ]
  },
  {
   "cell_type": "code",
   "execution_count": 34,
   "metadata": {
    "pycharm": {
     "name": "#%%\n"
    }
   },
   "outputs": [],
   "source": [
    "X_train['TARGET']= y_train # merge X and y train sets into one dataframe for saving"
   ]
  },
  {
   "cell_type": "code",
   "execution_count": 35,
   "metadata": {
    "pycharm": {
     "name": "#%%\n"
    }
   },
   "outputs": [],
   "source": [
    "X_test['TARGET']= y_test# merge X and y test sets into one dataframe for saving"
   ]
  },
  {
   "cell_type": "code",
   "execution_count": 36,
   "metadata": {
    "pycharm": {
     "name": "#%%\n"
    }
   },
   "outputs": [],
   "source": [
    "train_df = X_train.reset_index(drop=True)\n",
    "test_df = X_test.reset_index(drop=True)"
   ]
  },
  {
   "cell_type": "code",
   "execution_count": 37,
   "metadata": {
    "pycharm": {
     "name": "#%%\n"
    }
   },
   "outputs": [],
   "source": [
    "train_path = os.path.join(parent_dir, 'phenotype_files/train_df.csv')\n",
    "test_path = os.path.join(parent_dir,'phenotype_files/test_df.csv')"
   ]
  },
  {
   "cell_type": "code",
   "execution_count": 38,
   "metadata": {
    "pycharm": {
     "name": "#%%\n"
    }
   },
   "outputs": [],
   "source": [
    "train_df.to_csv(train_path, index= False)\n",
    "test_df.to_csv(test_path, index= False)"
   ]
  },
  {
   "cell_type": "markdown",
   "metadata": {
    "pycharm": {
     "name": "#%% md\n"
    }
   },
   "source": [
    "## Splitting data with no null values"
   ]
  },
  {
   "cell_type": "code",
   "execution_count": 9,
   "metadata": {
    "pycharm": {
     "name": "#%%\n"
    }
   },
   "outputs": [],
   "source": [
    "# import the phenotype file with no null value timeseries data\n",
    "nn_path = os.path.join(pheno_dir, 'pheno_nn.csv')\n",
    "nn_df = pd.read_csv(nn_path)"
   ]
  },
  {
   "cell_type": "code",
   "execution_count": 10,
   "metadata": {
    "pycharm": {
     "name": "#%%\n"
    }
   },
   "outputs": [
    {
     "data": {
      "text/html": [
       "<div>\n",
       "<style scoped>\n",
       "    .dataframe tbody tr th:only-of-type {\n",
       "        vertical-align: middle;\n",
       "    }\n",
       "\n",
       "    .dataframe tbody tr th {\n",
       "        vertical-align: top;\n",
       "    }\n",
       "\n",
       "    .dataframe thead th {\n",
       "        text-align: right;\n",
       "    }\n",
       "</style>\n",
       "<table border=\"1\" class=\"dataframe\">\n",
       "  <thead>\n",
       "    <tr style=\"text-align: right;\">\n",
       "      <th></th>\n",
       "      <th>SUB_ID</th>\n",
       "      <th>FILE_ID</th>\n",
       "      <th>AGE_AT_SCAN</th>\n",
       "      <th>SEX</th>\n",
       "      <th>DSM_IV_TR</th>\n",
       "      <th>DX_GROUP</th>\n",
       "      <th>FMRI_FILES</th>\n",
       "      <th>CC200</th>\n",
       "      <th>DFC_DATA_STORE</th>\n",
       "    </tr>\n",
       "  </thead>\n",
       "  <tbody>\n",
       "    <tr>\n",
       "      <th>0</th>\n",
       "      <td>50002</td>\n",
       "      <td>Pitt_0050002</td>\n",
       "      <td>16.77</td>\n",
       "      <td>1</td>\n",
       "      <td>1</td>\n",
       "      <td>1</td>\n",
       "      <td>Pitt_0050002_func_preproc.nii.gz</td>\n",
       "      <td>Pitt_0050002_rois_cc200.1D</td>\n",
       "      <td>Pitt_0050002_dfc.pkl</td>\n",
       "    </tr>\n",
       "    <tr>\n",
       "      <th>1</th>\n",
       "      <td>50003</td>\n",
       "      <td>Pitt_0050003</td>\n",
       "      <td>24.45</td>\n",
       "      <td>1</td>\n",
       "      <td>1</td>\n",
       "      <td>1</td>\n",
       "      <td>Pitt_0050003_func_preproc.nii.gz</td>\n",
       "      <td>Pitt_0050003_rois_cc200.1D</td>\n",
       "      <td>Pitt_0050003_dfc.pkl</td>\n",
       "    </tr>\n",
       "    <tr>\n",
       "      <th>2</th>\n",
       "      <td>50004</td>\n",
       "      <td>Pitt_0050004</td>\n",
       "      <td>19.09</td>\n",
       "      <td>1</td>\n",
       "      <td>1</td>\n",
       "      <td>1</td>\n",
       "      <td>Pitt_0050004_func_preproc.nii.gz</td>\n",
       "      <td>Pitt_0050004_rois_cc200.1D</td>\n",
       "      <td>Pitt_0050004_dfc.pkl</td>\n",
       "    </tr>\n",
       "    <tr>\n",
       "      <th>3</th>\n",
       "      <td>50005</td>\n",
       "      <td>Pitt_0050005</td>\n",
       "      <td>13.73</td>\n",
       "      <td>2</td>\n",
       "      <td>1</td>\n",
       "      <td>1</td>\n",
       "      <td>Pitt_0050005_func_preproc.nii.gz</td>\n",
       "      <td>Pitt_0050005_rois_cc200.1D</td>\n",
       "      <td>Pitt_0050005_dfc.pkl</td>\n",
       "    </tr>\n",
       "    <tr>\n",
       "      <th>4</th>\n",
       "      <td>50006</td>\n",
       "      <td>Pitt_0050006</td>\n",
       "      <td>13.37</td>\n",
       "      <td>1</td>\n",
       "      <td>1</td>\n",
       "      <td>1</td>\n",
       "      <td>Pitt_0050006_func_preproc.nii.gz</td>\n",
       "      <td>Pitt_0050006_rois_cc200.1D</td>\n",
       "      <td>Pitt_0050006_dfc.pkl</td>\n",
       "    </tr>\n",
       "  </tbody>\n",
       "</table>\n",
       "</div>"
      ],
      "text/plain": [
       "   SUB_ID       FILE_ID  AGE_AT_SCAN  SEX  DSM_IV_TR  DX_GROUP  \\\n",
       "0   50002  Pitt_0050002        16.77    1          1         1   \n",
       "1   50003  Pitt_0050003        24.45    1          1         1   \n",
       "2   50004  Pitt_0050004        19.09    1          1         1   \n",
       "3   50005  Pitt_0050005        13.73    2          1         1   \n",
       "4   50006  Pitt_0050006        13.37    1          1         1   \n",
       "\n",
       "                         FMRI_FILES                       CC200  \\\n",
       "0  Pitt_0050002_func_preproc.nii.gz  Pitt_0050002_rois_cc200.1D   \n",
       "1  Pitt_0050003_func_preproc.nii.gz  Pitt_0050003_rois_cc200.1D   \n",
       "2  Pitt_0050004_func_preproc.nii.gz  Pitt_0050004_rois_cc200.1D   \n",
       "3  Pitt_0050005_func_preproc.nii.gz  Pitt_0050005_rois_cc200.1D   \n",
       "4  Pitt_0050006_func_preproc.nii.gz  Pitt_0050006_rois_cc200.1D   \n",
       "\n",
       "         DFC_DATA_STORE  \n",
       "0  Pitt_0050002_dfc.pkl  \n",
       "1  Pitt_0050003_dfc.pkl  \n",
       "2  Pitt_0050004_dfc.pkl  \n",
       "3  Pitt_0050005_dfc.pkl  \n",
       "4  Pitt_0050006_dfc.pkl  "
      ]
     },
     "execution_count": 10,
     "metadata": {},
     "output_type": "execute_result"
    }
   ],
   "source": [
    "nn_df.head()"
   ]
  },
  {
   "cell_type": "code",
   "execution_count": 11,
   "metadata": {
    "pycharm": {
     "name": "#%%\n"
    }
   },
   "outputs": [
    {
     "name": "stdout",
     "output_type": "stream",
     "text": [
      "<class 'pandas.core.frame.DataFrame'>\n",
      "RangeIndex: 1026 entries, 0 to 1025\n",
      "Data columns (total 9 columns):\n",
      " #   Column          Non-Null Count  Dtype  \n",
      "---  ------          --------------  -----  \n",
      " 0   SUB_ID          1026 non-null   int64  \n",
      " 1   FILE_ID         1026 non-null   object \n",
      " 2   AGE_AT_SCAN     1026 non-null   float64\n",
      " 3   SEX             1026 non-null   int64  \n",
      " 4   DSM_IV_TR       1026 non-null   int64  \n",
      " 5   DX_GROUP        1026 non-null   int64  \n",
      " 6   FMRI_FILES      1026 non-null   object \n",
      " 7   CC200           1026 non-null   object \n",
      " 8   DFC_DATA_STORE  1026 non-null   object \n",
      "dtypes: float64(1), int64(4), object(4)\n",
      "memory usage: 72.3+ KB\n"
     ]
    }
   ],
   "source": [
    "nn_df.info()"
   ]
  },
  {
   "cell_type": "code",
   "execution_count": 12,
   "metadata": {
    "pycharm": {
     "name": "#%%\n"
    }
   },
   "outputs": [],
   "source": [
    "nn_df= nn_df.loc[:,['SUB_ID','FILE_ID','DX_GROUP']]"
   ]
  },
  {
   "cell_type": "code",
   "execution_count": 13,
   "metadata": {
    "pycharm": {
     "name": "#%%\n"
    }
   },
   "outputs": [
    {
     "data": {
      "image/png": "[encoded data removed]",
      "text/plain": [
       "<Figure size 500x500 with 1 Axes>"
      ]
     },
     "metadata": {},
     "output_type": "display_data"
    }
   ],
   "source": [
    "plt.figure(figsize=(5,5))\n",
    "sns.countplot(nn_df, x = 'DX_GROUP')\n",
    "plt.show()"
   ]
  },
  {
   "cell_type": "markdown",
   "metadata": {
    "pycharm": {
     "name": "#%% md\n"
    }
   },
   "source": [
    "The removal of subjects with null values did not seem to unduly affect the ratio between the two dignostic classes"
   ]
  },
  {
   "cell_type": "code",
   "execution_count": 14,
   "metadata": {
    "pycharm": {
     "name": "#%%\n"
    }
   },
   "outputs": [
    {
     "name": "stdout",
     "output_type": "stream",
     "text": [
      "Train test target: \n",
      "2    421\n",
      "1    399\n",
      "Name: DX_GROUP, dtype: int64 \n",
      " Test set target \n",
      "2    112\n",
      "1     94\n",
      "Name: DX_GROUP, dtype: int64\n"
     ]
    }
   ],
   "source": [
    "features = nn_df.columns.to_list()  # all feature names\n",
    "nn_y = nn_df[features[-1]]  # target feature 'DX_GROUP'\n",
    "nn_X = nn_df[features[:-1]]  # independent variables\n",
    "X_nntrain, X_nntest, y_nntrain, y_nntest = train_test_split(nn_X, nn_y, test_size=0.2,\n",
    "                                                    random_state=42)  # split into train and test sets\n",
    "print(f\"Train test target: \\n{y_nntrain.value_counts()} \\n Test set target \\n{y_nntest.value_counts()}\")"
   ]
  },
  {
   "cell_type": "code",
   "execution_count": 15,
   "metadata": {
    "pycharm": {
     "name": "#%%\n"
    }
   },
   "outputs": [],
   "source": [
    "X_nntrain['TARGET']= y_nntrain # merge X and y train sets into one dataframe for saving"
   ]
  },
  {
   "cell_type": "code",
   "execution_count": 16,
   "metadata": {
    "pycharm": {
     "name": "#%%\n"
    }
   },
   "outputs": [],
   "source": [
    "X_nntest['TARGET']= y_nntest# merge X and y test sets into one dataframe for saving"
   ]
  },
  {
   "cell_type": "code",
   "execution_count": 17,
   "metadata": {
    "pycharm": {
     "name": "#%%\n"
    }
   },
   "outputs": [],
   "source": [
    "train_nn = X_nntrain.reset_index(drop=True)\n",
    "test_nn = X_nntest.reset_index(drop=True)"
   ]
  },
  {
   "cell_type": "markdown",
   "metadata": {
    "pycharm": {
     "name": "#%% md\n"
    }
   },
   "source": [
    "#### Binarize the target class"
   ]
  },
  {
   "cell_type": "code",
   "execution_count": 13,
   "metadata": {
    "pycharm": {
     "name": "#%%\n"
    }
   },
   "outputs": [],
   "source": [
    "def binarize(df):\n",
    "    new_target = [1 if x == 1 else 0 for x in df['TARGET']]  # turn target in to binary\n",
    "    df['TARGET'] = new_target\n",
    "    return df"
   ]
  },
  {
   "cell_type": "code",
   "execution_count": 20,
   "metadata": {
    "pycharm": {
     "name": "#%%\n"
    }
   },
   "outputs": [],
   "source": [
    "train_nn,test_nn =map(binarize, [train_nn,test_nn]) # map binarise function over dataframes and save in variables"
   ]
  },
  {
   "cell_type": "code",
   "execution_count": 21,
   "metadata": {
    "pycharm": {
     "name": "#%%\n"
    }
   },
   "outputs": [],
   "source": [
    "train_nnpath = os.path.join(pheno_dir, 'train_nn.csv')\n",
    "test_nnpath = os.path.join(pheno_dir,'test_nn.csv')\n"
   ]
  },
  {
   "cell_type": "code",
   "execution_count": 22,
   "metadata": {
    "pycharm": {
     "name": "#%%\n"
    }
   },
   "outputs": [],
   "source": [
    "train_nn.to_csv(train_nnpath, index= False)\n",
    "test_nn.to_csv(test_nnpath, index= False)\n"
   ]
  },
  {
   "cell_type": "markdown",
   "metadata": {
    "pycharm": {
     "name": "#%% md\n"
    }
   },
   "source": [
    "## Split for multiclass classification\n",
    "\n",
    "SInce the multiclass labels are imbalanced I shall use stratified sampling for splitting into train and test sets.\n",
    "\n",
    "I will also use Complement cross entropy as a loss function during training (Kim et al. 2019) `https://arxiv.org/pdf/2009.02189.pdf`"
   ]
  },
  {
   "cell_type": "code",
   "execution_count": 146,
   "metadata": {
    "pycharm": {
     "name": "#%%\n"
    }
   },
   "outputs": [],
   "source": [
    "# import the phenotype file with no null value timeseries data\n",
    "nn_path = os.path.join(pheno_dir, 'pheno_nn.csv')\n",
    "nn_df = pd.read_csv(nn_path)"
   ]
  },
  {
   "cell_type": "code",
   "execution_count": 158,
   "metadata": {
    "pycharm": {
     "name": "#%%\n"
    }
   },
   "outputs": [
    {
     "name": "stdout",
     "output_type": "stream",
     "text": [
      "<class 'pandas.core.frame.DataFrame'>\n",
      "RangeIndex: 1026 entries, 0 to 1025\n",
      "Data columns (total 9 columns):\n",
      " #   Column          Non-Null Count  Dtype  \n",
      "---  ------          --------------  -----  \n",
      " 0   SUB_ID          1026 non-null   int64  \n",
      " 1   FILE_ID         1026 non-null   object \n",
      " 2   AGE_AT_SCAN     1026 non-null   float64\n",
      " 3   SEX             1026 non-null   int64  \n",
      " 4   DSM_IV_TR       1026 non-null   int64  \n",
      " 5   DX_GROUP        1026 non-null   int64  \n",
      " 6   FMRI_FILES      1026 non-null   object \n",
      " 7   CC200           1026 non-null   object \n",
      " 8   DFC_DATA_STORE  1026 non-null   object \n",
      "dtypes: float64(1), int64(4), object(4)\n",
      "memory usage: 72.3+ KB\n"
     ]
    }
   ],
   "source": [
    "nn_df.info()"
   ]
  },
  {
   "cell_type": "code",
   "execution_count": 153,
   "metadata": {
    "pycharm": {
     "name": "#%%\n"
    }
   },
   "outputs": [],
   "source": [
    "ns_index = nn_df[nn_df['DSM_IV_TR']== -9999].index # all subjects with a non-standard multi-class lavel"
   ]
  },
  {
   "cell_type": "code",
   "execution_count": 245,
   "metadata": {
    "pycharm": {
     "name": "#%%\n"
    }
   },
   "outputs": [
    {
     "name": "stdout",
     "output_type": "stream",
     "text": [
      "<class 'pandas.core.frame.DataFrame'>\n",
      "Int64Index: 982 entries, 0 to 1025\n",
      "Data columns (total 9 columns):\n",
      " #   Column          Non-Null Count  Dtype  \n",
      "---  ------          --------------  -----  \n",
      " 0   SUB_ID          982 non-null    int64  \n",
      " 1   FILE_ID         982 non-null    object \n",
      " 2   AGE_AT_SCAN     982 non-null    float64\n",
      " 3   SEX             982 non-null    int64  \n",
      " 4   DSM_IV_TR       982 non-null    int64  \n",
      " 5   DX_GROUP        982 non-null    int64  \n",
      " 6   FMRI_FILES      982 non-null    object \n",
      " 7   CC200           982 non-null    object \n",
      " 8   DFC_DATA_STORE  982 non-null    object \n",
      "dtypes: float64(1), int64(4), object(4)\n",
      "memory usage: 76.7+ KB\n"
     ]
    }
   ],
   "source": [
    "mc_df = nn_df.drop(ns_index) # drop non-standard subjects\n",
    "mc_df.info()"
   ]
  },
  {
   "cell_type": "code",
   "execution_count": 228,
   "metadata": {
    "pycharm": {
     "name": "#%%\n"
    }
   },
   "outputs": [
    {
     "data": {
      "text/plain": [
       "['Control', 'Autism', 'Aspergers', 'PDD-NOS', 'Aspergers/PDD']"
      ]
     },
     "execution_count": 228,
     "metadata": {},
     "output_type": "execute_result"
    }
   ],
   "source": [
    "mult_labels_nn = mult_labels[1:] # remove NAN from labels\n",
    "mult_labels_nn"
   ]
  },
  {
   "cell_type": "code",
   "execution_count": 232,
   "metadata": {
    "pycharm": {
     "name": "#%%\n"
    }
   },
   "outputs": [
    {
     "data": {
      "image/png": "[encoded data removed]",
      "text/plain": [
       "<Figure size 640x480 with 1 Axes>"
      ]
     },
     "metadata": {},
     "output_type": "display_data"
    }
   ],
   "source": [
    "plt.Figure()\n",
    "sns.countplot(data = mc_df, x ='DSM_IV_TR')\n",
    "plt.xticks(range(5),labels =mult_labels_nn)\n",
    "plt.show()"
   ]
  },
  {
   "cell_type": "code",
   "execution_count": 42,
   "metadata": {
    "pycharm": {
     "name": "#%%\n"
    }
   },
   "outputs": [
    {
     "data": {
      "text/plain": [
       "6.666666666666667"
      ]
     },
     "execution_count": 42,
     "metadata": {},
     "output_type": "execute_result"
    }
   ],
   "source": [
    "(2* 200) / 60"
   ]
  },
  {
   "cell_type": "code",
   "execution_count": 235,
   "metadata": {
    "pycharm": {
     "name": "#%%\n"
    }
   },
   "outputs": [
    {
     "data": {
      "text/plain": [
       "0    533\n",
       "1    322\n",
       "2     91\n",
       "3     35\n",
       "4      1\n",
       "Name: DSM_IV_TR, dtype: int64"
      ]
     },
     "execution_count": 235,
     "metadata": {},
     "output_type": "execute_result"
    }
   ],
   "source": [
    "mc_df['DSM_IV_TR'].value_counts() # only one count of label four Aspergers or PDD-NOS. this will make stratified sample harder, so remove."
   ]
  },
  {
   "cell_type": "code",
   "execution_count": 239,
   "metadata": {
    "pycharm": {
     "name": "#%%\n"
    }
   },
   "outputs": [],
   "source": [
    "ind4 = mc_df[mc_df['DSM_IV_TR']==4].index #index for sole 4 class\n",
    "mc_df.drop(ind4, inplace =True ) # drop index"
   ]
  },
  {
   "cell_type": "code",
   "execution_count": 241,
   "metadata": {
    "pycharm": {
     "name": "#%%\n"
    }
   },
   "outputs": [],
   "source": [
    "mc_df= mc_df.iloc[:,:5]\n",
    "mc_df.reset_index(inplace = True, drop = True)# reset indexes"
   ]
  },
  {
   "cell_type": "code",
   "execution_count": 242,
   "metadata": {
    "pycharm": {
     "name": "#%%\n"
    }
   },
   "outputs": [],
   "source": [
    "mc_features = mc_df.columns.to_list() # all feature names\n",
    "y = mc_df[features[-1]] # target feature 'DSM_IV_TR'\n",
    "X = mc_df[features[:-1]]# independent variables"
   ]
  },
  {
   "cell_type": "code",
   "execution_count": 243,
   "metadata": {
    "pycharm": {
     "name": "#%%\n"
    }
   },
   "outputs": [
    {
     "data": {
      "text/html": [
       "<div>\n",
       "<style scoped>\n",
       "    .dataframe tbody tr th:only-of-type {\n",
       "        vertical-align: middle;\n",
       "    }\n",
       "\n",
       "    .dataframe tbody tr th {\n",
       "        vertical-align: top;\n",
       "    }\n",
       "\n",
       "    .dataframe thead th {\n",
       "        text-align: right;\n",
       "    }\n",
       "</style>\n",
       "<table border=\"1\" class=\"dataframe\">\n",
       "  <thead>\n",
       "    <tr style=\"text-align: right;\">\n",
       "      <th></th>\n",
       "      <th>SUB_ID</th>\n",
       "      <th>FILE_ID</th>\n",
       "      <th>AGE_AT_SCAN</th>\n",
       "      <th>SEX</th>\n",
       "    </tr>\n",
       "  </thead>\n",
       "  <tbody>\n",
       "    <tr>\n",
       "      <th>0</th>\n",
       "      <td>50002</td>\n",
       "      <td>Pitt_0050002</td>\n",
       "      <td>16.77</td>\n",
       "      <td>1</td>\n",
       "    </tr>\n",
       "    <tr>\n",
       "      <th>1</th>\n",
       "      <td>50003</td>\n",
       "      <td>Pitt_0050003</td>\n",
       "      <td>24.45</td>\n",
       "      <td>1</td>\n",
       "    </tr>\n",
       "    <tr>\n",
       "      <th>2</th>\n",
       "      <td>50004</td>\n",
       "      <td>Pitt_0050004</td>\n",
       "      <td>19.09</td>\n",
       "      <td>1</td>\n",
       "    </tr>\n",
       "    <tr>\n",
       "      <th>3</th>\n",
       "      <td>50005</td>\n",
       "      <td>Pitt_0050005</td>\n",
       "      <td>13.73</td>\n",
       "      <td>2</td>\n",
       "    </tr>\n",
       "    <tr>\n",
       "      <th>4</th>\n",
       "      <td>50006</td>\n",
       "      <td>Pitt_0050006</td>\n",
       "      <td>13.37</td>\n",
       "      <td>1</td>\n",
       "    </tr>\n",
       "    <tr>\n",
       "      <th>...</th>\n",
       "      <td>...</td>\n",
       "      <td>...</td>\n",
       "      <td>...</td>\n",
       "      <td>...</td>\n",
       "    </tr>\n",
       "    <tr>\n",
       "      <th>976</th>\n",
       "      <td>51583</td>\n",
       "      <td>SBL_0051583</td>\n",
       "      <td>35.00</td>\n",
       "      <td>1</td>\n",
       "    </tr>\n",
       "    <tr>\n",
       "      <th>977</th>\n",
       "      <td>51584</td>\n",
       "      <td>SBL_0051584</td>\n",
       "      <td>49.00</td>\n",
       "      <td>1</td>\n",
       "    </tr>\n",
       "    <tr>\n",
       "      <th>978</th>\n",
       "      <td>51585</td>\n",
       "      <td>SBL_0051585</td>\n",
       "      <td>27.00</td>\n",
       "      <td>1</td>\n",
       "    </tr>\n",
       "    <tr>\n",
       "      <th>979</th>\n",
       "      <td>51606</td>\n",
       "      <td>MaxMun_a_0051606</td>\n",
       "      <td>29.00</td>\n",
       "      <td>2</td>\n",
       "    </tr>\n",
       "    <tr>\n",
       "      <th>980</th>\n",
       "      <td>51607</td>\n",
       "      <td>MaxMun_a_0051607</td>\n",
       "      <td>26.00</td>\n",
       "      <td>1</td>\n",
       "    </tr>\n",
       "  </tbody>\n",
       "</table>\n",
       "<p>981 rows × 4 columns</p>\n",
       "</div>"
      ],
      "text/plain": [
       "     SUB_ID           FILE_ID  AGE_AT_SCAN  SEX\n",
       "0     50002      Pitt_0050002        16.77    1\n",
       "1     50003      Pitt_0050003        24.45    1\n",
       "2     50004      Pitt_0050004        19.09    1\n",
       "3     50005      Pitt_0050005        13.73    2\n",
       "4     50006      Pitt_0050006        13.37    1\n",
       "..      ...               ...          ...  ...\n",
       "976   51583       SBL_0051583        35.00    1\n",
       "977   51584       SBL_0051584        49.00    1\n",
       "978   51585       SBL_0051585        27.00    1\n",
       "979   51606  MaxMun_a_0051606        29.00    2\n",
       "980   51607  MaxMun_a_0051607        26.00    1\n",
       "\n",
       "[981 rows x 4 columns]"
      ]
     },
     "execution_count": 243,
     "metadata": {},
     "output_type": "execute_result"
    }
   ],
   "source": [
    "X"
   ]
  },
  {
   "cell_type": "code",
   "execution_count": 246,
   "metadata": {
    "pycharm": {
     "name": "#%%\n"
    }
   },
   "outputs": [],
   "source": [
    "X_train, X_test, y_train, y_test = train_test_split(X, y,\n",
    "                                                    stratify=y,\n",
    "                                                    test_size=0.20)"
   ]
  },
  {
   "cell_type": "code",
   "execution_count": 251,
   "metadata": {
    "pycharm": {
     "name": "#%%\n"
    }
   },
   "outputs": [
    {
     "data": {
      "text/plain": [
       "0    426\n",
       "1    257\n",
       "2     73\n",
       "3     28\n",
       "Name: DSM_IV_TR, dtype: int64"
      ]
     },
     "execution_count": 251,
     "metadata": {},
     "output_type": "execute_result"
    }
   ],
   "source": [
    "y_train.value_counts()"
   ]
  },
  {
   "cell_type": "code",
   "execution_count": 253,
   "metadata": {
    "pycharm": {
     "name": "#%%\n"
    }
   },
   "outputs": [
    {
     "data": {
      "text/plain": [
       "0    107\n",
       "1     65\n",
       "2     18\n",
       "3      7\n",
       "Name: DSM_IV_TR, dtype: int64"
      ]
     },
     "execution_count": 253,
     "metadata": {},
     "output_type": "execute_result"
    }
   ],
   "source": [
    "y_test.value_counts()"
   ]
  },
  {
   "cell_type": "code",
   "execution_count": 255,
   "metadata": {
    "pycharm": {
     "name": "#%%\n"
    }
   },
   "outputs": [],
   "source": [
    "X_train['TARGET']= y_train # add target columns for both sets\n",
    "X_test['TARGET']= y_test"
   ]
  },
  {
   "cell_type": "code",
   "execution_count": 260,
   "metadata": {
    "pycharm": {
     "name": "#%%\n"
    }
   },
   "outputs": [],
   "source": [
    "multi_train = X_train[['FILE_ID','TARGET']].reset_index(drop=True)\n",
    "multi_test = X_test[['FILE_ID','TARGET']].reset_index(drop=True)"
   ]
  },
  {
   "cell_type": "code",
   "execution_count": 259,
   "metadata": {
    "pycharm": {
     "name": "#%%\n"
    }
   },
   "outputs": [
    {
     "data": {
      "text/html": [
       "<div>\n",
       "<style scoped>\n",
       "    .dataframe tbody tr th:only-of-type {\n",
       "        vertical-align: middle;\n",
       "    }\n",
       "\n",
       "    .dataframe tbody tr th {\n",
       "        vertical-align: top;\n",
       "    }\n",
       "\n",
       "    .dataframe thead th {\n",
       "        text-align: right;\n",
       "    }\n",
       "</style>\n",
       "<table border=\"1\" class=\"dataframe\">\n",
       "  <thead>\n",
       "    <tr style=\"text-align: right;\">\n",
       "      <th></th>\n",
       "      <th>FILE_ID</th>\n",
       "      <th>TARGET</th>\n",
       "    </tr>\n",
       "  </thead>\n",
       "  <tbody>\n",
       "    <tr>\n",
       "      <th>0</th>\n",
       "      <td>CMU_a_0050647</td>\n",
       "      <td>1</td>\n",
       "    </tr>\n",
       "    <tr>\n",
       "      <th>1</th>\n",
       "      <td>UM_1_0050311</td>\n",
       "      <td>1</td>\n",
       "    </tr>\n",
       "    <tr>\n",
       "      <th>2</th>\n",
       "      <td>UM_1_0050331</td>\n",
       "      <td>0</td>\n",
       "    </tr>\n",
       "    <tr>\n",
       "      <th>3</th>\n",
       "      <td>NYU_0050992</td>\n",
       "      <td>1</td>\n",
       "    </tr>\n",
       "    <tr>\n",
       "      <th>4</th>\n",
       "      <td>MaxMun_d_0051353</td>\n",
       "      <td>2</td>\n",
       "    </tr>\n",
       "    <tr>\n",
       "      <th>...</th>\n",
       "      <td>...</td>\n",
       "      <td>...</td>\n",
       "    </tr>\n",
       "    <tr>\n",
       "      <th>779</th>\n",
       "      <td>MaxMun_a_0051321</td>\n",
       "      <td>2</td>\n",
       "    </tr>\n",
       "    <tr>\n",
       "      <th>780</th>\n",
       "      <td>UM_1_0050379</td>\n",
       "      <td>0</td>\n",
       "    </tr>\n",
       "    <tr>\n",
       "      <th>781</th>\n",
       "      <td>USM_0050531</td>\n",
       "      <td>1</td>\n",
       "    </tr>\n",
       "    <tr>\n",
       "      <th>782</th>\n",
       "      <td>SDSU_0050185</td>\n",
       "      <td>1</td>\n",
       "    </tr>\n",
       "    <tr>\n",
       "      <th>783</th>\n",
       "      <td>Trinity_0051138</td>\n",
       "      <td>0</td>\n",
       "    </tr>\n",
       "  </tbody>\n",
       "</table>\n",
       "<p>784 rows × 2 columns</p>\n",
       "</div>"
      ],
      "text/plain": [
       "              FILE_ID  TARGET\n",
       "0       CMU_a_0050647       1\n",
       "1        UM_1_0050311       1\n",
       "2        UM_1_0050331       0\n",
       "3         NYU_0050992       1\n",
       "4    MaxMun_d_0051353       2\n",
       "..                ...     ...\n",
       "779  MaxMun_a_0051321       2\n",
       "780      UM_1_0050379       0\n",
       "781       USM_0050531       1\n",
       "782      SDSU_0050185       1\n",
       "783   Trinity_0051138       0\n",
       "\n",
       "[784 rows x 2 columns]"
      ]
     },
     "execution_count": 259,
     "metadata": {},
     "output_type": "execute_result"
    }
   ],
   "source": [
    "multi_train"
   ]
  },
  {
   "cell_type": "code",
   "execution_count": 261,
   "metadata": {
    "pycharm": {
     "name": "#%%\n"
    }
   },
   "outputs": [],
   "source": [
    "# save paths\n",
    "m_train_path = os.path.join(pheno_dir, 'mc_train.csv')\n",
    "m_test_path = os.path.join(pheno_dir, 'mc_test.csv')"
   ]
  },
  {
   "cell_type": "code",
   "execution_count": 262,
   "metadata": {
    "pycharm": {
     "name": "#%%\n"
    }
   },
   "outputs": [],
   "source": [
    "multi_train.to_csv(m_train_path, index= False)\n",
    "multi_test.to_csv(m_test_path, index= False)"
   ]
  },
  {
   "cell_type": "markdown",
   "metadata": {
    "pycharm": {
     "name": "#%% md\n"
    }
   },
   "source": [
    "# split AAL non null data"
   ]
  },
  {
   "cell_type": "code",
   "execution_count": 18,
   "metadata": {
    "pycharm": {
     "name": "#%%\n"
    }
   },
   "outputs": [],
   "source": [
    "# import the phenotype file with no null value timeseries data\n",
    "nn_aal_path = os.path.join(pheno_dir, 'aal_nn.csv')\n",
    "nn_aal = pd.read_csv(nn_aal_path)"
   ]
  },
  {
   "cell_type": "code",
   "execution_count": 27,
   "metadata": {
    "pycharm": {
     "name": "#%%\n"
    }
   },
   "outputs": [
    {
     "data": {
      "text/html": [
       "<div>\n",
       "<style scoped>\n",
       "    .dataframe tbody tr th:only-of-type {\n",
       "        vertical-align: middle;\n",
       "    }\n",
       "\n",
       "    .dataframe tbody tr th {\n",
       "        vertical-align: top;\n",
       "    }\n",
       "\n",
       "    .dataframe thead th {\n",
       "        text-align: right;\n",
       "    }\n",
       "</style>\n",
       "<table border=\"1\" class=\"dataframe\">\n",
       "  <thead>\n",
       "    <tr style=\"text-align: right;\">\n",
       "      <th></th>\n",
       "      <th>SUB_ID</th>\n",
       "      <th>FILE_ID</th>\n",
       "      <th>AGE_AT_SCAN</th>\n",
       "      <th>SEX</th>\n",
       "      <th>DSM_IV_TR</th>\n",
       "      <th>DX_GROUP</th>\n",
       "      <th>FMRI_FILES</th>\n",
       "      <th>CC200</th>\n",
       "      <th>DFC_DATA_STORE</th>\n",
       "    </tr>\n",
       "  </thead>\n",
       "  <tbody>\n",
       "    <tr>\n",
       "      <th>0</th>\n",
       "      <td>50002</td>\n",
       "      <td>Pitt_0050002</td>\n",
       "      <td>16.77</td>\n",
       "      <td>1</td>\n",
       "      <td>1</td>\n",
       "      <td>1</td>\n",
       "      <td>Pitt_0050002_func_preproc.nii.gz</td>\n",
       "      <td>Pitt_0050002_rois_cc200.1D</td>\n",
       "      <td>Pitt_0050002_dfc.pkl</td>\n",
       "    </tr>\n",
       "    <tr>\n",
       "      <th>1</th>\n",
       "      <td>50003</td>\n",
       "      <td>Pitt_0050003</td>\n",
       "      <td>24.45</td>\n",
       "      <td>1</td>\n",
       "      <td>1</td>\n",
       "      <td>1</td>\n",
       "      <td>Pitt_0050003_func_preproc.nii.gz</td>\n",
       "      <td>Pitt_0050003_rois_cc200.1D</td>\n",
       "      <td>Pitt_0050003_dfc.pkl</td>\n",
       "    </tr>\n",
       "    <tr>\n",
       "      <th>2</th>\n",
       "      <td>50005</td>\n",
       "      <td>Pitt_0050005</td>\n",
       "      <td>13.73</td>\n",
       "      <td>2</td>\n",
       "      <td>1</td>\n",
       "      <td>1</td>\n",
       "      <td>Pitt_0050005_func_preproc.nii.gz</td>\n",
       "      <td>Pitt_0050005_rois_cc200.1D</td>\n",
       "      <td>Pitt_0050005_dfc.pkl</td>\n",
       "    </tr>\n",
       "    <tr>\n",
       "      <th>3</th>\n",
       "      <td>50006</td>\n",
       "      <td>Pitt_0050006</td>\n",
       "      <td>13.37</td>\n",
       "      <td>1</td>\n",
       "      <td>1</td>\n",
       "      <td>1</td>\n",
       "      <td>Pitt_0050006_func_preproc.nii.gz</td>\n",
       "      <td>Pitt_0050006_rois_cc200.1D</td>\n",
       "      <td>Pitt_0050006_dfc.pkl</td>\n",
       "    </tr>\n",
       "    <tr>\n",
       "      <th>4</th>\n",
       "      <td>50008</td>\n",
       "      <td>Pitt_0050008</td>\n",
       "      <td>32.45</td>\n",
       "      <td>1</td>\n",
       "      <td>1</td>\n",
       "      <td>1</td>\n",
       "      <td>Pitt_0050008_func_preproc.nii.gz</td>\n",
       "      <td>Pitt_0050008_rois_cc200.1D</td>\n",
       "      <td>Pitt_0050008_dfc.pkl</td>\n",
       "    </tr>\n",
       "  </tbody>\n",
       "</table>\n",
       "</div>"
      ],
      "text/plain": [
       "   SUB_ID       FILE_ID  AGE_AT_SCAN  SEX  DSM_IV_TR  DX_GROUP  \\\n",
       "0   50002  Pitt_0050002        16.77    1          1         1   \n",
       "1   50003  Pitt_0050003        24.45    1          1         1   \n",
       "2   50005  Pitt_0050005        13.73    2          1         1   \n",
       "3   50006  Pitt_0050006        13.37    1          1         1   \n",
       "4   50008  Pitt_0050008        32.45    1          1         1   \n",
       "\n",
       "                         FMRI_FILES                       CC200  \\\n",
       "0  Pitt_0050002_func_preproc.nii.gz  Pitt_0050002_rois_cc200.1D   \n",
       "1  Pitt_0050003_func_preproc.nii.gz  Pitt_0050003_rois_cc200.1D   \n",
       "2  Pitt_0050005_func_preproc.nii.gz  Pitt_0050005_rois_cc200.1D   \n",
       "3  Pitt_0050006_func_preproc.nii.gz  Pitt_0050006_rois_cc200.1D   \n",
       "4  Pitt_0050008_func_preproc.nii.gz  Pitt_0050008_rois_cc200.1D   \n",
       "\n",
       "         DFC_DATA_STORE  \n",
       "0  Pitt_0050002_dfc.pkl  \n",
       "1  Pitt_0050003_dfc.pkl  \n",
       "2  Pitt_0050005_dfc.pkl  \n",
       "3  Pitt_0050006_dfc.pkl  \n",
       "4  Pitt_0050008_dfc.pkl  "
      ]
     },
     "execution_count": 27,
     "metadata": {},
     "output_type": "execute_result"
    }
   ],
   "source": [
    "nn_aal.head()"
   ]
  },
  {
   "cell_type": "code",
   "execution_count": 28,
   "metadata": {
    "pycharm": {
     "name": "#%%\n"
    }
   },
   "outputs": [
    {
     "name": "stdout",
     "output_type": "stream",
     "text": [
      "<class 'pandas.core.frame.DataFrame'>\n",
      "RangeIndex: 986 entries, 0 to 985\n",
      "Data columns (total 9 columns):\n",
      " #   Column          Non-Null Count  Dtype  \n",
      "---  ------          --------------  -----  \n",
      " 0   SUB_ID          986 non-null    int64  \n",
      " 1   FILE_ID         986 non-null    object \n",
      " 2   AGE_AT_SCAN     986 non-null    float64\n",
      " 3   SEX             986 non-null    int64  \n",
      " 4   DSM_IV_TR       986 non-null    int64  \n",
      " 5   DX_GROUP        986 non-null    int64  \n",
      " 6   FMRI_FILES      986 non-null    object \n",
      " 7   CC200           986 non-null    object \n",
      " 8   DFC_DATA_STORE  986 non-null    object \n",
      "dtypes: float64(1), int64(4), object(4)\n",
      "memory usage: 69.5+ KB\n"
     ]
    }
   ],
   "source": [
    "nn_aal.info()"
   ]
  },
  {
   "cell_type": "code",
   "execution_count": 29,
   "metadata": {
    "pycharm": {
     "name": "#%%\n"
    }
   },
   "outputs": [],
   "source": [
    "nn_aal= nn_aal.loc[:,['FILE_ID','DX_GROUP']]"
   ]
  },
  {
   "cell_type": "code",
   "execution_count": 30,
   "metadata": {
    "pycharm": {
     "name": "#%%\n"
    }
   },
   "outputs": [
    {
     "data": {
      "image/png": "[encoded data removed]",
      "text/plain": [
       "<Figure size 500x500 with 1 Axes>"
      ]
     },
     "metadata": {},
     "output_type": "display_data"
    }
   ],
   "source": [
    "plt.figure(figsize=(5,5))\n",
    "sns.countplot(nn_aal, x = 'DX_GROUP')\n",
    "plt.show()"
   ]
  },
  {
   "cell_type": "markdown",
   "metadata": {},
   "source": [
    "The removal of subjects with null values did not seem to unduly affect the ratio between the two dignostic classes"
   ]
  },
  {
   "cell_type": "code",
   "execution_count": 31,
   "metadata": {
    "pycharm": {
     "name": "#%%\n"
    }
   },
   "outputs": [
    {
     "name": "stdout",
     "output_type": "stream",
     "text": [
      "Train test target: \n",
      "2    412\n",
      "1    376\n",
      "Name: DX_GROUP, dtype: int64 \n",
      " Test set target \n",
      "2    104\n",
      "1     94\n",
      "Name: DX_GROUP, dtype: int64\n"
     ]
    }
   ],
   "source": [
    "features = nn_aal.columns.to_list()  # all feature names\n",
    "aal_y = nn_aal[features[-1]]  # target feature 'DX_GROUP'\n",
    "aal_X = nn_aal[features[:-1]]  # independent variables\n",
    "X_nntrain, X_nntest, y_nntrain, y_nntest = train_test_split(aal_X, aal_y, test_size=0.2,\n",
    "                                                    random_state=42)  # split into train and test sets\n",
    "print(f\"Train test target: \\n{y_nntrain.value_counts()} \\n Test set target \\n{y_nntest.value_counts()}\")"
   ]
  },
  {
   "cell_type": "code",
   "execution_count": 32,
   "metadata": {
    "pycharm": {
     "name": "#%%\n"
    }
   },
   "outputs": [],
   "source": [
    "X_nntrain['TARGET']= y_nntrain # merge X and y train sets into one dataframe for saving"
   ]
  },
  {
   "cell_type": "code",
   "execution_count": 33,
   "metadata": {
    "pycharm": {
     "name": "#%%\n"
    }
   },
   "outputs": [],
   "source": [
    "X_nntest['TARGET']= y_nntest# merge X and y test sets into one dataframe for saving"
   ]
  },
  {
   "cell_type": "code",
   "execution_count": 34,
   "metadata": {
    "pycharm": {
     "name": "#%%\n"
    }
   },
   "outputs": [],
   "source": [
    "def binarize(df):\n",
    "    new_target = [1 if x == 1 else 0 for x in df['TARGET']]  # turn target in to binary\n",
    "    df['TARGET'] = new_target\n",
    "    return df"
   ]
  },
  {
   "cell_type": "code",
   "execution_count": 35,
   "metadata": {
    "pycharm": {
     "name": "#%%\n"
    }
   },
   "outputs": [],
   "source": [
    "train_aal,test_aal =map(binarize, [X_nntrain,X_nntest]) # map binarise function over dataframes and save in variables"
   ]
  },
  {
   "cell_type": "code",
   "execution_count": 36,
   "metadata": {
    "pycharm": {
     "name": "#%%\n"
    }
   },
   "outputs": [],
   "source": [
    "train_aal = train_aal.reset_index(drop=True)\n",
    "test_aal = test_aal.reset_index(drop=True)"
   ]
  },
  {
   "cell_type": "code",
   "execution_count": 37,
   "metadata": {
    "pycharm": {
     "name": "#%%\n"
    }
   },
   "outputs": [],
   "source": [
    "train_aal_path = os.path.join(pheno_dir, 'train_aal.csv')\n",
    "test_aal_path = os.path.join(pheno_dir, 'test_aal.csv')"
   ]
  },
  {
   "cell_type": "code",
   "execution_count": 38,
   "metadata": {
    "pycharm": {
     "name": "#%%\n"
    }
   },
   "outputs": [],
   "source": [
    "train_aal.to_csv(train_aal_path, index=False)\n",
    "test_aal.to_csv(test_aal_path, index=False)"
   ]
  },
  {
   "cell_type": "markdown",
   "metadata": {
    "pycharm": {
     "name": "#%% md\n"
    }
   },
   "source": [
    "## split AAL data into multiclass"
   ]
  },
  {
   "cell_type": "code",
   "execution_count": 21,
   "metadata": {
    "pycharm": {
     "name": "#%%\n"
    }
   },
   "outputs": [],
   "source": [
    "mc_df_aal = nn_aal.copy()"
   ]
  },
  {
   "cell_type": "code",
   "execution_count": 24,
   "metadata": {
    "pycharm": {
     "name": "#%%\n"
    }
   },
   "outputs": [
    {
     "data": {
      "image/png": "[encoded data removed]",
      "text/plain": [
       "<Figure size 640x480 with 1 Axes>"
      ]
     },
     "metadata": {},
     "output_type": "display_data"
    }
   ],
   "source": [
    "plt.Figure()\n",
    "sns.countplot(data = mc_df_aal, x ='DSM_IV_TR')\n",
    "plt.xticks(range(5))\n",
    "plt.show()"
   ]
  },
  {
   "cell_type": "code",
   "execution_count": 23,
   "metadata": {
    "pycharm": {
     "name": "#%%\n"
    }
   },
   "outputs": [
    {
     "data": {
      "text/html": [
       "<div>\n",
       "<style scoped>\n",
       "    .dataframe tbody tr th:only-of-type {\n",
       "        vertical-align: middle;\n",
       "    }\n",
       "\n",
       "    .dataframe tbody tr th {\n",
       "        vertical-align: top;\n",
       "    }\n",
       "\n",
       "    .dataframe thead th {\n",
       "        text-align: right;\n",
       "    }\n",
       "</style>\n",
       "<table border=\"1\" class=\"dataframe\">\n",
       "  <thead>\n",
       "    <tr style=\"text-align: right;\">\n",
       "      <th></th>\n",
       "      <th>SUB_ID</th>\n",
       "      <th>FILE_ID</th>\n",
       "      <th>AGE_AT_SCAN</th>\n",
       "      <th>SEX</th>\n",
       "      <th>DSM_IV_TR</th>\n",
       "      <th>DX_GROUP</th>\n",
       "      <th>FMRI_FILES</th>\n",
       "      <th>CC200</th>\n",
       "      <th>DFC_DATA_STORE</th>\n",
       "    </tr>\n",
       "  </thead>\n",
       "  <tbody>\n",
       "    <tr>\n",
       "      <th>80</th>\n",
       "      <td>50188</td>\n",
       "      <td>SDSU_0050188</td>\n",
       "      <td>15.4000</td>\n",
       "      <td>1</td>\n",
       "      <td>-9999</td>\n",
       "      <td>1</td>\n",
       "      <td>SDSU_0050188_func_preproc.nii.gz</td>\n",
       "      <td>SDSU_0050188_rois_cc200.1D</td>\n",
       "      <td>SDSU_0050188_dfc.pkl</td>\n",
       "    </tr>\n",
       "    <tr>\n",
       "      <th>83</th>\n",
       "      <td>50191</td>\n",
       "      <td>SDSU_0050191</td>\n",
       "      <td>12.6300</td>\n",
       "      <td>1</td>\n",
       "      <td>-9999</td>\n",
       "      <td>1</td>\n",
       "      <td>SDSU_0050191_func_preproc.nii.gz</td>\n",
       "      <td>SDSU_0050191_rois_cc200.1D</td>\n",
       "      <td>SDSU_0050191_dfc.pkl</td>\n",
       "    </tr>\n",
       "    <tr>\n",
       "      <th>167</th>\n",
       "      <td>50297</td>\n",
       "      <td>UM_1_0050297</td>\n",
       "      <td>15.9000</td>\n",
       "      <td>1</td>\n",
       "      <td>-9999</td>\n",
       "      <td>1</td>\n",
       "      <td>UM_1_0050297_func_preproc.nii.gz</td>\n",
       "      <td>UM_1_0050297_rois_cc200.1D</td>\n",
       "      <td>UM_1_0050297_dfc.pkl</td>\n",
       "    </tr>\n",
       "    <tr>\n",
       "      <th>172</th>\n",
       "      <td>50302</td>\n",
       "      <td>UM_1_0050302</td>\n",
       "      <td>10.4000</td>\n",
       "      <td>2</td>\n",
       "      <td>-9999</td>\n",
       "      <td>1</td>\n",
       "      <td>UM_1_0050302_func_preproc.nii.gz</td>\n",
       "      <td>UM_1_0050302_rois_cc200.1D</td>\n",
       "      <td>UM_1_0050302_dfc.pkl</td>\n",
       "    </tr>\n",
       "    <tr>\n",
       "      <th>763</th>\n",
       "      <td>51160</td>\n",
       "      <td>Stanford_0051160</td>\n",
       "      <td>7.9336</td>\n",
       "      <td>1</td>\n",
       "      <td>-9999</td>\n",
       "      <td>1</td>\n",
       "      <td>Stanford_0051160_func_preproc.nii.gz</td>\n",
       "      <td>Stanford_0051160_rois_cc200.1D</td>\n",
       "      <td>Stanford_0051160_dfc.pkl</td>\n",
       "    </tr>\n",
       "    <tr>\n",
       "      <th>764</th>\n",
       "      <td>51161</td>\n",
       "      <td>Stanford_0051161</td>\n",
       "      <td>9.0301</td>\n",
       "      <td>1</td>\n",
       "      <td>-9999</td>\n",
       "      <td>1</td>\n",
       "      <td>Stanford_0051161_func_preproc.nii.gz</td>\n",
       "      <td>Stanford_0051161_rois_cc200.1D</td>\n",
       "      <td>Stanford_0051161_dfc.pkl</td>\n",
       "    </tr>\n",
       "    <tr>\n",
       "      <th>765</th>\n",
       "      <td>51162</td>\n",
       "      <td>Stanford_0051162</td>\n",
       "      <td>8.9199</td>\n",
       "      <td>2</td>\n",
       "      <td>-9999</td>\n",
       "      <td>1</td>\n",
       "      <td>Stanford_0051162_func_preproc.nii.gz</td>\n",
       "      <td>Stanford_0051162_rois_cc200.1D</td>\n",
       "      <td>Stanford_0051162_dfc.pkl</td>\n",
       "    </tr>\n",
       "    <tr>\n",
       "      <th>766</th>\n",
       "      <td>51163</td>\n",
       "      <td>Stanford_0051163</td>\n",
       "      <td>9.0821</td>\n",
       "      <td>1</td>\n",
       "      <td>-9999</td>\n",
       "      <td>1</td>\n",
       "      <td>Stanford_0051163_func_preproc.nii.gz</td>\n",
       "      <td>Stanford_0051163_rois_cc200.1D</td>\n",
       "      <td>Stanford_0051163_dfc.pkl</td>\n",
       "    </tr>\n",
       "    <tr>\n",
       "      <th>767</th>\n",
       "      <td>51164</td>\n",
       "      <td>Stanford_0051164</td>\n",
       "      <td>8.4216</td>\n",
       "      <td>2</td>\n",
       "      <td>-9999</td>\n",
       "      <td>1</td>\n",
       "      <td>Stanford_0051164_func_preproc.nii.gz</td>\n",
       "      <td>Stanford_0051164_rois_cc200.1D</td>\n",
       "      <td>Stanford_0051164_dfc.pkl</td>\n",
       "    </tr>\n",
       "    <tr>\n",
       "      <th>768</th>\n",
       "      <td>51165</td>\n",
       "      <td>Stanford_0051165</td>\n",
       "      <td>11.8433</td>\n",
       "      <td>1</td>\n",
       "      <td>-9999</td>\n",
       "      <td>1</td>\n",
       "      <td>Stanford_0051165_func_preproc.nii.gz</td>\n",
       "      <td>Stanford_0051165_rois_cc200.1D</td>\n",
       "      <td>Stanford_0051165_dfc.pkl</td>\n",
       "    </tr>\n",
       "    <tr>\n",
       "      <th>769</th>\n",
       "      <td>51166</td>\n",
       "      <td>Stanford_0051166</td>\n",
       "      <td>8.3833</td>\n",
       "      <td>1</td>\n",
       "      <td>-9999</td>\n",
       "      <td>1</td>\n",
       "      <td>Stanford_0051166_func_preproc.nii.gz</td>\n",
       "      <td>Stanford_0051166_rois_cc200.1D</td>\n",
       "      <td>Stanford_0051166_dfc.pkl</td>\n",
       "    </tr>\n",
       "    <tr>\n",
       "      <th>770</th>\n",
       "      <td>51167</td>\n",
       "      <td>Stanford_0051167</td>\n",
       "      <td>11.8789</td>\n",
       "      <td>2</td>\n",
       "      <td>-9999</td>\n",
       "      <td>1</td>\n",
       "      <td>Stanford_0051167_func_preproc.nii.gz</td>\n",
       "      <td>Stanford_0051167_rois_cc200.1D</td>\n",
       "      <td>Stanford_0051167_dfc.pkl</td>\n",
       "    </tr>\n",
       "    <tr>\n",
       "      <th>771</th>\n",
       "      <td>51168</td>\n",
       "      <td>Stanford_0051168</td>\n",
       "      <td>11.2628</td>\n",
       "      <td>1</td>\n",
       "      <td>-9999</td>\n",
       "      <td>1</td>\n",
       "      <td>Stanford_0051168_func_preproc.nii.gz</td>\n",
       "      <td>Stanford_0051168_rois_cc200.1D</td>\n",
       "      <td>Stanford_0051168_dfc.pkl</td>\n",
       "    </tr>\n",
       "    <tr>\n",
       "      <th>772</th>\n",
       "      <td>51169</td>\n",
       "      <td>Stanford_0051169</td>\n",
       "      <td>9.7775</td>\n",
       "      <td>1</td>\n",
       "      <td>-9999</td>\n",
       "      <td>1</td>\n",
       "      <td>Stanford_0051169_func_preproc.nii.gz</td>\n",
       "      <td>Stanford_0051169_rois_cc200.1D</td>\n",
       "      <td>Stanford_0051169_dfc.pkl</td>\n",
       "    </tr>\n",
       "    <tr>\n",
       "      <th>773</th>\n",
       "      <td>51170</td>\n",
       "      <td>Stanford_0051170</td>\n",
       "      <td>10.8652</td>\n",
       "      <td>2</td>\n",
       "      <td>-9999</td>\n",
       "      <td>1</td>\n",
       "      <td>Stanford_0051170_func_preproc.nii.gz</td>\n",
       "      <td>Stanford_0051170_rois_cc200.1D</td>\n",
       "      <td>Stanford_0051170_dfc.pkl</td>\n",
       "    </tr>\n",
       "    <tr>\n",
       "      <th>774</th>\n",
       "      <td>51171</td>\n",
       "      <td>Stanford_0051171</td>\n",
       "      <td>12.9363</td>\n",
       "      <td>1</td>\n",
       "      <td>-9999</td>\n",
       "      <td>1</td>\n",
       "      <td>Stanford_0051171_func_preproc.nii.gz</td>\n",
       "      <td>Stanford_0051171_rois_cc200.1D</td>\n",
       "      <td>Stanford_0051171_dfc.pkl</td>\n",
       "    </tr>\n",
       "    <tr>\n",
       "      <th>775</th>\n",
       "      <td>51172</td>\n",
       "      <td>Stanford_0051172</td>\n",
       "      <td>8.7912</td>\n",
       "      <td>1</td>\n",
       "      <td>-9999</td>\n",
       "      <td>1</td>\n",
       "      <td>Stanford_0051172_func_preproc.nii.gz</td>\n",
       "      <td>Stanford_0051172_rois_cc200.1D</td>\n",
       "      <td>Stanford_0051172_dfc.pkl</td>\n",
       "    </tr>\n",
       "    <tr>\n",
       "      <th>776</th>\n",
       "      <td>51173</td>\n",
       "      <td>Stanford_0051173</td>\n",
       "      <td>7.5284</td>\n",
       "      <td>1</td>\n",
       "      <td>-9999</td>\n",
       "      <td>1</td>\n",
       "      <td>Stanford_0051173_func_preproc.nii.gz</td>\n",
       "      <td>Stanford_0051173_rois_cc200.1D</td>\n",
       "      <td>Stanford_0051173_dfc.pkl</td>\n",
       "    </tr>\n",
       "    <tr>\n",
       "      <th>777</th>\n",
       "      <td>51174</td>\n",
       "      <td>Stanford_0051174</td>\n",
       "      <td>9.9473</td>\n",
       "      <td>1</td>\n",
       "      <td>-9999</td>\n",
       "      <td>1</td>\n",
       "      <td>Stanford_0051174_func_preproc.nii.gz</td>\n",
       "      <td>Stanford_0051174_rois_cc200.1D</td>\n",
       "      <td>Stanford_0051174_dfc.pkl</td>\n",
       "    </tr>\n",
       "    <tr>\n",
       "      <th>778</th>\n",
       "      <td>51175</td>\n",
       "      <td>Stanford_0051175</td>\n",
       "      <td>8.5804</td>\n",
       "      <td>1</td>\n",
       "      <td>-9999</td>\n",
       "      <td>1</td>\n",
       "      <td>Stanford_0051175_func_preproc.nii.gz</td>\n",
       "      <td>Stanford_0051175_rois_cc200.1D</td>\n",
       "      <td>Stanford_0051175_dfc.pkl</td>\n",
       "    </tr>\n",
       "    <tr>\n",
       "      <th>779</th>\n",
       "      <td>51176</td>\n",
       "      <td>Stanford_0051176</td>\n",
       "      <td>9.2710</td>\n",
       "      <td>1</td>\n",
       "      <td>-9999</td>\n",
       "      <td>1</td>\n",
       "      <td>Stanford_0051176_func_preproc.nii.gz</td>\n",
       "      <td>Stanford_0051176_rois_cc200.1D</td>\n",
       "      <td>Stanford_0051176_dfc.pkl</td>\n",
       "    </tr>\n",
       "    <tr>\n",
       "      <th>780</th>\n",
       "      <td>51177</td>\n",
       "      <td>Stanford_0051177</td>\n",
       "      <td>11.6982</td>\n",
       "      <td>1</td>\n",
       "      <td>-9999</td>\n",
       "      <td>1</td>\n",
       "      <td>Stanford_0051177_func_preproc.nii.gz</td>\n",
       "      <td>Stanford_0051177_rois_cc200.1D</td>\n",
       "      <td>Stanford_0051177_dfc.pkl</td>\n",
       "    </tr>\n",
       "    <tr>\n",
       "      <th>781</th>\n",
       "      <td>51178</td>\n",
       "      <td>Stanford_0051178</td>\n",
       "      <td>11.4326</td>\n",
       "      <td>1</td>\n",
       "      <td>-9999</td>\n",
       "      <td>1</td>\n",
       "      <td>Stanford_0051178_func_preproc.nii.gz</td>\n",
       "      <td>Stanford_0051178_rois_cc200.1D</td>\n",
       "      <td>Stanford_0051178_dfc.pkl</td>\n",
       "    </tr>\n",
       "    <tr>\n",
       "      <th>782</th>\n",
       "      <td>51179</td>\n",
       "      <td>Stanford_0051179</td>\n",
       "      <td>11.6543</td>\n",
       "      <td>1</td>\n",
       "      <td>-9999</td>\n",
       "      <td>1</td>\n",
       "      <td>Stanford_0051179_func_preproc.nii.gz</td>\n",
       "      <td>Stanford_0051179_rois_cc200.1D</td>\n",
       "      <td>Stanford_0051179_dfc.pkl</td>\n",
       "    </tr>\n",
       "    <tr>\n",
       "      <th>783</th>\n",
       "      <td>51180</td>\n",
       "      <td>Stanford_0051180</td>\n",
       "      <td>7.7502</td>\n",
       "      <td>2</td>\n",
       "      <td>-9999</td>\n",
       "      <td>2</td>\n",
       "      <td>Stanford_0051180_func_preproc.nii.gz</td>\n",
       "      <td>Stanford_0051180_rois_cc200.1D</td>\n",
       "      <td>Stanford_0051180_dfc.pkl</td>\n",
       "    </tr>\n",
       "    <tr>\n",
       "      <th>784</th>\n",
       "      <td>51181</td>\n",
       "      <td>Stanford_0051181</td>\n",
       "      <td>9.3149</td>\n",
       "      <td>1</td>\n",
       "      <td>-9999</td>\n",
       "      <td>2</td>\n",
       "      <td>Stanford_0051181_func_preproc.nii.gz</td>\n",
       "      <td>Stanford_0051181_rois_cc200.1D</td>\n",
       "      <td>Stanford_0051181_dfc.pkl</td>\n",
       "    </tr>\n",
       "    <tr>\n",
       "      <th>785</th>\n",
       "      <td>51182</td>\n",
       "      <td>Stanford_0051182</td>\n",
       "      <td>10.6927</td>\n",
       "      <td>1</td>\n",
       "      <td>-9999</td>\n",
       "      <td>2</td>\n",
       "      <td>Stanford_0051182_func_preproc.nii.gz</td>\n",
       "      <td>Stanford_0051182_rois_cc200.1D</td>\n",
       "      <td>Stanford_0051182_dfc.pkl</td>\n",
       "    </tr>\n",
       "    <tr>\n",
       "      <th>786</th>\n",
       "      <td>51183</td>\n",
       "      <td>Stanford_0051183</td>\n",
       "      <td>8.2656</td>\n",
       "      <td>1</td>\n",
       "      <td>-9999</td>\n",
       "      <td>2</td>\n",
       "      <td>Stanford_0051183_func_preproc.nii.gz</td>\n",
       "      <td>Stanford_0051183_rois_cc200.1D</td>\n",
       "      <td>Stanford_0051183_dfc.pkl</td>\n",
       "    </tr>\n",
       "    <tr>\n",
       "      <th>787</th>\n",
       "      <td>51184</td>\n",
       "      <td>Stanford_0051184</td>\n",
       "      <td>9.1068</td>\n",
       "      <td>2</td>\n",
       "      <td>-9999</td>\n",
       "      <td>2</td>\n",
       "      <td>Stanford_0051184_func_preproc.nii.gz</td>\n",
       "      <td>Stanford_0051184_rois_cc200.1D</td>\n",
       "      <td>Stanford_0051184_dfc.pkl</td>\n",
       "    </tr>\n",
       "    <tr>\n",
       "      <th>788</th>\n",
       "      <td>51185</td>\n",
       "      <td>Stanford_0051185</td>\n",
       "      <td>8.2464</td>\n",
       "      <td>1</td>\n",
       "      <td>-9999</td>\n",
       "      <td>2</td>\n",
       "      <td>Stanford_0051185_func_preproc.nii.gz</td>\n",
       "      <td>Stanford_0051185_rois_cc200.1D</td>\n",
       "      <td>Stanford_0051185_dfc.pkl</td>\n",
       "    </tr>\n",
       "    <tr>\n",
       "      <th>789</th>\n",
       "      <td>51186</td>\n",
       "      <td>Stanford_0051186</td>\n",
       "      <td>8.3203</td>\n",
       "      <td>1</td>\n",
       "      <td>-9999</td>\n",
       "      <td>2</td>\n",
       "      <td>Stanford_0051186_func_preproc.nii.gz</td>\n",
       "      <td>Stanford_0051186_rois_cc200.1D</td>\n",
       "      <td>Stanford_0051186_dfc.pkl</td>\n",
       "    </tr>\n",
       "    <tr>\n",
       "      <th>790</th>\n",
       "      <td>51187</td>\n",
       "      <td>Stanford_0051187</td>\n",
       "      <td>8.3313</td>\n",
       "      <td>1</td>\n",
       "      <td>-9999</td>\n",
       "      <td>2</td>\n",
       "      <td>Stanford_0051187_func_preproc.nii.gz</td>\n",
       "      <td>Stanford_0051187_rois_cc200.1D</td>\n",
       "      <td>Stanford_0051187_dfc.pkl</td>\n",
       "    </tr>\n",
       "    <tr>\n",
       "      <th>791</th>\n",
       "      <td>51188</td>\n",
       "      <td>Stanford_0051188</td>\n",
       "      <td>8.9747</td>\n",
       "      <td>2</td>\n",
       "      <td>-9999</td>\n",
       "      <td>2</td>\n",
       "      <td>Stanford_0051188_func_preproc.nii.gz</td>\n",
       "      <td>Stanford_0051188_rois_cc200.1D</td>\n",
       "      <td>Stanford_0051188_dfc.pkl</td>\n",
       "    </tr>\n",
       "    <tr>\n",
       "      <th>792</th>\n",
       "      <td>51189</td>\n",
       "      <td>Stanford_0051189</td>\n",
       "      <td>9.2081</td>\n",
       "      <td>1</td>\n",
       "      <td>-9999</td>\n",
       "      <td>2</td>\n",
       "      <td>Stanford_0051189_func_preproc.nii.gz</td>\n",
       "      <td>Stanford_0051189_rois_cc200.1D</td>\n",
       "      <td>Stanford_0051189_dfc.pkl</td>\n",
       "    </tr>\n",
       "    <tr>\n",
       "      <th>793</th>\n",
       "      <td>51190</td>\n",
       "      <td>Stanford_0051190</td>\n",
       "      <td>8.9363</td>\n",
       "      <td>1</td>\n",
       "      <td>-9999</td>\n",
       "      <td>2</td>\n",
       "      <td>Stanford_0051190_func_preproc.nii.gz</td>\n",
       "      <td>Stanford_0051190_rois_cc200.1D</td>\n",
       "      <td>Stanford_0051190_dfc.pkl</td>\n",
       "    </tr>\n",
       "    <tr>\n",
       "      <th>794</th>\n",
       "      <td>51191</td>\n",
       "      <td>Stanford_0051191</td>\n",
       "      <td>9.7201</td>\n",
       "      <td>1</td>\n",
       "      <td>-9999</td>\n",
       "      <td>2</td>\n",
       "      <td>Stanford_0051191_func_preproc.nii.gz</td>\n",
       "      <td>Stanford_0051191_rois_cc200.1D</td>\n",
       "      <td>Stanford_0051191_dfc.pkl</td>\n",
       "    </tr>\n",
       "    <tr>\n",
       "      <th>795</th>\n",
       "      <td>51192</td>\n",
       "      <td>Stanford_0051192</td>\n",
       "      <td>10.2218</td>\n",
       "      <td>2</td>\n",
       "      <td>-9999</td>\n",
       "      <td>2</td>\n",
       "      <td>Stanford_0051192_func_preproc.nii.gz</td>\n",
       "      <td>Stanford_0051192_rois_cc200.1D</td>\n",
       "      <td>Stanford_0051192_dfc.pkl</td>\n",
       "    </tr>\n",
       "    <tr>\n",
       "      <th>796</th>\n",
       "      <td>51193</td>\n",
       "      <td>Stanford_0051193</td>\n",
       "      <td>9.5202</td>\n",
       "      <td>1</td>\n",
       "      <td>-9999</td>\n",
       "      <td>2</td>\n",
       "      <td>Stanford_0051193_func_preproc.nii.gz</td>\n",
       "      <td>Stanford_0051193_rois_cc200.1D</td>\n",
       "      <td>Stanford_0051193_dfc.pkl</td>\n",
       "    </tr>\n",
       "    <tr>\n",
       "      <th>797</th>\n",
       "      <td>51194</td>\n",
       "      <td>Stanford_0051194</td>\n",
       "      <td>12.3477</td>\n",
       "      <td>1</td>\n",
       "      <td>-9999</td>\n",
       "      <td>2</td>\n",
       "      <td>Stanford_0051194_func_preproc.nii.gz</td>\n",
       "      <td>Stanford_0051194_rois_cc200.1D</td>\n",
       "      <td>Stanford_0051194_dfc.pkl</td>\n",
       "    </tr>\n",
       "    <tr>\n",
       "      <th>798</th>\n",
       "      <td>51195</td>\n",
       "      <td>Stanford_0051195</td>\n",
       "      <td>11.1780</td>\n",
       "      <td>1</td>\n",
       "      <td>-9999</td>\n",
       "      <td>2</td>\n",
       "      <td>Stanford_0051195_func_preproc.nii.gz</td>\n",
       "      <td>Stanford_0051195_rois_cc200.1D</td>\n",
       "      <td>Stanford_0051195_dfc.pkl</td>\n",
       "    </tr>\n",
       "    <tr>\n",
       "      <th>799</th>\n",
       "      <td>51196</td>\n",
       "      <td>Stanford_0051196</td>\n",
       "      <td>11.8816</td>\n",
       "      <td>1</td>\n",
       "      <td>-9999</td>\n",
       "      <td>2</td>\n",
       "      <td>Stanford_0051196_func_preproc.nii.gz</td>\n",
       "      <td>Stanford_0051196_rois_cc200.1D</td>\n",
       "      <td>Stanford_0051196_dfc.pkl</td>\n",
       "    </tr>\n",
       "    <tr>\n",
       "      <th>800</th>\n",
       "      <td>51197</td>\n",
       "      <td>Stanford_0051197</td>\n",
       "      <td>12.4298</td>\n",
       "      <td>1</td>\n",
       "      <td>-9999</td>\n",
       "      <td>2</td>\n",
       "      <td>Stanford_0051197_func_preproc.nii.gz</td>\n",
       "      <td>Stanford_0051197_rois_cc200.1D</td>\n",
       "      <td>Stanford_0051197_dfc.pkl</td>\n",
       "    </tr>\n",
       "    <tr>\n",
       "      <th>801</th>\n",
       "      <td>51198</td>\n",
       "      <td>Stanford_0051198</td>\n",
       "      <td>12.2546</td>\n",
       "      <td>1</td>\n",
       "      <td>-9999</td>\n",
       "      <td>2</td>\n",
       "      <td>Stanford_0051198_func_preproc.nii.gz</td>\n",
       "      <td>Stanford_0051198_rois_cc200.1D</td>\n",
       "      <td>Stanford_0051198_dfc.pkl</td>\n",
       "    </tr>\n",
       "    <tr>\n",
       "      <th>802</th>\n",
       "      <td>51199</td>\n",
       "      <td>Stanford_0051199</td>\n",
       "      <td>12.3833</td>\n",
       "      <td>1</td>\n",
       "      <td>-9999</td>\n",
       "      <td>2</td>\n",
       "      <td>Stanford_0051199_func_preproc.nii.gz</td>\n",
       "      <td>Stanford_0051199_rois_cc200.1D</td>\n",
       "      <td>Stanford_0051199_dfc.pkl</td>\n",
       "    </tr>\n",
       "  </tbody>\n",
       "</table>\n",
       "</div>"
      ],
      "text/plain": [
       "     SUB_ID           FILE_ID  AGE_AT_SCAN  SEX  DSM_IV_TR  DX_GROUP  \\\n",
       "80    50188      SDSU_0050188      15.4000    1      -9999         1   \n",
       "83    50191      SDSU_0050191      12.6300    1      -9999         1   \n",
       "167   50297      UM_1_0050297      15.9000    1      -9999         1   \n",
       "172   50302      UM_1_0050302      10.4000    2      -9999         1   \n",
       "763   51160  Stanford_0051160       7.9336    1      -9999         1   \n",
       "764   51161  Stanford_0051161       9.0301    1      -9999         1   \n",
       "765   51162  Stanford_0051162       8.9199    2      -9999         1   \n",
       "766   51163  Stanford_0051163       9.0821    1      -9999         1   \n",
       "767   51164  Stanford_0051164       8.4216    2      -9999         1   \n",
       "768   51165  Stanford_0051165      11.8433    1      -9999         1   \n",
       "769   51166  Stanford_0051166       8.3833    1      -9999         1   \n",
       "770   51167  Stanford_0051167      11.8789    2      -9999         1   \n",
       "771   51168  Stanford_0051168      11.2628    1      -9999         1   \n",
       "772   51169  Stanford_0051169       9.7775    1      -9999         1   \n",
       "773   51170  Stanford_0051170      10.8652    2      -9999         1   \n",
       "774   51171  Stanford_0051171      12.9363    1      -9999         1   \n",
       "775   51172  Stanford_0051172       8.7912    1      -9999         1   \n",
       "776   51173  Stanford_0051173       7.5284    1      -9999         1   \n",
       "777   51174  Stanford_0051174       9.9473    1      -9999         1   \n",
       "778   51175  Stanford_0051175       8.5804    1      -9999         1   \n",
       "779   51176  Stanford_0051176       9.2710    1      -9999         1   \n",
       "780   51177  Stanford_0051177      11.6982    1      -9999         1   \n",
       "781   51178  Stanford_0051178      11.4326    1      -9999         1   \n",
       "782   51179  Stanford_0051179      11.6543    1      -9999         1   \n",
       "783   51180  Stanford_0051180       7.7502    2      -9999         2   \n",
       "784   51181  Stanford_0051181       9.3149    1      -9999         2   \n",
       "785   51182  Stanford_0051182      10.6927    1      -9999         2   \n",
       "786   51183  Stanford_0051183       8.2656    1      -9999         2   \n",
       "787   51184  Stanford_0051184       9.1068    2      -9999         2   \n",
       "788   51185  Stanford_0051185       8.2464    1      -9999         2   \n",
       "789   51186  Stanford_0051186       8.3203    1      -9999         2   \n",
       "790   51187  Stanford_0051187       8.3313    1      -9999         2   \n",
       "791   51188  Stanford_0051188       8.9747    2      -9999         2   \n",
       "792   51189  Stanford_0051189       9.2081    1      -9999         2   \n",
       "793   51190  Stanford_0051190       8.9363    1      -9999         2   \n",
       "794   51191  Stanford_0051191       9.7201    1      -9999         2   \n",
       "795   51192  Stanford_0051192      10.2218    2      -9999         2   \n",
       "796   51193  Stanford_0051193       9.5202    1      -9999         2   \n",
       "797   51194  Stanford_0051194      12.3477    1      -9999         2   \n",
       "798   51195  Stanford_0051195      11.1780    1      -9999         2   \n",
       "799   51196  Stanford_0051196      11.8816    1      -9999         2   \n",
       "800   51197  Stanford_0051197      12.4298    1      -9999         2   \n",
       "801   51198  Stanford_0051198      12.2546    1      -9999         2   \n",
       "802   51199  Stanford_0051199      12.3833    1      -9999         2   \n",
       "\n",
       "                               FMRI_FILES                           CC200  \\\n",
       "80       SDSU_0050188_func_preproc.nii.gz      SDSU_0050188_rois_cc200.1D   \n",
       "83       SDSU_0050191_func_preproc.nii.gz      SDSU_0050191_rois_cc200.1D   \n",
       "167      UM_1_0050297_func_preproc.nii.gz      UM_1_0050297_rois_cc200.1D   \n",
       "172      UM_1_0050302_func_preproc.nii.gz      UM_1_0050302_rois_cc200.1D   \n",
       "763  Stanford_0051160_func_preproc.nii.gz  Stanford_0051160_rois_cc200.1D   \n",
       "764  Stanford_0051161_func_preproc.nii.gz  Stanford_0051161_rois_cc200.1D   \n",
       "765  Stanford_0051162_func_preproc.nii.gz  Stanford_0051162_rois_cc200.1D   \n",
       "766  Stanford_0051163_func_preproc.nii.gz  Stanford_0051163_rois_cc200.1D   \n",
       "767  Stanford_0051164_func_preproc.nii.gz  Stanford_0051164_rois_cc200.1D   \n",
       "768  Stanford_0051165_func_preproc.nii.gz  Stanford_0051165_rois_cc200.1D   \n",
       "769  Stanford_0051166_func_preproc.nii.gz  Stanford_0051166_rois_cc200.1D   \n",
       "770  Stanford_0051167_func_preproc.nii.gz  Stanford_0051167_rois_cc200.1D   \n",
       "771  Stanford_0051168_func_preproc.nii.gz  Stanford_0051168_rois_cc200.1D   \n",
       "772  Stanford_0051169_func_preproc.nii.gz  Stanford_0051169_rois_cc200.1D   \n",
       "773  Stanford_0051170_func_preproc.nii.gz  Stanford_0051170_rois_cc200.1D   \n",
       "774  Stanford_0051171_func_preproc.nii.gz  Stanford_0051171_rois_cc200.1D   \n",
       "775  Stanford_0051172_func_preproc.nii.gz  Stanford_0051172_rois_cc200.1D   \n",
       "776  Stanford_0051173_func_preproc.nii.gz  Stanford_0051173_rois_cc200.1D   \n",
       "777  Stanford_0051174_func_preproc.nii.gz  Stanford_0051174_rois_cc200.1D   \n",
       "778  Stanford_0051175_func_preproc.nii.gz  Stanford_0051175_rois_cc200.1D   \n",
       "779  Stanford_0051176_func_preproc.nii.gz  Stanford_0051176_rois_cc200.1D   \n",
       "780  Stanford_0051177_func_preproc.nii.gz  Stanford_0051177_rois_cc200.1D   \n",
       "781  Stanford_0051178_func_preproc.nii.gz  Stanford_0051178_rois_cc200.1D   \n",
       "782  Stanford_0051179_func_preproc.nii.gz  Stanford_0051179_rois_cc200.1D   \n",
       "783  Stanford_0051180_func_preproc.nii.gz  Stanford_0051180_rois_cc200.1D   \n",
       "784  Stanford_0051181_func_preproc.nii.gz  Stanford_0051181_rois_cc200.1D   \n",
       "785  Stanford_0051182_func_preproc.nii.gz  Stanford_0051182_rois_cc200.1D   \n",
       "786  Stanford_0051183_func_preproc.nii.gz  Stanford_0051183_rois_cc200.1D   \n",
       "787  Stanford_0051184_func_preproc.nii.gz  Stanford_0051184_rois_cc200.1D   \n",
       "788  Stanford_0051185_func_preproc.nii.gz  Stanford_0051185_rois_cc200.1D   \n",
       "789  Stanford_0051186_func_preproc.nii.gz  Stanford_0051186_rois_cc200.1D   \n",
       "790  Stanford_0051187_func_preproc.nii.gz  Stanford_0051187_rois_cc200.1D   \n",
       "791  Stanford_0051188_func_preproc.nii.gz  Stanford_0051188_rois_cc200.1D   \n",
       "792  Stanford_0051189_func_preproc.nii.gz  Stanford_0051189_rois_cc200.1D   \n",
       "793  Stanford_0051190_func_preproc.nii.gz  Stanford_0051190_rois_cc200.1D   \n",
       "794  Stanford_0051191_func_preproc.nii.gz  Stanford_0051191_rois_cc200.1D   \n",
       "795  Stanford_0051192_func_preproc.nii.gz  Stanford_0051192_rois_cc200.1D   \n",
       "796  Stanford_0051193_func_preproc.nii.gz  Stanford_0051193_rois_cc200.1D   \n",
       "797  Stanford_0051194_func_preproc.nii.gz  Stanford_0051194_rois_cc200.1D   \n",
       "798  Stanford_0051195_func_preproc.nii.gz  Stanford_0051195_rois_cc200.1D   \n",
       "799  Stanford_0051196_func_preproc.nii.gz  Stanford_0051196_rois_cc200.1D   \n",
       "800  Stanford_0051197_func_preproc.nii.gz  Stanford_0051197_rois_cc200.1D   \n",
       "801  Stanford_0051198_func_preproc.nii.gz  Stanford_0051198_rois_cc200.1D   \n",
       "802  Stanford_0051199_func_preproc.nii.gz  Stanford_0051199_rois_cc200.1D   \n",
       "\n",
       "               DFC_DATA_STORE  \n",
       "80       SDSU_0050188_dfc.pkl  \n",
       "83       SDSU_0050191_dfc.pkl  \n",
       "167      UM_1_0050297_dfc.pkl  \n",
       "172      UM_1_0050302_dfc.pkl  \n",
       "763  Stanford_0051160_dfc.pkl  \n",
       "764  Stanford_0051161_dfc.pkl  \n",
       "765  Stanford_0051162_dfc.pkl  \n",
       "766  Stanford_0051163_dfc.pkl  \n",
       "767  Stanford_0051164_dfc.pkl  \n",
       "768  Stanford_0051165_dfc.pkl  \n",
       "769  Stanford_0051166_dfc.pkl  \n",
       "770  Stanford_0051167_dfc.pkl  \n",
       "771  Stanford_0051168_dfc.pkl  \n",
       "772  Stanford_0051169_dfc.pkl  \n",
       "773  Stanford_0051170_dfc.pkl  \n",
       "774  Stanford_0051171_dfc.pkl  \n",
       "775  Stanford_0051172_dfc.pkl  \n",
       "776  Stanford_0051173_dfc.pkl  \n",
       "777  Stanford_0051174_dfc.pkl  \n",
       "778  Stanford_0051175_dfc.pkl  \n",
       "779  Stanford_0051176_dfc.pkl  \n",
       "780  Stanford_0051177_dfc.pkl  \n",
       "781  Stanford_0051178_dfc.pkl  \n",
       "782  Stanford_0051179_dfc.pkl  \n",
       "783  Stanford_0051180_dfc.pkl  \n",
       "784  Stanford_0051181_dfc.pkl  \n",
       "785  Stanford_0051182_dfc.pkl  \n",
       "786  Stanford_0051183_dfc.pkl  \n",
       "787  Stanford_0051184_dfc.pkl  \n",
       "788  Stanford_0051185_dfc.pkl  \n",
       "789  Stanford_0051186_dfc.pkl  \n",
       "790  Stanford_0051187_dfc.pkl  \n",
       "791  Stanford_0051188_dfc.pkl  \n",
       "792  Stanford_0051189_dfc.pkl  \n",
       "793  Stanford_0051190_dfc.pkl  \n",
       "794  Stanford_0051191_dfc.pkl  \n",
       "795  Stanford_0051192_dfc.pkl  \n",
       "796  Stanford_0051193_dfc.pkl  \n",
       "797  Stanford_0051194_dfc.pkl  \n",
       "798  Stanford_0051195_dfc.pkl  \n",
       "799  Stanford_0051196_dfc.pkl  \n",
       "800  Stanford_0051197_dfc.pkl  \n",
       "801  Stanford_0051198_dfc.pkl  \n",
       "802  Stanford_0051199_dfc.pkl  "
      ]
     },
     "execution_count": 23,
     "metadata": {},
     "output_type": "execute_result"
    }
   ],
   "source": [
    "mc_df_aal[(mc_df_aal['DSM_IV_TR']==-9999)]"
   ]
  },
  {
   "cell_type": "code",
   "execution_count": 25,
   "metadata": {
    "pycharm": {
     "name": "#%%\n"
    }
   },
   "outputs": [],
   "source": [
    "ind4_aal = mc_df_aal[(mc_df_aal['DSM_IV_TR']==-9999)].index #index for sole 4 class\n",
    "mc_df_aal.drop(ind4_aal, inplace =True ) # drop index"
   ]
  },
  {
   "cell_type": "code",
   "execution_count": 26,
   "metadata": {
    "pycharm": {
     "name": "#%%\n"
    }
   },
   "outputs": [
    {
     "data": {
      "text/html": [
       "<div>\n",
       "<style scoped>\n",
       "    .dataframe tbody tr th:only-of-type {\n",
       "        vertical-align: middle;\n",
       "    }\n",
       "\n",
       "    .dataframe tbody tr th {\n",
       "        vertical-align: top;\n",
       "    }\n",
       "\n",
       "    .dataframe thead th {\n",
       "        text-align: right;\n",
       "    }\n",
       "</style>\n",
       "<table border=\"1\" class=\"dataframe\">\n",
       "  <thead>\n",
       "    <tr style=\"text-align: right;\">\n",
       "      <th></th>\n",
       "      <th>SUB_ID</th>\n",
       "      <th>FILE_ID</th>\n",
       "      <th>AGE_AT_SCAN</th>\n",
       "      <th>SEX</th>\n",
       "      <th>DSM_IV_TR</th>\n",
       "      <th>DX_GROUP</th>\n",
       "      <th>FMRI_FILES</th>\n",
       "      <th>CC200</th>\n",
       "      <th>DFC_DATA_STORE</th>\n",
       "    </tr>\n",
       "  </thead>\n",
       "  <tbody>\n",
       "    <tr>\n",
       "      <th>0</th>\n",
       "      <td>50002</td>\n",
       "      <td>Pitt_0050002</td>\n",
       "      <td>16.77</td>\n",
       "      <td>1</td>\n",
       "      <td>1</td>\n",
       "      <td>1</td>\n",
       "      <td>Pitt_0050002_func_preproc.nii.gz</td>\n",
       "      <td>Pitt_0050002_rois_cc200.1D</td>\n",
       "      <td>Pitt_0050002_dfc.pkl</td>\n",
       "    </tr>\n",
       "    <tr>\n",
       "      <th>1</th>\n",
       "      <td>50003</td>\n",
       "      <td>Pitt_0050003</td>\n",
       "      <td>24.45</td>\n",
       "      <td>1</td>\n",
       "      <td>1</td>\n",
       "      <td>1</td>\n",
       "      <td>Pitt_0050003_func_preproc.nii.gz</td>\n",
       "      <td>Pitt_0050003_rois_cc200.1D</td>\n",
       "      <td>Pitt_0050003_dfc.pkl</td>\n",
       "    </tr>\n",
       "    <tr>\n",
       "      <th>2</th>\n",
       "      <td>50005</td>\n",
       "      <td>Pitt_0050005</td>\n",
       "      <td>13.73</td>\n",
       "      <td>2</td>\n",
       "      <td>1</td>\n",
       "      <td>1</td>\n",
       "      <td>Pitt_0050005_func_preproc.nii.gz</td>\n",
       "      <td>Pitt_0050005_rois_cc200.1D</td>\n",
       "      <td>Pitt_0050005_dfc.pkl</td>\n",
       "    </tr>\n",
       "    <tr>\n",
       "      <th>3</th>\n",
       "      <td>50006</td>\n",
       "      <td>Pitt_0050006</td>\n",
       "      <td>13.37</td>\n",
       "      <td>1</td>\n",
       "      <td>1</td>\n",
       "      <td>1</td>\n",
       "      <td>Pitt_0050006_func_preproc.nii.gz</td>\n",
       "      <td>Pitt_0050006_rois_cc200.1D</td>\n",
       "      <td>Pitt_0050006_dfc.pkl</td>\n",
       "    </tr>\n",
       "    <tr>\n",
       "      <th>4</th>\n",
       "      <td>50008</td>\n",
       "      <td>Pitt_0050008</td>\n",
       "      <td>32.45</td>\n",
       "      <td>1</td>\n",
       "      <td>1</td>\n",
       "      <td>1</td>\n",
       "      <td>Pitt_0050008_func_preproc.nii.gz</td>\n",
       "      <td>Pitt_0050008_rois_cc200.1D</td>\n",
       "      <td>Pitt_0050008_dfc.pkl</td>\n",
       "    </tr>\n",
       "    <tr>\n",
       "      <th>...</th>\n",
       "      <td>...</td>\n",
       "      <td>...</td>\n",
       "      <td>...</td>\n",
       "      <td>...</td>\n",
       "      <td>...</td>\n",
       "      <td>...</td>\n",
       "      <td>...</td>\n",
       "      <td>...</td>\n",
       "      <td>...</td>\n",
       "    </tr>\n",
       "    <tr>\n",
       "      <th>981</th>\n",
       "      <td>51574</td>\n",
       "      <td>SBL_0051574</td>\n",
       "      <td>30.00</td>\n",
       "      <td>1</td>\n",
       "      <td>2</td>\n",
       "      <td>1</td>\n",
       "      <td>SBL_0051574_func_preproc.nii.gz</td>\n",
       "      <td>SBL_0051574_rois_cc200.1D</td>\n",
       "      <td>SBL_0051574_dfc.pkl</td>\n",
       "    </tr>\n",
       "    <tr>\n",
       "      <th>982</th>\n",
       "      <td>51576</td>\n",
       "      <td>SBL_0051576</td>\n",
       "      <td>31.00</td>\n",
       "      <td>1</td>\n",
       "      <td>3</td>\n",
       "      <td>1</td>\n",
       "      <td>SBL_0051576_func_preproc.nii.gz</td>\n",
       "      <td>SBL_0051576_rois_cc200.1D</td>\n",
       "      <td>SBL_0051576_dfc.pkl</td>\n",
       "    </tr>\n",
       "    <tr>\n",
       "      <th>983</th>\n",
       "      <td>51581</td>\n",
       "      <td>SBL_0051581</td>\n",
       "      <td>64.00</td>\n",
       "      <td>1</td>\n",
       "      <td>3</td>\n",
       "      <td>1</td>\n",
       "      <td>SBL_0051581_func_preproc.nii.gz</td>\n",
       "      <td>SBL_0051581_rois_cc200.1D</td>\n",
       "      <td>SBL_0051581_dfc.pkl</td>\n",
       "    </tr>\n",
       "    <tr>\n",
       "      <th>984</th>\n",
       "      <td>51606</td>\n",
       "      <td>MaxMun_a_0051606</td>\n",
       "      <td>29.00</td>\n",
       "      <td>2</td>\n",
       "      <td>2</td>\n",
       "      <td>1</td>\n",
       "      <td>MaxMun_a_0051606_func_preproc.nii.gz</td>\n",
       "      <td>MaxMun_a_0051606_rois_cc200.1D</td>\n",
       "      <td>MaxMun_a_0051606_dfc.pkl</td>\n",
       "    </tr>\n",
       "    <tr>\n",
       "      <th>985</th>\n",
       "      <td>51607</td>\n",
       "      <td>MaxMun_a_0051607</td>\n",
       "      <td>26.00</td>\n",
       "      <td>1</td>\n",
       "      <td>2</td>\n",
       "      <td>1</td>\n",
       "      <td>MaxMun_a_0051607_func_preproc.nii.gz</td>\n",
       "      <td>MaxMun_a_0051607_rois_cc200.1D</td>\n",
       "      <td>MaxMun_a_0051607_dfc.pkl</td>\n",
       "    </tr>\n",
       "  </tbody>\n",
       "</table>\n",
       "<p>942 rows × 9 columns</p>\n",
       "</div>"
      ],
      "text/plain": [
       "     SUB_ID           FILE_ID  AGE_AT_SCAN  SEX  DSM_IV_TR  DX_GROUP  \\\n",
       "0     50002      Pitt_0050002        16.77    1          1         1   \n",
       "1     50003      Pitt_0050003        24.45    1          1         1   \n",
       "2     50005      Pitt_0050005        13.73    2          1         1   \n",
       "3     50006      Pitt_0050006        13.37    1          1         1   \n",
       "4     50008      Pitt_0050008        32.45    1          1         1   \n",
       "..      ...               ...          ...  ...        ...       ...   \n",
       "981   51574       SBL_0051574        30.00    1          2         1   \n",
       "982   51576       SBL_0051576        31.00    1          3         1   \n",
       "983   51581       SBL_0051581        64.00    1          3         1   \n",
       "984   51606  MaxMun_a_0051606        29.00    2          2         1   \n",
       "985   51607  MaxMun_a_0051607        26.00    1          2         1   \n",
       "\n",
       "                               FMRI_FILES                           CC200  \\\n",
       "0        Pitt_0050002_func_preproc.nii.gz      Pitt_0050002_rois_cc200.1D   \n",
       "1        Pitt_0050003_func_preproc.nii.gz      Pitt_0050003_rois_cc200.1D   \n",
       "2        Pitt_0050005_func_preproc.nii.gz      Pitt_0050005_rois_cc200.1D   \n",
       "3        Pitt_0050006_func_preproc.nii.gz      Pitt_0050006_rois_cc200.1D   \n",
       "4        Pitt_0050008_func_preproc.nii.gz      Pitt_0050008_rois_cc200.1D   \n",
       "..                                    ...                             ...   \n",
       "981       SBL_0051574_func_preproc.nii.gz       SBL_0051574_rois_cc200.1D   \n",
       "982       SBL_0051576_func_preproc.nii.gz       SBL_0051576_rois_cc200.1D   \n",
       "983       SBL_0051581_func_preproc.nii.gz       SBL_0051581_rois_cc200.1D   \n",
       "984  MaxMun_a_0051606_func_preproc.nii.gz  MaxMun_a_0051606_rois_cc200.1D   \n",
       "985  MaxMun_a_0051607_func_preproc.nii.gz  MaxMun_a_0051607_rois_cc200.1D   \n",
       "\n",
       "               DFC_DATA_STORE  \n",
       "0        Pitt_0050002_dfc.pkl  \n",
       "1        Pitt_0050003_dfc.pkl  \n",
       "2        Pitt_0050005_dfc.pkl  \n",
       "3        Pitt_0050006_dfc.pkl  \n",
       "4        Pitt_0050008_dfc.pkl  \n",
       "..                        ...  \n",
       "981       SBL_0051574_dfc.pkl  \n",
       "982       SBL_0051576_dfc.pkl  \n",
       "983       SBL_0051581_dfc.pkl  \n",
       "984  MaxMun_a_0051606_dfc.pkl  \n",
       "985  MaxMun_a_0051607_dfc.pkl  \n",
       "\n",
       "[942 rows x 9 columns]"
      ]
     },
     "execution_count": 26,
     "metadata": {},
     "output_type": "execute_result"
    }
   ],
   "source": [
    "mc_df_aal"
   ]
  },
  {
   "cell_type": "code",
   "execution_count": 39,
   "metadata": {
    "pycharm": {
     "name": "#%%\n"
    }
   },
   "outputs": [],
   "source": [
    "\n",
    "y = mc_df_aal['DSM_IV_TR'] # target feature 'DSM_IV_TR'\n",
    "X = mc_df_aal[['FILE_ID', 'DX_GROUP']]  # independent variables\n",
    "X_train, X_test, y_train, y_test = train_test_split(X, y,\n",
    "                                                    stratify=y,\n",
    "                                                    test_size=0.20)"
   ]
  },
  {
   "cell_type": "code",
   "execution_count": 40,
   "metadata": {
    "pycharm": {
     "name": "#%%\n"
    }
   },
   "outputs": [
    {
     "data": {
      "text/html": [
       "<div>\n",
       "<style scoped>\n",
       "    .dataframe tbody tr th:only-of-type {\n",
       "        vertical-align: middle;\n",
       "    }\n",
       "\n",
       "    .dataframe tbody tr th {\n",
       "        vertical-align: top;\n",
       "    }\n",
       "\n",
       "    .dataframe thead th {\n",
       "        text-align: right;\n",
       "    }\n",
       "</style>\n",
       "<table border=\"1\" class=\"dataframe\">\n",
       "  <thead>\n",
       "    <tr style=\"text-align: right;\">\n",
       "      <th></th>\n",
       "      <th>FILE_ID</th>\n",
       "      <th>DX_GROUP</th>\n",
       "    </tr>\n",
       "  </thead>\n",
       "  <tbody>\n",
       "    <tr>\n",
       "      <th>491</th>\n",
       "      <td>Leuven_2_0050726</td>\n",
       "      <td>2</td>\n",
       "    </tr>\n",
       "    <tr>\n",
       "      <th>860</th>\n",
       "      <td>UCLA_1_0051266</td>\n",
       "      <td>2</td>\n",
       "    </tr>\n",
       "    <tr>\n",
       "      <th>651</th>\n",
       "      <td>NYU_0051039</td>\n",
       "      <td>2</td>\n",
       "    </tr>\n",
       "    <tr>\n",
       "      <th>456</th>\n",
       "      <td>CMU_a_0050666</td>\n",
       "      <td>2</td>\n",
       "    </tr>\n",
       "    <tr>\n",
       "      <th>318</th>\n",
       "      <td>USM_0050463</td>\n",
       "      <td>2</td>\n",
       "    </tr>\n",
       "    <tr>\n",
       "      <th>...</th>\n",
       "      <td>...</td>\n",
       "      <td>...</td>\n",
       "    </tr>\n",
       "    <tr>\n",
       "      <th>940</th>\n",
       "      <td>MaxMun_d_0051358</td>\n",
       "      <td>2</td>\n",
       "    </tr>\n",
       "    <tr>\n",
       "      <th>534</th>\n",
       "      <td>KKI_0050785</td>\n",
       "      <td>2</td>\n",
       "    </tr>\n",
       "    <tr>\n",
       "      <th>212</th>\n",
       "      <td>UM_1_0050342</td>\n",
       "      <td>2</td>\n",
       "    </tr>\n",
       "    <tr>\n",
       "      <th>417</th>\n",
       "      <td>Yale_0050602</td>\n",
       "      <td>1</td>\n",
       "    </tr>\n",
       "    <tr>\n",
       "      <th>428</th>\n",
       "      <td>Yale_0050613</td>\n",
       "      <td>1</td>\n",
       "    </tr>\n",
       "  </tbody>\n",
       "</table>\n",
       "<p>753 rows × 2 columns</p>\n",
       "</div>"
      ],
      "text/plain": [
       "              FILE_ID  DX_GROUP\n",
       "491  Leuven_2_0050726         2\n",
       "860    UCLA_1_0051266         2\n",
       "651       NYU_0051039         2\n",
       "456     CMU_a_0050666         2\n",
       "318       USM_0050463         2\n",
       "..                ...       ...\n",
       "940  MaxMun_d_0051358         2\n",
       "534       KKI_0050785         2\n",
       "212      UM_1_0050342         2\n",
       "417      Yale_0050602         1\n",
       "428      Yale_0050613         1\n",
       "\n",
       "[753 rows x 2 columns]"
      ]
     },
     "execution_count": 40,
     "metadata": {},
     "output_type": "execute_result"
    }
   ],
   "source": [
    "X_train"
   ]
  },
  {
   "cell_type": "code",
   "execution_count": 41,
   "metadata": {
    "pycharm": {
     "name": "#%%\n"
    }
   },
   "outputs": [],
   "source": [
    "X_train['TARGET']= y_train # add target columns for both sets\n",
    "X_test['TARGET']= y_test"
   ]
  },
  {
   "cell_type": "code",
   "execution_count": 43,
   "metadata": {
    "pycharm": {
     "name": "#%%\n"
    }
   },
   "outputs": [],
   "source": [
    "multi_train_aal = X_train[['FILE_ID','TARGET']].reset_index(drop=True)\n",
    "multi_test_aal = X_test[['FILE_ID','TARGET']].reset_index(drop=True)"
   ]
  },
  {
   "cell_type": "code",
   "execution_count": 44,
   "metadata": {
    "pycharm": {
     "name": "#%%\n"
    }
   },
   "outputs": [
    {
     "data": {
      "text/html": [
       "<div>\n",
       "<style scoped>\n",
       "    .dataframe tbody tr th:only-of-type {\n",
       "        vertical-align: middle;\n",
       "    }\n",
       "\n",
       "    .dataframe tbody tr th {\n",
       "        vertical-align: top;\n",
       "    }\n",
       "\n",
       "    .dataframe thead th {\n",
       "        text-align: right;\n",
       "    }\n",
       "</style>\n",
       "<table border=\"1\" class=\"dataframe\">\n",
       "  <thead>\n",
       "    <tr style=\"text-align: right;\">\n",
       "      <th></th>\n",
       "      <th>FILE_ID</th>\n",
       "      <th>TARGET</th>\n",
       "    </tr>\n",
       "  </thead>\n",
       "  <tbody>\n",
       "    <tr>\n",
       "      <th>0</th>\n",
       "      <td>Leuven_2_0050726</td>\n",
       "      <td>0</td>\n",
       "    </tr>\n",
       "    <tr>\n",
       "      <th>1</th>\n",
       "      <td>UCLA_1_0051266</td>\n",
       "      <td>0</td>\n",
       "    </tr>\n",
       "    <tr>\n",
       "      <th>2</th>\n",
       "      <td>NYU_0051039</td>\n",
       "      <td>0</td>\n",
       "    </tr>\n",
       "    <tr>\n",
       "      <th>3</th>\n",
       "      <td>CMU_a_0050666</td>\n",
       "      <td>0</td>\n",
       "    </tr>\n",
       "    <tr>\n",
       "      <th>4</th>\n",
       "      <td>USM_0050463</td>\n",
       "      <td>0</td>\n",
       "    </tr>\n",
       "    <tr>\n",
       "      <th>...</th>\n",
       "      <td>...</td>\n",
       "      <td>...</td>\n",
       "    </tr>\n",
       "    <tr>\n",
       "      <th>748</th>\n",
       "      <td>MaxMun_d_0051358</td>\n",
       "      <td>0</td>\n",
       "    </tr>\n",
       "    <tr>\n",
       "      <th>749</th>\n",
       "      <td>KKI_0050785</td>\n",
       "      <td>0</td>\n",
       "    </tr>\n",
       "    <tr>\n",
       "      <th>750</th>\n",
       "      <td>UM_1_0050342</td>\n",
       "      <td>0</td>\n",
       "    </tr>\n",
       "    <tr>\n",
       "      <th>751</th>\n",
       "      <td>Yale_0050602</td>\n",
       "      <td>2</td>\n",
       "    </tr>\n",
       "    <tr>\n",
       "      <th>752</th>\n",
       "      <td>Yale_0050613</td>\n",
       "      <td>2</td>\n",
       "    </tr>\n",
       "  </tbody>\n",
       "</table>\n",
       "<p>753 rows × 2 columns</p>\n",
       "</div>"
      ],
      "text/plain": [
       "              FILE_ID  TARGET\n",
       "0    Leuven_2_0050726       0\n",
       "1      UCLA_1_0051266       0\n",
       "2         NYU_0051039       0\n",
       "3       CMU_a_0050666       0\n",
       "4         USM_0050463       0\n",
       "..                ...     ...\n",
       "748  MaxMun_d_0051358       0\n",
       "749       KKI_0050785       0\n",
       "750      UM_1_0050342       0\n",
       "751      Yale_0050602       2\n",
       "752      Yale_0050613       2\n",
       "\n",
       "[753 rows x 2 columns]"
      ]
     },
     "execution_count": 44,
     "metadata": {},
     "output_type": "execute_result"
    }
   ],
   "source": [
    "multi_train_aal"
   ]
  },
  {
   "cell_type": "code",
   "execution_count": null,
   "metadata": {
    "pycharm": {
     "name": "#%%\n"
    }
   },
   "outputs": [],
   "source": []
  },
  {
   "cell_type": "code",
   "execution_count": 48,
   "metadata": {
    "pycharm": {
     "name": "#%%\n"
    }
   },
   "outputs": [],
   "source": [
    "mc_aal_path = os.path.join(pheno_dir, 'mc_aal.csv')\n",
    "mctrain_aal_path = os.path.join(pheno_dir, 'train_aal_mc.csv')\n",
    "mctest_aal_path = os.path.join(pheno_dir, 'test_aal_mc.csv')"
   ]
  },
  {
   "cell_type": "code",
   "execution_count": 49,
   "metadata": {
    "pycharm": {
     "name": "#%%\n"
    }
   },
   "outputs": [],
   "source": [
    "mc_df_aal.to_csv(mc_aal_path, index=False)\n",
    "multi_train_aal.to_csv(mctrain_aal_path, index=False)\n",
    "multi_test_aal.to_csv(mctest_aal_path, index=False)"
   ]
  },
  {
   "cell_type": "code",
   "execution_count": null,
   "metadata": {
    "pycharm": {
     "name": "#%%\n"
    }
   },
   "outputs": [],
   "source": []
  }
 ],
 "metadata": {
  "kernelspec": {
   "display_name": "Python 3 (ipykernel)",
   "language": "python",
   "name": "python3"
  },
  "language_info": {
   "codemirror_mode": {
    "name": "ipython",
    "version": 3
   },
   "file_extension": ".py",
   "mimetype": "text/x-python",
   "name": "python",
   "nbconvert_exporter": "python",
   "pygments_lexer": "ipython3",
   "version": "3.10.0"
  }
 },
 "nbformat": 4,
 "nbformat_minor": 1
}