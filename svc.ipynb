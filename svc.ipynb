{
 "cells": [
  {
   "cell_type": "code",
   "execution_count": 360,
   "outputs": [
    {
     "name": "stdout",
     "output_type": "stream",
     "text": [
      "Collecting Boruta\r\n",
      "  Downloading Boruta-0.3-py3-none-any.whl (56 kB)\r\n",
      "     |████████████████████████████████| 56 kB 431 kB/s            \r\n",
      "\u001B[?25hRequirement already satisfied: scipy>=0.17.0 in ./venv/lib/python3.10/site-packages (from Boruta) (1.10.0)\r\n",
      "Requirement already satisfied: scikit-learn>=0.17.1 in ./venv/lib/python3.10/site-packages (from Boruta) (1.2.0)\r\n",
      "Requirement already satisfied: numpy>=1.10.4 in ./venv/lib/python3.10/site-packages (from Boruta) (1.23.5)\r\n",
      "Requirement already satisfied: threadpoolctl>=2.0.0 in ./venv/lib/python3.10/site-packages (from scikit-learn>=0.17.1->Boruta) (3.1.0)\r\n",
      "Requirement already satisfied: joblib>=1.1.1 in ./venv/lib/python3.10/site-packages (from scikit-learn>=0.17.1->Boruta) (1.2.0)\r\n",
      "Installing collected packages: Boruta\r\n",
      "Successfully installed Boruta-0.3\r\n",
      "\u001B[33mWARNING: You are using pip version 21.3.1; however, version 23.0 is available.\r\n",
      "You should consider upgrading via the '/Users/admin/Documents/MscProject/venv/bin/python -m pip install --upgrade pip' command.\u001B[0m\r\n"
     ]
    }
   ],
   "source": [
    "! pip install Boruta"
   ],
   "metadata": {
    "collapsed": false,
    "pycharm": {
     "name": "#%%\n"
    }
   }
  },
  {
   "cell_type": "code",
   "execution_count": 35,
   "metadata": {
    "collapsed": true
   },
   "outputs": [],
   "source": [
    "import pandas as pd\n",
    "from sklearn.svm import LinearSVC\n",
    "from sklearn.model_selection import StratifiedShuffleSplit\n",
    "from sklearn.metrics import accuracy_score\n",
    "import numpy as np\n",
    "import os\n",
    "import matplotlib.pyplot as plt\n",
    "import seaborn as sns\n",
    "from sklearn.decomposition import PCA\n",
    "from sklearn.decomposition import KernelPCA\n",
    "from sklearn.ensemble import RandomForestClassifier\n",
    "from boruta import BorutaPy\n",
    "from sklearn.svm import SVC\n",
    "from sklearn.model_selection import train_test_split\n"
   ]
  },
  {
   "cell_type": "markdown",
   "source": [
    "## Granger causality, machine learning"
   ],
   "metadata": {
    "collapsed": false,
    "pycharm": {
     "name": "#%% md\n"
    }
   }
  },
  {
   "cell_type": "code",
   "execution_count": 243,
   "outputs": [],
   "source": [
    "gci_data = np.load('gci_nls_cc200_vector.npy')"
   ],
   "metadata": {
    "collapsed": false,
    "pycharm": {
     "name": "#%%\n"
    }
   }
  },
  {
   "cell_type": "code",
   "execution_count": 247,
   "outputs": [
    {
     "data": {
      "text/plain": "   0         1         2         3         4         5         6      \\\n0    1.0  0.232827  0.310001  0.022694  0.171940  0.201924  1.564648   \n1    1.0  0.000000  0.000000  0.034329  0.000000  0.000000  0.000000   \n2    1.0  0.000000  0.211977  0.063180  0.000000  0.000000  0.000000   \n3    1.0  0.003462  0.176266  0.119884  0.000000  0.000000  0.061226   \n4    1.0  0.348111  0.137865  0.170946  0.007856  0.477393  0.028955   \n\n      7         8         9      ...     39991     39992     39993  39994  \\\n0  0.507979  0.157911  0.261360  ...  0.000000  0.000000  0.365369    0.0   \n1  0.000000  0.000000  0.000000  ...  0.000000  0.000000  0.000000    0.0   \n2  0.000000  0.000000  0.000000  ...  0.300281  0.064557  0.000000    0.0   \n3  0.000000  0.272025  0.083786  ...  0.000000  0.000000  0.000000    0.0   \n4  0.093623  0.025476  0.086795  ...  0.082194  0.000000  0.270727    0.0   \n\n      39995     39996     39997     39998  39999  40000  \n0  0.159129  0.000000  0.000000  0.000000    1.0    1.0  \n1  0.000000  0.000000  0.000000  0.000000    1.0    1.0  \n2  0.314101  0.000000  0.087941  0.244485    1.0    1.0  \n3  0.000000  0.000000  0.130785  0.000000    1.0    1.0  \n4  0.139575  0.108761  0.019303  0.329178    1.0    1.0  \n\n[5 rows x 40001 columns]",
      "text/html": "<div>\n<style scoped>\n    .dataframe tbody tr th:only-of-type {\n        vertical-align: middle;\n    }\n\n    .dataframe tbody tr th {\n        vertical-align: top;\n    }\n\n    .dataframe thead th {\n        text-align: right;\n    }\n</style>\n<table border=\"1\" class=\"dataframe\">\n  <thead>\n    <tr style=\"text-align: right;\">\n      <th></th>\n      <th>0</th>\n      <th>1</th>\n      <th>2</th>\n      <th>3</th>\n      <th>4</th>\n      <th>5</th>\n      <th>6</th>\n      <th>7</th>\n      <th>8</th>\n      <th>9</th>\n      <th>...</th>\n      <th>39991</th>\n      <th>39992</th>\n      <th>39993</th>\n      <th>39994</th>\n      <th>39995</th>\n      <th>39996</th>\n      <th>39997</th>\n      <th>39998</th>\n      <th>39999</th>\n      <th>40000</th>\n    </tr>\n  </thead>\n  <tbody>\n    <tr>\n      <th>0</th>\n      <td>1.0</td>\n      <td>0.232827</td>\n      <td>0.310001</td>\n      <td>0.022694</td>\n      <td>0.171940</td>\n      <td>0.201924</td>\n      <td>1.564648</td>\n      <td>0.507979</td>\n      <td>0.157911</td>\n      <td>0.261360</td>\n      <td>...</td>\n      <td>0.000000</td>\n      <td>0.000000</td>\n      <td>0.365369</td>\n      <td>0.0</td>\n      <td>0.159129</td>\n      <td>0.000000</td>\n      <td>0.000000</td>\n      <td>0.000000</td>\n      <td>1.0</td>\n      <td>1.0</td>\n    </tr>\n    <tr>\n      <th>1</th>\n      <td>1.0</td>\n      <td>0.000000</td>\n      <td>0.000000</td>\n      <td>0.034329</td>\n      <td>0.000000</td>\n      <td>0.000000</td>\n      <td>0.000000</td>\n      <td>0.000000</td>\n      <td>0.000000</td>\n      <td>0.000000</td>\n      <td>...</td>\n      <td>0.000000</td>\n      <td>0.000000</td>\n      <td>0.000000</td>\n      <td>0.0</td>\n      <td>0.000000</td>\n      <td>0.000000</td>\n      <td>0.000000</td>\n      <td>0.000000</td>\n      <td>1.0</td>\n      <td>1.0</td>\n    </tr>\n    <tr>\n      <th>2</th>\n      <td>1.0</td>\n      <td>0.000000</td>\n      <td>0.211977</td>\n      <td>0.063180</td>\n      <td>0.000000</td>\n      <td>0.000000</td>\n      <td>0.000000</td>\n      <td>0.000000</td>\n      <td>0.000000</td>\n      <td>0.000000</td>\n      <td>...</td>\n      <td>0.300281</td>\n      <td>0.064557</td>\n      <td>0.000000</td>\n      <td>0.0</td>\n      <td>0.314101</td>\n      <td>0.000000</td>\n      <td>0.087941</td>\n      <td>0.244485</td>\n      <td>1.0</td>\n      <td>1.0</td>\n    </tr>\n    <tr>\n      <th>3</th>\n      <td>1.0</td>\n      <td>0.003462</td>\n      <td>0.176266</td>\n      <td>0.119884</td>\n      <td>0.000000</td>\n      <td>0.000000</td>\n      <td>0.061226</td>\n      <td>0.000000</td>\n      <td>0.272025</td>\n      <td>0.083786</td>\n      <td>...</td>\n      <td>0.000000</td>\n      <td>0.000000</td>\n      <td>0.000000</td>\n      <td>0.0</td>\n      <td>0.000000</td>\n      <td>0.000000</td>\n      <td>0.130785</td>\n      <td>0.000000</td>\n      <td>1.0</td>\n      <td>1.0</td>\n    </tr>\n    <tr>\n      <th>4</th>\n      <td>1.0</td>\n      <td>0.348111</td>\n      <td>0.137865</td>\n      <td>0.170946</td>\n      <td>0.007856</td>\n      <td>0.477393</td>\n      <td>0.028955</td>\n      <td>0.093623</td>\n      <td>0.025476</td>\n      <td>0.086795</td>\n      <td>...</td>\n      <td>0.082194</td>\n      <td>0.000000</td>\n      <td>0.270727</td>\n      <td>0.0</td>\n      <td>0.139575</td>\n      <td>0.108761</td>\n      <td>0.019303</td>\n      <td>0.329178</td>\n      <td>1.0</td>\n      <td>1.0</td>\n    </tr>\n  </tbody>\n</table>\n<p>5 rows × 40001 columns</p>\n</div>"
     },
     "execution_count": 247,
     "metadata": {},
     "output_type": "execute_result"
    }
   ],
   "source": [
    "gci_df = pd.DataFrame(gci_data)\n",
    "gci_df.head()"
   ],
   "metadata": {
    "collapsed": false,
    "pycharm": {
     "name": "#%%\n"
    }
   }
  },
  {
   "cell_type": "code",
   "execution_count": 248,
   "outputs": [
    {
     "name": "stderr",
     "output_type": "stream",
     "text": [
      "/var/folders/0k/w62sf0c17hs15h730mmdkmj40000gn/T/ipykernel_64877/4089041766.py:1: FutureWarning: In a future version, `df.iloc[:, i] = newvals` will attempt to set the values inplace instead of always setting a new array. To retain the old behavior, use either `df[df.columns[i]] = newvals` or, if columns are non-unique, `df.isetitem(i, newvals)`\n",
      "  gci_df.iloc[:,-1]=gci_df.iloc[:,-1].astype(int)\n"
     ]
    }
   ],
   "source": [
    "gci_df.iloc[:,-1]=gci_df.iloc[:,-1].astype(int)"
   ],
   "metadata": {
    "collapsed": false,
    "pycharm": {
     "name": "#%%\n"
    }
   }
  },
  {
   "cell_type": "code",
   "execution_count": 249,
   "outputs": [],
   "source": [
    "diagonals = [i for i in range(gci_df.shape[1]) if len(gci_df.iloc[:,i].unique())==1.0] # get indexes of columns containing diagonal values"
   ],
   "metadata": {
    "collapsed": false,
    "pycharm": {
     "name": "#%%\n"
    }
   }
  },
  {
   "cell_type": "code",
   "execution_count": 251,
   "outputs": [],
   "source": [
    "gci_df.drop(diagonals, axis=1, inplace=True) #drop columns containing diagonal data"
   ],
   "metadata": {
    "collapsed": false,
    "pycharm": {
     "name": "#%%\n"
    }
   }
  },
  {
   "cell_type": "code",
   "execution_count": 252,
   "outputs": [
    {
     "data": {
      "text/plain": "      1         2         3         4         5         6         7      \\\n0  0.232827  0.310001  0.022694  0.171940  0.201924  1.564648  0.507979   \n1  0.000000  0.000000  0.034329  0.000000  0.000000  0.000000  0.000000   \n2  0.000000  0.211977  0.063180  0.000000  0.000000  0.000000  0.000000   \n3  0.003462  0.176266  0.119884  0.000000  0.000000  0.061226  0.000000   \n4  0.348111  0.137865  0.170946  0.007856  0.477393  0.028955  0.093623   \n\n      8         9        10     ...     39990     39991     39992     39993  \\\n0  0.157911  0.261360  0.02722  ...  0.000000  0.000000  0.000000  0.365369   \n1  0.000000  0.000000  0.00000  ...  0.000000  0.000000  0.000000  0.000000   \n2  0.000000  0.000000  0.00000  ...  0.140119  0.300281  0.064557  0.000000   \n3  0.272025  0.083786  0.00000  ...  0.000000  0.000000  0.000000  0.000000   \n4  0.025476  0.086795  0.00000  ...  0.000000  0.082194  0.000000  0.270727   \n\n   39994     39995     39996     39997     39998  40000  \n0    0.0  0.159129  0.000000  0.000000  0.000000      1  \n1    0.0  0.000000  0.000000  0.000000  0.000000      1  \n2    0.0  0.314101  0.000000  0.087941  0.244485      1  \n3    0.0  0.000000  0.000000  0.130785  0.000000      1  \n4    0.0  0.139575  0.108761  0.019303  0.329178      1  \n\n[5 rows x 39801 columns]",
      "text/html": "<div>\n<style scoped>\n    .dataframe tbody tr th:only-of-type {\n        vertical-align: middle;\n    }\n\n    .dataframe tbody tr th {\n        vertical-align: top;\n    }\n\n    .dataframe thead th {\n        text-align: right;\n    }\n</style>\n<table border=\"1\" class=\"dataframe\">\n  <thead>\n    <tr style=\"text-align: right;\">\n      <th></th>\n      <th>1</th>\n      <th>2</th>\n      <th>3</th>\n      <th>4</th>\n      <th>5</th>\n      <th>6</th>\n      <th>7</th>\n      <th>8</th>\n      <th>9</th>\n      <th>10</th>\n      <th>...</th>\n      <th>39990</th>\n      <th>39991</th>\n      <th>39992</th>\n      <th>39993</th>\n      <th>39994</th>\n      <th>39995</th>\n      <th>39996</th>\n      <th>39997</th>\n      <th>39998</th>\n      <th>40000</th>\n    </tr>\n  </thead>\n  <tbody>\n    <tr>\n      <th>0</th>\n      <td>0.232827</td>\n      <td>0.310001</td>\n      <td>0.022694</td>\n      <td>0.171940</td>\n      <td>0.201924</td>\n      <td>1.564648</td>\n      <td>0.507979</td>\n      <td>0.157911</td>\n      <td>0.261360</td>\n      <td>0.02722</td>\n      <td>...</td>\n      <td>0.000000</td>\n      <td>0.000000</td>\n      <td>0.000000</td>\n      <td>0.365369</td>\n      <td>0.0</td>\n      <td>0.159129</td>\n      <td>0.000000</td>\n      <td>0.000000</td>\n      <td>0.000000</td>\n      <td>1</td>\n    </tr>\n    <tr>\n      <th>1</th>\n      <td>0.000000</td>\n      <td>0.000000</td>\n      <td>0.034329</td>\n      <td>0.000000</td>\n      <td>0.000000</td>\n      <td>0.000000</td>\n      <td>0.000000</td>\n      <td>0.000000</td>\n      <td>0.000000</td>\n      <td>0.00000</td>\n      <td>...</td>\n      <td>0.000000</td>\n      <td>0.000000</td>\n      <td>0.000000</td>\n      <td>0.000000</td>\n      <td>0.0</td>\n      <td>0.000000</td>\n      <td>0.000000</td>\n      <td>0.000000</td>\n      <td>0.000000</td>\n      <td>1</td>\n    </tr>\n    <tr>\n      <th>2</th>\n      <td>0.000000</td>\n      <td>0.211977</td>\n      <td>0.063180</td>\n      <td>0.000000</td>\n      <td>0.000000</td>\n      <td>0.000000</td>\n      <td>0.000000</td>\n      <td>0.000000</td>\n      <td>0.000000</td>\n      <td>0.00000</td>\n      <td>...</td>\n      <td>0.140119</td>\n      <td>0.300281</td>\n      <td>0.064557</td>\n      <td>0.000000</td>\n      <td>0.0</td>\n      <td>0.314101</td>\n      <td>0.000000</td>\n      <td>0.087941</td>\n      <td>0.244485</td>\n      <td>1</td>\n    </tr>\n    <tr>\n      <th>3</th>\n      <td>0.003462</td>\n      <td>0.176266</td>\n      <td>0.119884</td>\n      <td>0.000000</td>\n      <td>0.000000</td>\n      <td>0.061226</td>\n      <td>0.000000</td>\n      <td>0.272025</td>\n      <td>0.083786</td>\n      <td>0.00000</td>\n      <td>...</td>\n      <td>0.000000</td>\n      <td>0.000000</td>\n      <td>0.000000</td>\n      <td>0.000000</td>\n      <td>0.0</td>\n      <td>0.000000</td>\n      <td>0.000000</td>\n      <td>0.130785</td>\n      <td>0.000000</td>\n      <td>1</td>\n    </tr>\n    <tr>\n      <th>4</th>\n      <td>0.348111</td>\n      <td>0.137865</td>\n      <td>0.170946</td>\n      <td>0.007856</td>\n      <td>0.477393</td>\n      <td>0.028955</td>\n      <td>0.093623</td>\n      <td>0.025476</td>\n      <td>0.086795</td>\n      <td>0.00000</td>\n      <td>...</td>\n      <td>0.000000</td>\n      <td>0.082194</td>\n      <td>0.000000</td>\n      <td>0.270727</td>\n      <td>0.0</td>\n      <td>0.139575</td>\n      <td>0.108761</td>\n      <td>0.019303</td>\n      <td>0.329178</td>\n      <td>1</td>\n    </tr>\n  </tbody>\n</table>\n<p>5 rows × 39801 columns</p>\n</div>"
     },
     "execution_count": 252,
     "metadata": {},
     "output_type": "execute_result"
    }
   ],
   "source": [
    "gci_df.head()"
   ],
   "metadata": {
    "collapsed": false,
    "pycharm": {
     "name": "#%%\n"
    }
   }
  },
  {
   "cell_type": "code",
   "execution_count": 255,
   "outputs": [],
   "source": [
    "X = gci_df.iloc[:,:-1].to_numpy()\n",
    "y = np.array([1 if i==1 else 0 for i in gci_df.iloc[:,-1]])"
   ],
   "metadata": {
    "collapsed": false,
    "pycharm": {
     "name": "#%%\n"
    }
   }
  },
  {
   "cell_type": "code",
   "execution_count": 270,
   "outputs": [
    {
     "name": "stdout",
     "output_type": "stream",
     "text": [
      "Iteration: \t1 / 100\n",
      "Confirmed: \t0\n",
      "Tentative: \t39800\n",
      "Rejected: \t0\n",
      "Iteration: \t2 / 100\n",
      "Confirmed: \t0\n",
      "Tentative: \t39800\n",
      "Rejected: \t0\n",
      "Iteration: \t3 / 100\n",
      "Confirmed: \t0\n",
      "Tentative: \t39800\n",
      "Rejected: \t0\n",
      "Iteration: \t4 / 100\n",
      "Confirmed: \t0\n",
      "Tentative: \t39800\n",
      "Rejected: \t0\n",
      "Iteration: \t5 / 100\n",
      "Confirmed: \t0\n",
      "Tentative: \t39800\n",
      "Rejected: \t0\n",
      "Iteration: \t6 / 100\n",
      "Confirmed: \t0\n",
      "Tentative: \t39800\n",
      "Rejected: \t0\n",
      "Iteration: \t7 / 100\n",
      "Confirmed: \t0\n",
      "Tentative: \t39800\n",
      "Rejected: \t0\n",
      "Iteration: \t8 / 100\n",
      "Confirmed: \t0\n",
      "Tentative: \t4\n",
      "Rejected: \t39796\n",
      "Iteration: \t9 / 100\n",
      "Confirmed: \t0\n",
      "Tentative: \t4\n",
      "Rejected: \t39796\n",
      "Iteration: \t10 / 100\n",
      "Confirmed: \t0\n",
      "Tentative: \t4\n",
      "Rejected: \t39796\n",
      "Iteration: \t11 / 100\n",
      "Confirmed: \t0\n",
      "Tentative: \t4\n",
      "Rejected: \t39796\n",
      "Iteration: \t12 / 100\n",
      "Confirmed: \t0\n",
      "Tentative: \t4\n",
      "Rejected: \t39796\n",
      "Iteration: \t13 / 100\n",
      "Confirmed: \t0\n",
      "Tentative: \t4\n",
      "Rejected: \t39796\n",
      "Iteration: \t14 / 100\n",
      "Confirmed: \t0\n",
      "Tentative: \t4\n",
      "Rejected: \t39796\n",
      "Iteration: \t15 / 100\n",
      "Confirmed: \t0\n",
      "Tentative: \t4\n",
      "Rejected: \t39796\n",
      "Iteration: \t16 / 100\n",
      "Confirmed: \t1\n",
      "Tentative: \t3\n",
      "Rejected: \t39796\n",
      "Iteration: \t17 / 100\n",
      "Confirmed: \t1\n",
      "Tentative: \t3\n",
      "Rejected: \t39796\n",
      "Iteration: \t18 / 100\n",
      "Confirmed: \t1\n",
      "Tentative: \t3\n",
      "Rejected: \t39796\n",
      "Iteration: \t19 / 100\n",
      "Confirmed: \t2\n",
      "Tentative: \t2\n",
      "Rejected: \t39796\n",
      "Iteration: \t20 / 100\n",
      "Confirmed: \t2\n",
      "Tentative: \t2\n",
      "Rejected: \t39796\n",
      "Iteration: \t21 / 100\n",
      "Confirmed: \t2\n",
      "Tentative: \t2\n",
      "Rejected: \t39796\n",
      "Iteration: \t22 / 100\n",
      "Confirmed: \t2\n",
      "Tentative: \t2\n",
      "Rejected: \t39796\n",
      "Iteration: \t23 / 100\n",
      "Confirmed: \t2\n",
      "Tentative: \t2\n",
      "Rejected: \t39796\n",
      "Iteration: \t24 / 100\n",
      "Confirmed: \t2\n",
      "Tentative: \t2\n",
      "Rejected: \t39796\n",
      "Iteration: \t25 / 100\n",
      "Confirmed: \t2\n",
      "Tentative: \t2\n",
      "Rejected: \t39796\n",
      "Iteration: \t26 / 100\n",
      "Confirmed: \t3\n",
      "Tentative: \t1\n",
      "Rejected: \t39796\n",
      "Iteration: \t27 / 100\n",
      "Confirmed: \t3\n",
      "Tentative: \t1\n",
      "Rejected: \t39796\n",
      "Iteration: \t28 / 100\n",
      "Confirmed: \t3\n",
      "Tentative: \t1\n",
      "Rejected: \t39796\n",
      "Iteration: \t29 / 100\n",
      "Confirmed: \t3\n",
      "Tentative: \t1\n",
      "Rejected: \t39796\n",
      "Iteration: \t30 / 100\n",
      "Confirmed: \t3\n",
      "Tentative: \t1\n",
      "Rejected: \t39796\n",
      "Iteration: \t31 / 100\n",
      "Confirmed: \t3\n",
      "Tentative: \t1\n",
      "Rejected: \t39796\n",
      "Iteration: \t32 / 100\n",
      "Confirmed: \t4\n",
      "Tentative: \t0\n",
      "Rejected: \t39796\n",
      "\n",
      "\n",
      "BorutaPy finished running.\n",
      "\n",
      "Iteration: \t33 / 100\n",
      "Confirmed: \t4\n",
      "Tentative: \t0\n",
      "Rejected: \t39796\n"
     ]
    }
   ],
   "source": [
    "rf = RandomForestClassifier(n_jobs=-1, class_weight='balanced', max_depth=2)\n",
    "\n",
    "# define Boruta feature selection method\n",
    "feat_selector = BorutaPy(rf, n_estimators='auto', verbose=2, random_state=1)\n",
    "\n",
    "# find all relevant features - 5 features should be selected\n",
    "feat_selector.fit(X, y)\n",
    "\n",
    "# check selected features - first 5 features are selected\n",
    "feat_selector.support_\n",
    "\n",
    "# check ranking of features\n",
    "feat_selector.ranking_\n",
    "\n",
    "# call transform() on X to filter it down to selected features\n",
    "X_filtered = feat_selector.transform(X)"
   ],
   "metadata": {
    "collapsed": false,
    "pycharm": {
     "name": "#%%\n"
    }
   }
  },
  {
   "cell_type": "code",
   "execution_count": 271,
   "outputs": [
    {
     "data": {
      "text/plain": "array([[0.        , 0.        , 0.17419931, 0.        , 1.        ],\n       [0.        , 0.        , 0.        , 0.        , 1.        ],\n       [0.        , 0.        , 0.06850366, 0.        , 1.        ],\n       ...,\n       [0.19721642, 0.06062376, 0.34622007, 0.        , 1.        ],\n       [0.02483044, 0.01356252, 0.        , 0.        , 1.        ],\n       [0.        , 0.        , 0.        , 0.63635521, 1.        ]])"
     },
     "execution_count": 271,
     "metadata": {},
     "output_type": "execute_result"
    }
   ],
   "source": [
    "np.c_[X_filtered,y]"
   ],
   "metadata": {
    "collapsed": false,
    "pycharm": {
     "name": "#%%\n"
    }
   }
  },
  {
   "cell_type": "code",
   "execution_count": 268,
   "outputs": [
    {
     "data": {
      "text/plain": "1026"
     },
     "execution_count": 268,
     "metadata": {},
     "output_type": "execute_result"
    }
   ],
   "source": [
    "len(X_filtered[:,0])"
   ],
   "metadata": {
    "collapsed": false,
    "pycharm": {
     "name": "#%%\n"
    }
   }
  },
  {
   "cell_type": "code",
   "execution_count": 269,
   "outputs": [
    {
     "data": {
      "text/plain": "<AxesSubplot: >"
     },
     "execution_count": 269,
     "metadata": {},
     "output_type": "execute_result"
    },
    {
     "data": {
      "text/plain": "<Figure size 640x480 with 1 Axes>",
      "image/png": "[encoded data removed]"
     },
     "metadata": {},
     "output_type": "display_data"
    }
   ],
   "source": [
    "sns.scatterplot(x=X_filtered[:,0], y=X_filtered[:,1], hue=y)"
   ],
   "metadata": {
    "collapsed": false,
    "pycharm": {
     "name": "#%%\n"
    }
   }
  },
  {
   "cell_type": "code",
   "execution_count": 277,
   "outputs": [],
   "source": [
    "cv = StratifiedShuffleSplit(n_splits=5, random_state=0, test_size=0.2)\n",
    "scores = []\n",
    "for train, test in cv.split(X_filtered, y):\n",
    "    # *ConnectivityMeasure* can output the estimated subjects coefficients\n",
    "    # as a 1D arrays through the parameter *vectorize*.\n",
    "\n",
    "    classifier = SVC(kernel='rbf').fit(X_filtered[train], y[train])\n",
    "    # make predictions for the left-out test subjects\n",
    "    predictions = classifier.predict(X_filtered[test])\n",
    "    # store the accuracy for this cross-validation fold\n",
    "    score = accuracy_score(y[test], predictions)\n",
    "    scores.append(score)"
   ],
   "metadata": {
    "collapsed": false,
    "pycharm": {
     "name": "#%%\n"
    }
   }
  },
  {
   "cell_type": "code",
   "execution_count": 278,
   "outputs": [
    {
     "data": {
      "text/plain": "0.5456310679611651"
     },
     "execution_count": 278,
     "metadata": {},
     "output_type": "execute_result"
    }
   ],
   "source": [
    "np.mean(scores)"
   ],
   "metadata": {
    "collapsed": false,
    "pycharm": {
     "name": "#%%\n"
    }
   }
  },
  {
   "cell_type": "markdown",
   "source": [
    "## Large scale granger causality, machine learning"
   ],
   "metadata": {
    "collapsed": false,
    "pycharm": {
     "name": "#%% md\n"
    }
   }
  },
  {
   "cell_type": "code",
   "execution_count": 47,
   "outputs": [],
   "source": [
    "data = np.load('/Users/admin/Documents/MscProject/gci_cc200_vectorised.npy')"
   ],
   "metadata": {
    "collapsed": false,
    "pycharm": {
     "name": "#%%\n"
    }
   }
  },
  {
   "cell_type": "code",
   "execution_count": 48,
   "outputs": [],
   "source": [
    "df = pd.DataFrame(data)"
   ],
   "metadata": {
    "collapsed": false,
    "pycharm": {
     "name": "#%%\n"
    }
   }
  },
  {
   "cell_type": "code",
   "execution_count": 49,
   "outputs": [
    {
     "data": {
      "text/plain": "   0         1         2         3         4         5         6      \\\n0    1.0  0.000000  0.000000  0.000000  0.000000  0.009432  0.000000   \n1    1.0  0.000000  0.000000  0.000000  0.000000  0.000000  0.000000   \n2    1.0  0.000000  0.001848  0.000000  0.000000  0.012329  0.003704   \n3    1.0  0.000000  0.000625  0.000339  0.000000  0.000000  0.000000   \n4    1.0  0.000719  0.000000  0.000378  0.007974  0.022800  0.000151   \n\n      7         8         9      ...     39991     39992     39993     39994  \\\n0  0.000000  0.001403  0.000000  ...  0.000939  0.000000  0.000622  0.000000   \n1  0.014210  0.019196  0.000000  ...  0.000000  0.000000  0.000582  0.001591   \n2  0.003097  0.005602  0.005504  ...  0.005032  0.002467  0.000460  0.005617   \n3  0.000000  0.005610  0.000000  ...  0.000000  0.000000  0.001647  0.000000   \n4  0.010994  0.000000  0.003348  ...  0.000000  0.003095  0.003939  0.001385   \n\n      39995     39996     39997     39998  39999  40000  \n0  0.000000  0.018050  0.000826  0.003743    1.0    1.0  \n1  0.000000  0.005735  0.000092  0.031975    1.0    1.0  \n2  0.004939  0.008758  0.000000  0.020097    1.0    1.0  \n3  0.001952  0.000000  0.000655  0.010060    1.0    1.0  \n4  0.000000  0.000000  0.005272  0.000000    1.0    1.0  \n\n[5 rows x 40001 columns]",
      "text/html": "<div>\n<style scoped>\n    .dataframe tbody tr th:only-of-type {\n        vertical-align: middle;\n    }\n\n    .dataframe tbody tr th {\n        vertical-align: top;\n    }\n\n    .dataframe thead th {\n        text-align: right;\n    }\n</style>\n<table border=\"1\" class=\"dataframe\">\n  <thead>\n    <tr style=\"text-align: right;\">\n      <th></th>\n      <th>0</th>\n      <th>1</th>\n      <th>2</th>\n      <th>3</th>\n      <th>4</th>\n      <th>5</th>\n      <th>6</th>\n      <th>7</th>\n      <th>8</th>\n      <th>9</th>\n      <th>...</th>\n      <th>39991</th>\n      <th>39992</th>\n      <th>39993</th>\n      <th>39994</th>\n      <th>39995</th>\n      <th>39996</th>\n      <th>39997</th>\n      <th>39998</th>\n      <th>39999</th>\n      <th>40000</th>\n    </tr>\n  </thead>\n  <tbody>\n    <tr>\n      <th>0</th>\n      <td>1.0</td>\n      <td>0.000000</td>\n      <td>0.000000</td>\n      <td>0.000000</td>\n      <td>0.000000</td>\n      <td>0.009432</td>\n      <td>0.000000</td>\n      <td>0.000000</td>\n      <td>0.001403</td>\n      <td>0.000000</td>\n      <td>...</td>\n      <td>0.000939</td>\n      <td>0.000000</td>\n      <td>0.000622</td>\n      <td>0.000000</td>\n      <td>0.000000</td>\n      <td>0.018050</td>\n      <td>0.000826</td>\n      <td>0.003743</td>\n      <td>1.0</td>\n      <td>1.0</td>\n    </tr>\n    <tr>\n      <th>1</th>\n      <td>1.0</td>\n      <td>0.000000</td>\n      <td>0.000000</td>\n      <td>0.000000</td>\n      <td>0.000000</td>\n      <td>0.000000</td>\n      <td>0.000000</td>\n      <td>0.014210</td>\n      <td>0.019196</td>\n      <td>0.000000</td>\n      <td>...</td>\n      <td>0.000000</td>\n      <td>0.000000</td>\n      <td>0.000582</td>\n      <td>0.001591</td>\n      <td>0.000000</td>\n      <td>0.005735</td>\n      <td>0.000092</td>\n      <td>0.031975</td>\n      <td>1.0</td>\n      <td>1.0</td>\n    </tr>\n    <tr>\n      <th>2</th>\n      <td>1.0</td>\n      <td>0.000000</td>\n      <td>0.001848</td>\n      <td>0.000000</td>\n      <td>0.000000</td>\n      <td>0.012329</td>\n      <td>0.003704</td>\n      <td>0.003097</td>\n      <td>0.005602</td>\n      <td>0.005504</td>\n      <td>...</td>\n      <td>0.005032</td>\n      <td>0.002467</td>\n      <td>0.000460</td>\n      <td>0.005617</td>\n      <td>0.004939</td>\n      <td>0.008758</td>\n      <td>0.000000</td>\n      <td>0.020097</td>\n      <td>1.0</td>\n      <td>1.0</td>\n    </tr>\n    <tr>\n      <th>3</th>\n      <td>1.0</td>\n      <td>0.000000</td>\n      <td>0.000625</td>\n      <td>0.000339</td>\n      <td>0.000000</td>\n      <td>0.000000</td>\n      <td>0.000000</td>\n      <td>0.000000</td>\n      <td>0.005610</td>\n      <td>0.000000</td>\n      <td>...</td>\n      <td>0.000000</td>\n      <td>0.000000</td>\n      <td>0.001647</td>\n      <td>0.000000</td>\n      <td>0.001952</td>\n      <td>0.000000</td>\n      <td>0.000655</td>\n      <td>0.010060</td>\n      <td>1.0</td>\n      <td>1.0</td>\n    </tr>\n    <tr>\n      <th>4</th>\n      <td>1.0</td>\n      <td>0.000719</td>\n      <td>0.000000</td>\n      <td>0.000378</td>\n      <td>0.007974</td>\n      <td>0.022800</td>\n      <td>0.000151</td>\n      <td>0.010994</td>\n      <td>0.000000</td>\n      <td>0.003348</td>\n      <td>...</td>\n      <td>0.000000</td>\n      <td>0.003095</td>\n      <td>0.003939</td>\n      <td>0.001385</td>\n      <td>0.000000</td>\n      <td>0.000000</td>\n      <td>0.005272</td>\n      <td>0.000000</td>\n      <td>1.0</td>\n      <td>1.0</td>\n    </tr>\n  </tbody>\n</table>\n<p>5 rows × 40001 columns</p>\n</div>"
     },
     "execution_count": 49,
     "metadata": {},
     "output_type": "execute_result"
    }
   ],
   "source": [
    "df.head()"
   ],
   "metadata": {
    "collapsed": false,
    "pycharm": {
     "name": "#%%\n"
    }
   }
  },
  {
   "cell_type": "code",
   "execution_count": 50,
   "outputs": [
    {
     "name": "stderr",
     "output_type": "stream",
     "text": [
      "/var/folders/0k/w62sf0c17hs15h730mmdkmj40000gn/T/ipykernel_64877/3430961961.py:1: FutureWarning: In a future version, `df.iloc[:, i] = newvals` will attempt to set the values inplace instead of always setting a new array. To retain the old behavior, use either `df[df.columns[i]] = newvals` or, if columns are non-unique, `df.isetitem(i, newvals)`\n",
      "  df.iloc[:,-1]=df.iloc[:,-1].astype(int)\n"
     ]
    }
   ],
   "source": [
    "df.iloc[:,-1]=df.iloc[:,-1].astype(int)"
   ],
   "metadata": {
    "collapsed": false,
    "pycharm": {
     "name": "#%%\n"
    }
   }
  },
  {
   "cell_type": "code",
   "execution_count": 51,
   "outputs": [],
   "source": [
    "diagonals = [i for i in range(df.shape[1]) if len(df.iloc[:,i].unique())==1] # get indexes of columns containing diagonal values"
   ],
   "metadata": {
    "collapsed": false,
    "pycharm": {
     "name": "#%%\n"
    }
   }
  },
  {
   "cell_type": "code",
   "execution_count": 52,
   "outputs": [],
   "source": [
    "df.drop(diagonals, axis=1, inplace=True) #drop columns containing diagonal data"
   ],
   "metadata": {
    "collapsed": false,
    "pycharm": {
     "name": "#%%\n"
    }
   }
  },
  {
   "cell_type": "code",
   "execution_count": 53,
   "outputs": [
    {
     "data": {
      "text/plain": "         1         2         3         4         5         6         7      \\\n0     0.000000  0.000000  0.000000  0.000000  0.009432  0.000000  0.000000   \n1     0.000000  0.000000  0.000000  0.000000  0.000000  0.000000  0.014210   \n2     0.000000  0.001848  0.000000  0.000000  0.012329  0.003704  0.003097   \n3     0.000000  0.000625  0.000339  0.000000  0.000000  0.000000  0.000000   \n4     0.000719  0.000000  0.000378  0.007974  0.022800  0.000151  0.010994   \n...        ...       ...       ...       ...       ...       ...       ...   \n1021  0.002805  0.000000  0.000000  0.000098  0.000000  0.000000  0.002056   \n1022  0.000000  0.008851  0.001434  0.004161  0.006538  0.000000  0.000453   \n1023  0.000000  0.000718  0.001614  0.000000  0.000000  0.002350  0.000000   \n1024  0.015773  0.000000  0.000000  0.000000  0.000000  0.009825  0.009090   \n1025  0.000000  0.000000  0.005743  0.001744  0.001245  0.000000  0.013191   \n\n         8         9         10     ...     39990     39991     39992  \\\n0     0.001403  0.000000  0.000000  ...  0.003441  0.000939  0.000000   \n1     0.019196  0.000000  0.000000  ...  0.000066  0.000000  0.000000   \n2     0.005602  0.005504  0.000000  ...  0.000000  0.005032  0.002467   \n3     0.005610  0.000000  0.000219  ...  0.037120  0.000000  0.000000   \n4     0.000000  0.003348  0.000000  ...  0.000000  0.000000  0.003095   \n...        ...       ...       ...  ...       ...       ...       ...   \n1021  0.000000  0.001238  0.004056  ...  0.007953  0.000675  0.009182   \n1022  0.005415  0.000662  0.000000  ...  0.003379  0.016427  0.000000   \n1023  0.004809  0.004014  0.000000  ...  0.004236  0.000000  0.000000   \n1024  0.000000  0.001475  0.009274  ...  0.002308  0.005384  0.000000   \n1025  0.000000  0.003402  0.001286  ...  0.000000  0.000000  0.000000   \n\n         39993     39994     39995     39996     39997     39998  40000  \n0     0.000622  0.000000  0.000000  0.018050  0.000826  0.003743      1  \n1     0.000582  0.001591  0.000000  0.005735  0.000092  0.031975      1  \n2     0.000460  0.005617  0.004939  0.008758  0.000000  0.020097      1  \n3     0.001647  0.000000  0.001952  0.000000  0.000655  0.010060      1  \n4     0.003939  0.001385  0.000000  0.000000  0.005272  0.000000      1  \n...        ...       ...       ...       ...       ...       ...    ...  \n1021  0.014095  0.000000  0.000000  0.000000  0.005108  0.000000      1  \n1022  0.000000  0.000000  0.007626  0.007087  0.000000  0.004480      1  \n1023  0.008340  0.000320  0.003060  0.010233  0.011922  0.002335      1  \n1024  0.000000  0.000000  0.000000  0.000000  0.000000  0.000000      1  \n1025  0.000000  0.005629  0.000000  0.012394  0.009681  0.000000      1  \n\n[1026 rows x 39801 columns]",
      "text/html": "<div>\n<style scoped>\n    .dataframe tbody tr th:only-of-type {\n        vertical-align: middle;\n    }\n\n    .dataframe tbody tr th {\n        vertical-align: top;\n    }\n\n    .dataframe thead th {\n        text-align: right;\n    }\n</style>\n<table border=\"1\" class=\"dataframe\">\n  <thead>\n    <tr style=\"text-align: right;\">\n      <th></th>\n      <th>1</th>\n      <th>2</th>\n      <th>3</th>\n      <th>4</th>\n      <th>5</th>\n      <th>6</th>\n      <th>7</th>\n      <th>8</th>\n      <th>9</th>\n      <th>10</th>\n      <th>...</th>\n      <th>39990</th>\n      <th>39991</th>\n      <th>39992</th>\n      <th>39993</th>\n      <th>39994</th>\n      <th>39995</th>\n      <th>39996</th>\n      <th>39997</th>\n      <th>39998</th>\n      <th>40000</th>\n    </tr>\n  </thead>\n  <tbody>\n    <tr>\n      <th>0</th>\n      <td>0.000000</td>\n      <td>0.000000</td>\n      <td>0.000000</td>\n      <td>0.000000</td>\n      <td>0.009432</td>\n      <td>0.000000</td>\n      <td>0.000000</td>\n      <td>0.001403</td>\n      <td>0.000000</td>\n      <td>0.000000</td>\n      <td>...</td>\n      <td>0.003441</td>\n      <td>0.000939</td>\n      <td>0.000000</td>\n      <td>0.000622</td>\n      <td>0.000000</td>\n      <td>0.000000</td>\n      <td>0.018050</td>\n      <td>0.000826</td>\n      <td>0.003743</td>\n      <td>1</td>\n    </tr>\n    <tr>\n      <th>1</th>\n      <td>0.000000</td>\n      <td>0.000000</td>\n      <td>0.000000</td>\n      <td>0.000000</td>\n      <td>0.000000</td>\n      <td>0.000000</td>\n      <td>0.014210</td>\n      <td>0.019196</td>\n      <td>0.000000</td>\n      <td>0.000000</td>\n      <td>...</td>\n      <td>0.000066</td>\n      <td>0.000000</td>\n      <td>0.000000</td>\n      <td>0.000582</td>\n      <td>0.001591</td>\n      <td>0.000000</td>\n      <td>0.005735</td>\n      <td>0.000092</td>\n      <td>0.031975</td>\n      <td>1</td>\n    </tr>\n    <tr>\n      <th>2</th>\n      <td>0.000000</td>\n      <td>0.001848</td>\n      <td>0.000000</td>\n      <td>0.000000</td>\n      <td>0.012329</td>\n      <td>0.003704</td>\n      <td>0.003097</td>\n      <td>0.005602</td>\n      <td>0.005504</td>\n      <td>0.000000</td>\n      <td>...</td>\n      <td>0.000000</td>\n      <td>0.005032</td>\n      <td>0.002467</td>\n      <td>0.000460</td>\n      <td>0.005617</td>\n      <td>0.004939</td>\n      <td>0.008758</td>\n      <td>0.000000</td>\n      <td>0.020097</td>\n      <td>1</td>\n    </tr>\n    <tr>\n      <th>3</th>\n      <td>0.000000</td>\n      <td>0.000625</td>\n      <td>0.000339</td>\n      <td>0.000000</td>\n      <td>0.000000</td>\n      <td>0.000000</td>\n      <td>0.000000</td>\n      <td>0.005610</td>\n      <td>0.000000</td>\n      <td>0.000219</td>\n      <td>...</td>\n      <td>0.037120</td>\n      <td>0.000000</td>\n      <td>0.000000</td>\n      <td>0.001647</td>\n      <td>0.000000</td>\n      <td>0.001952</td>\n      <td>0.000000</td>\n      <td>0.000655</td>\n      <td>0.010060</td>\n      <td>1</td>\n    </tr>\n    <tr>\n      <th>4</th>\n      <td>0.000719</td>\n      <td>0.000000</td>\n      <td>0.000378</td>\n      <td>0.007974</td>\n      <td>0.022800</td>\n      <td>0.000151</td>\n      <td>0.010994</td>\n      <td>0.000000</td>\n      <td>0.003348</td>\n      <td>0.000000</td>\n      <td>...</td>\n      <td>0.000000</td>\n      <td>0.000000</td>\n      <td>0.003095</td>\n      <td>0.003939</td>\n      <td>0.001385</td>\n      <td>0.000000</td>\n      <td>0.000000</td>\n      <td>0.005272</td>\n      <td>0.000000</td>\n      <td>1</td>\n    </tr>\n    <tr>\n      <th>...</th>\n      <td>...</td>\n      <td>...</td>\n      <td>...</td>\n      <td>...</td>\n      <td>...</td>\n      <td>...</td>\n      <td>...</td>\n      <td>...</td>\n      <td>...</td>\n      <td>...</td>\n      <td>...</td>\n      <td>...</td>\n      <td>...</td>\n      <td>...</td>\n      <td>...</td>\n      <td>...</td>\n      <td>...</td>\n      <td>...</td>\n      <td>...</td>\n      <td>...</td>\n      <td>...</td>\n    </tr>\n    <tr>\n      <th>1021</th>\n      <td>0.002805</td>\n      <td>0.000000</td>\n      <td>0.000000</td>\n      <td>0.000098</td>\n      <td>0.000000</td>\n      <td>0.000000</td>\n      <td>0.002056</td>\n      <td>0.000000</td>\n      <td>0.001238</td>\n      <td>0.004056</td>\n      <td>...</td>\n      <td>0.007953</td>\n      <td>0.000675</td>\n      <td>0.009182</td>\n      <td>0.014095</td>\n      <td>0.000000</td>\n      <td>0.000000</td>\n      <td>0.000000</td>\n      <td>0.005108</td>\n      <td>0.000000</td>\n      <td>1</td>\n    </tr>\n    <tr>\n      <th>1022</th>\n      <td>0.000000</td>\n      <td>0.008851</td>\n      <td>0.001434</td>\n      <td>0.004161</td>\n      <td>0.006538</td>\n      <td>0.000000</td>\n      <td>0.000453</td>\n      <td>0.005415</td>\n      <td>0.000662</td>\n      <td>0.000000</td>\n      <td>...</td>\n      <td>0.003379</td>\n      <td>0.016427</td>\n      <td>0.000000</td>\n      <td>0.000000</td>\n      <td>0.000000</td>\n      <td>0.007626</td>\n      <td>0.007087</td>\n      <td>0.000000</td>\n      <td>0.004480</td>\n      <td>1</td>\n    </tr>\n    <tr>\n      <th>1023</th>\n      <td>0.000000</td>\n      <td>0.000718</td>\n      <td>0.001614</td>\n      <td>0.000000</td>\n      <td>0.000000</td>\n      <td>0.002350</td>\n      <td>0.000000</td>\n      <td>0.004809</td>\n      <td>0.004014</td>\n      <td>0.000000</td>\n      <td>...</td>\n      <td>0.004236</td>\n      <td>0.000000</td>\n      <td>0.000000</td>\n      <td>0.008340</td>\n      <td>0.000320</td>\n      <td>0.003060</td>\n      <td>0.010233</td>\n      <td>0.011922</td>\n      <td>0.002335</td>\n      <td>1</td>\n    </tr>\n    <tr>\n      <th>1024</th>\n      <td>0.015773</td>\n      <td>0.000000</td>\n      <td>0.000000</td>\n      <td>0.000000</td>\n      <td>0.000000</td>\n      <td>0.009825</td>\n      <td>0.009090</td>\n      <td>0.000000</td>\n      <td>0.001475</td>\n      <td>0.009274</td>\n      <td>...</td>\n      <td>0.002308</td>\n      <td>0.005384</td>\n      <td>0.000000</td>\n      <td>0.000000</td>\n      <td>0.000000</td>\n      <td>0.000000</td>\n      <td>0.000000</td>\n      <td>0.000000</td>\n      <td>0.000000</td>\n      <td>1</td>\n    </tr>\n    <tr>\n      <th>1025</th>\n      <td>0.000000</td>\n      <td>0.000000</td>\n      <td>0.005743</td>\n      <td>0.001744</td>\n      <td>0.001245</td>\n      <td>0.000000</td>\n      <td>0.013191</td>\n      <td>0.000000</td>\n      <td>0.003402</td>\n      <td>0.001286</td>\n      <td>...</td>\n      <td>0.000000</td>\n      <td>0.000000</td>\n      <td>0.000000</td>\n      <td>0.000000</td>\n      <td>0.005629</td>\n      <td>0.000000</td>\n      <td>0.012394</td>\n      <td>0.009681</td>\n      <td>0.000000</td>\n      <td>1</td>\n    </tr>\n  </tbody>\n</table>\n<p>1026 rows × 39801 columns</p>\n</div>"
     },
     "execution_count": 53,
     "metadata": {},
     "output_type": "execute_result"
    }
   ],
   "source": [
    "df"
   ],
   "metadata": {
    "collapsed": false,
    "pycharm": {
     "name": "#%%\n"
    }
   }
  },
  {
   "cell_type": "code",
   "execution_count": 54,
   "outputs": [],
   "source": [
    "X = df.iloc[:,:-1].to_numpy()\n",
    "y = np.array([1 if i==1 else 0 for i in df.iloc[:,-1]])"
   ],
   "metadata": {
    "collapsed": false,
    "pycharm": {
     "name": "#%%\n"
    }
   }
  },
  {
   "cell_type": "code",
   "execution_count": 55,
   "outputs": [
    {
     "data": {
      "text/plain": "PCA(n_components=0.6)",
      "text/html": "<style>#sk-container-id-2 {color: black;background-color: white;}#sk-container-id-2 pre{padding: 0;}#sk-container-id-2 div.sk-toggleable {background-color: white;}#sk-container-id-2 label.sk-toggleable__label {cursor: pointer;display: block;width: 100%;margin-bottom: 0;padding: 0.3em;box-sizing: border-box;text-align: center;}#sk-container-id-2 label.sk-toggleable__label-arrow:before {content: \"▸\";float: left;margin-right: 0.25em;color: #696969;}#sk-container-id-2 label.sk-toggleable__label-arrow:hover:before {color: black;}#sk-container-id-2 div.sk-estimator:hover label.sk-toggleable__label-arrow:before {color: black;}#sk-container-id-2 div.sk-toggleable__content {max-height: 0;max-width: 0;overflow: hidden;text-align: left;background-color: #f0f8ff;}#sk-container-id-2 div.sk-toggleable__content pre {margin: 0.2em;color: black;border-radius: 0.25em;background-color: #f0f8ff;}#sk-container-id-2 input.sk-toggleable__control:checked~div.sk-toggleable__content {max-height: 200px;max-width: 100%;overflow: auto;}#sk-container-id-2 input.sk-toggleable__control:checked~label.sk-toggleable__label-arrow:before {content: \"▾\";}#sk-container-id-2 div.sk-estimator input.sk-toggleable__control:checked~label.sk-toggleable__label {background-color: #d4ebff;}#sk-container-id-2 div.sk-label input.sk-toggleable__control:checked~label.sk-toggleable__label {background-color: #d4ebff;}#sk-container-id-2 input.sk-hidden--visually {border: 0;clip: rect(1px 1px 1px 1px);clip: rect(1px, 1px, 1px, 1px);height: 1px;margin: -1px;overflow: hidden;padding: 0;position: absolute;width: 1px;}#sk-container-id-2 div.sk-estimator {font-family: monospace;background-color: #f0f8ff;border: 1px dotted black;border-radius: 0.25em;box-sizing: border-box;margin-bottom: 0.5em;}#sk-container-id-2 div.sk-estimator:hover {background-color: #d4ebff;}#sk-container-id-2 div.sk-parallel-item::after {content: \"\";width: 100%;border-bottom: 1px solid gray;flex-grow: 1;}#sk-container-id-2 div.sk-label:hover label.sk-toggleable__label {background-color: #d4ebff;}#sk-container-id-2 div.sk-serial::before {content: \"\";position: absolute;border-left: 1px solid gray;box-sizing: border-box;top: 0;bottom: 0;left: 50%;z-index: 0;}#sk-container-id-2 div.sk-serial {display: flex;flex-direction: column;align-items: center;background-color: white;padding-right: 0.2em;padding-left: 0.2em;position: relative;}#sk-container-id-2 div.sk-item {position: relative;z-index: 1;}#sk-container-id-2 div.sk-parallel {display: flex;align-items: stretch;justify-content: center;background-color: white;position: relative;}#sk-container-id-2 div.sk-item::before, #sk-container-id-2 div.sk-parallel-item::before {content: \"\";position: absolute;border-left: 1px solid gray;box-sizing: border-box;top: 0;bottom: 0;left: 50%;z-index: -1;}#sk-container-id-2 div.sk-parallel-item {display: flex;flex-direction: column;z-index: 1;position: relative;background-color: white;}#sk-container-id-2 div.sk-parallel-item:first-child::after {align-self: flex-end;width: 50%;}#sk-container-id-2 div.sk-parallel-item:last-child::after {align-self: flex-start;width: 50%;}#sk-container-id-2 div.sk-parallel-item:only-child::after {width: 0;}#sk-container-id-2 div.sk-dashed-wrapped {border: 1px dashed gray;margin: 0 0.4em 0.5em 0.4em;box-sizing: border-box;padding-bottom: 0.4em;background-color: white;}#sk-container-id-2 div.sk-label label {font-family: monospace;font-weight: bold;display: inline-block;line-height: 1.2em;}#sk-container-id-2 div.sk-label-container {text-align: center;}#sk-container-id-2 div.sk-container {/* jupyter's `normalize.less` sets `[hidden] { display: none; }` but bootstrap.min.css set `[hidden] { display: none !important; }` so we also need the `!important` here to be able to override the default hidden behavior on the sphinx rendered scikit-learn.org. See: https://github.com/scikit-learn/scikit-learn/issues/21755 */display: inline-block !important;position: relative;}#sk-container-id-2 div.sk-text-repr-fallback {display: none;}</style><div id=\"sk-container-id-2\" class=\"sk-top-container\"><div class=\"sk-text-repr-fallback\"><pre>PCA(n_components=0.6)</pre><b>In a Jupyter environment, please rerun this cell to show the HTML representation or trust the notebook. <br />On GitHub, the HTML representation is unable to render, please try loading this page with nbviewer.org.</b></div><div class=\"sk-container\" hidden><div class=\"sk-item\"><div class=\"sk-estimator sk-toggleable\"><input class=\"sk-toggleable__control sk-hidden--visually\" id=\"sk-estimator-id-2\" type=\"checkbox\" checked><label for=\"sk-estimator-id-2\" class=\"sk-toggleable__label sk-toggleable__label-arrow\">PCA</label><div class=\"sk-toggleable__content\"><pre>PCA(n_components=0.6)</pre></div></div></div></div></div>"
     },
     "execution_count": 55,
     "metadata": {},
     "output_type": "execute_result"
    }
   ],
   "source": [
    "kpca = PCA(n_components=0.60)\n",
    "kpca.fit(X)"
   ],
   "metadata": {
    "collapsed": false,
    "pycharm": {
     "name": "#%%\n"
    }
   }
  },
  {
   "cell_type": "code",
   "execution_count": 56,
   "outputs": [],
   "source": [
    "features = kpca.transform(X)"
   ],
   "metadata": {
    "collapsed": false,
    "pycharm": {
     "name": "#%%\n"
    }
   }
  },
  {
   "cell_type": "code",
   "execution_count": 57,
   "outputs": [
    {
     "data": {
      "text/plain": "array([[ 0.19199043,  0.08117812,  0.01683551, ...,  0.00827599,\n         0.02719637,  0.01064703],\n       [ 0.11673179,  0.20474664,  0.06622118, ...,  0.00725239,\n        -0.02842953, -0.003269  ],\n       [ 0.28208514,  0.05810256,  0.10390982, ...,  0.02404216,\n         0.0116526 ,  0.01130496],\n       ...,\n       [ 0.02522307,  0.03057172, -0.12135646, ..., -0.12808825,\n        -0.0201539 , -0.00574662],\n       [ 0.11029762, -0.14313994, -0.10962507, ...,  0.13313592,\n         0.09382017,  0.02411624],\n       [ 0.19534193, -0.09219146, -0.09119775, ..., -0.06590279,\n         0.0048919 ,  0.02950453]])"
     },
     "execution_count": 57,
     "metadata": {},
     "output_type": "execute_result"
    }
   ],
   "source": [
    "features"
   ],
   "metadata": {
    "collapsed": false,
    "pycharm": {
     "name": "#%%\n"
    }
   }
  },
  {
   "cell_type": "code",
   "execution_count": 58,
   "outputs": [],
   "source": [
    "\n",
    "cv = StratifiedShuffleSplit(n_splits=5, random_state=0, test_size=0.2)\n",
    "\n",
    "for train, test in cv.split(features, y):\n",
    "        # *ConnectivityMeasure* can output the estimated subjects coefficients\n",
    "        # as a 1D arrays through the parameter *vectorize*.\n",
    "\n",
    "    classifier = LinearSVC().fit(X[train], y[train])\n",
    "        # make predictions for the left-out test subjects\n",
    "    predictions = classifier.predict(X[test])\n",
    "        # store the accuracy for this cross-validation fold\n",
    "    score= accuracy_score(y[test], predictions)"
   ],
   "metadata": {
    "collapsed": false,
    "pycharm": {
     "name": "#%%\n"
    }
   }
  },
  {
   "cell_type": "code",
   "execution_count": 59,
   "outputs": [
    {
     "data": {
      "text/plain": "0.5388349514563107"
     },
     "execution_count": 59,
     "metadata": {},
     "output_type": "execute_result"
    }
   ],
   "source": [
    "score"
   ],
   "metadata": {
    "collapsed": false,
    "pycharm": {
     "name": "#%%\n"
    }
   }
  },
  {
   "cell_type": "code",
   "execution_count": 60,
   "outputs": [
    {
     "name": "stdout",
     "output_type": "stream",
     "text": [
      "Iteration: \t1 / 100\n",
      "Confirmed: \t0\n",
      "Tentative: \t39800\n",
      "Rejected: \t0\n",
      "Iteration: \t2 / 100\n",
      "Confirmed: \t0\n",
      "Tentative: \t39800\n",
      "Rejected: \t0\n",
      "Iteration: \t3 / 100\n",
      "Confirmed: \t0\n",
      "Tentative: \t39800\n",
      "Rejected: \t0\n",
      "Iteration: \t4 / 100\n",
      "Confirmed: \t0\n",
      "Tentative: \t39800\n",
      "Rejected: \t0\n",
      "Iteration: \t5 / 100\n",
      "Confirmed: \t0\n",
      "Tentative: \t39800\n",
      "Rejected: \t0\n",
      "Iteration: \t6 / 100\n",
      "Confirmed: \t0\n",
      "Tentative: \t39800\n",
      "Rejected: \t0\n",
      "Iteration: \t7 / 100\n",
      "Confirmed: \t0\n",
      "Tentative: \t39800\n",
      "Rejected: \t0\n",
      "Iteration: \t8 / 100\n",
      "Confirmed: \t0\n",
      "Tentative: \t4\n",
      "Rejected: \t39796\n",
      "Iteration: \t9 / 100\n",
      "Confirmed: \t0\n",
      "Tentative: \t4\n",
      "Rejected: \t39796\n",
      "Iteration: \t10 / 100\n",
      "Confirmed: \t0\n",
      "Tentative: \t4\n",
      "Rejected: \t39796\n",
      "Iteration: \t11 / 100\n",
      "Confirmed: \t0\n",
      "Tentative: \t4\n",
      "Rejected: \t39796\n",
      "Iteration: \t12 / 100\n",
      "Confirmed: \t0\n",
      "Tentative: \t4\n",
      "Rejected: \t39796\n",
      "Iteration: \t13 / 100\n",
      "Confirmed: \t0\n",
      "Tentative: \t4\n",
      "Rejected: \t39796\n",
      "Iteration: \t14 / 100\n",
      "Confirmed: \t0\n",
      "Tentative: \t4\n",
      "Rejected: \t39796\n",
      "Iteration: \t15 / 100\n",
      "Confirmed: \t0\n",
      "Tentative: \t4\n",
      "Rejected: \t39796\n",
      "Iteration: \t16 / 100\n",
      "Confirmed: \t0\n",
      "Tentative: \t4\n",
      "Rejected: \t39796\n",
      "Iteration: \t17 / 100\n",
      "Confirmed: \t0\n",
      "Tentative: \t4\n",
      "Rejected: \t39796\n",
      "Iteration: \t18 / 100\n",
      "Confirmed: \t0\n",
      "Tentative: \t4\n",
      "Rejected: \t39796\n",
      "Iteration: \t19 / 100\n",
      "Confirmed: \t0\n",
      "Tentative: \t4\n",
      "Rejected: \t39796\n",
      "Iteration: \t20 / 100\n",
      "Confirmed: \t0\n",
      "Tentative: \t4\n",
      "Rejected: \t39796\n",
      "Iteration: \t21 / 100\n",
      "Confirmed: \t0\n",
      "Tentative: \t4\n",
      "Rejected: \t39796\n",
      "Iteration: \t22 / 100\n",
      "Confirmed: \t0\n",
      "Tentative: \t4\n",
      "Rejected: \t39796\n",
      "Iteration: \t23 / 100\n",
      "Confirmed: \t0\n",
      "Tentative: \t4\n",
      "Rejected: \t39796\n",
      "Iteration: \t24 / 100\n",
      "Confirmed: \t0\n",
      "Tentative: \t4\n",
      "Rejected: \t39796\n",
      "Iteration: \t25 / 100\n",
      "Confirmed: \t0\n",
      "Tentative: \t4\n",
      "Rejected: \t39796\n",
      "Iteration: \t26 / 100\n",
      "Confirmed: \t0\n",
      "Tentative: \t4\n",
      "Rejected: \t39796\n",
      "Iteration: \t27 / 100\n",
      "Confirmed: \t0\n",
      "Tentative: \t4\n",
      "Rejected: \t39796\n",
      "Iteration: \t28 / 100\n",
      "Confirmed: \t0\n",
      "Tentative: \t4\n",
      "Rejected: \t39796\n",
      "Iteration: \t29 / 100\n",
      "Confirmed: \t2\n",
      "Tentative: \t2\n",
      "Rejected: \t39796\n",
      "Iteration: \t30 / 100\n",
      "Confirmed: \t2\n",
      "Tentative: \t2\n",
      "Rejected: \t39796\n",
      "Iteration: \t31 / 100\n",
      "Confirmed: \t2\n",
      "Tentative: \t2\n",
      "Rejected: \t39796\n",
      "Iteration: \t32 / 100\n",
      "Confirmed: \t4\n",
      "Tentative: \t0\n",
      "Rejected: \t39796\n",
      "\n",
      "\n",
      "BorutaPy finished running.\n",
      "\n",
      "Iteration: \t33 / 100\n",
      "Confirmed: \t4\n",
      "Tentative: \t0\n",
      "Rejected: \t39796\n"
     ]
    }
   ],
   "source": [
    "rf = RandomForestClassifier(n_jobs=-1, class_weight='balanced', max_depth=5)\n",
    "\n",
    "# define Boruta feature selection method\n",
    "feat_selector = BorutaPy(rf, n_estimators='auto', verbose=2, random_state=1)\n",
    "\n",
    "# find all relevant features - 5 features should be selected\n",
    "feat_selector.fit(X, y)\n",
    "\n",
    "# check selected features - first 5 features are selected\n",
    "feat_selector.support_\n",
    "\n",
    "# check ranking of features\n",
    "feat_selector.ranking_\n",
    "\n",
    "# call transform() on X to filter it down to selected features\n",
    "X_filtered = feat_selector.transform(X)"
   ],
   "metadata": {
    "collapsed": false,
    "pycharm": {
     "name": "#%%\n"
    }
   }
  },
  {
   "cell_type": "code",
   "execution_count": 63,
   "outputs": [],
   "source": [
    "\n",
    "cv = StratifiedShuffleSplit(n_splits=5, random_state=0, test_size=0.2)\n",
    "\n",
    "for train, test in cv.split(X_filtered, y):\n",
    "        # *ConnectivityMeasure* can output the estimated subjects coefficients\n",
    "        # as a 1D arrays through the parameter *vectorize*.\n",
    "\n",
    "    classifier = RandomForestClassifier().fit(X_filtered[train], y[train])\n",
    "        # make predictions for the left-out test subjects\n",
    "    predictions = classifier.predict(X_filtered[test])\n",
    "        # store the accuracy for this cross-validation fold\n",
    "    score= accuracy_score(y[test], predictions)"
   ],
   "metadata": {
    "collapsed": false,
    "pycharm": {
     "name": "#%%\n"
    }
   }
  },
  {
   "cell_type": "code",
   "execution_count": 64,
   "outputs": [
    {
     "data": {
      "text/plain": "0.5048543689320388"
     },
     "execution_count": 64,
     "metadata": {},
     "output_type": "execute_result"
    }
   ],
   "source": [
    "score"
   ],
   "metadata": {
    "collapsed": false,
    "pycharm": {
     "name": "#%%\n"
    }
   }
  },
  {
   "cell_type": "code",
   "execution_count": 65,
   "outputs": [],
   "source": [
    "cv = StratifiedShuffleSplit(n_splits=5, random_state=0, test_size=0.2)\n",
    "\n",
    "for train, test in cv.split(X_filtered, y):\n",
    "    # *ConnectivityMeasure* can output the estimated subjects coefficients\n",
    "    # as a 1D arrays through the parameter *vectorize*.\n",
    "\n",
    "    classifier = SVC(kernel='rbf').fit(X_filtered[train], y[train])\n",
    "    # make predictions for the left-out test subjects\n",
    "    predictions = classifier.predict(X_filtered[test])\n",
    "    # store the accuracy for this cross-validation fold\n",
    "    score = accuracy_score(y[test], predictions)"
   ],
   "metadata": {
    "collapsed": false,
    "pycharm": {
     "name": "#%%\n"
    }
   }
  },
  {
   "cell_type": "code",
   "execution_count": 66,
   "outputs": [
    {
     "data": {
      "text/plain": "0.5631067961165048"
     },
     "execution_count": 66,
     "metadata": {},
     "output_type": "execute_result"
    }
   ],
   "source": [
    "score"
   ],
   "metadata": {
    "collapsed": false,
    "pycharm": {
     "name": "#%%\n"
    }
   }
  },
  {
   "cell_type": "code",
   "execution_count": 67,
   "outputs": [],
   "source": [
    "cv = StratifiedShuffleSplit(n_splits=5, random_state=0, test_size=0.2)\n",
    "\n",
    "for train, test in cv.split(X_filtered, y):\n",
    "    # *ConnectivityMeasure* can output the estimated subjects coefficients\n",
    "    # as a 1D arrays through the parameter *vectorize*.\n",
    "\n",
    "    classifier = LinearSVC().fit(X_filtered[train], y[train])\n",
    "    # make predictions for the left-out test subjects\n",
    "    predictions = classifier.predict(X_filtered[test])\n",
    "    # store the accuracy for this cross-validation fold\n",
    "    score = accuracy_score(y[test], predictions)"
   ],
   "metadata": {
    "collapsed": false,
    "pycharm": {
     "name": "#%%\n"
    }
   }
  },
  {
   "cell_type": "code",
   "execution_count": 92,
   "outputs": [
    {
     "data": {
      "text/plain": "0.5194174757281553"
     },
     "execution_count": 92,
     "metadata": {},
     "output_type": "execute_result"
    }
   ],
   "source": [
    "score"
   ],
   "metadata": {
    "collapsed": false,
    "pycharm": {
     "name": "#%%\n"
    }
   }
  },
  {
   "cell_type": "markdown",
   "source": [
    "## FC machine"
   ],
   "metadata": {
    "collapsed": false,
    "pycharm": {
     "name": "#%% md\n"
    }
   }
  },
  {
   "cell_type": "code",
   "execution_count": null,
   "outputs": [],
   "source": [],
   "metadata": {
    "collapsed": false,
    "pycharm": {
     "name": "#%%\n"
    }
   }
  },
  {
   "cell_type": "code",
   "execution_count": 196,
   "outputs": [],
   "source": [
    "data = np.load('/Users/admin/Documents/MscProject/fc_cc200_vectorised.npy')"
   ],
   "metadata": {
    "collapsed": false,
    "pycharm": {
     "name": "#%%\n"
    }
   }
  },
  {
   "cell_type": "code",
   "execution_count": 95,
   "outputs": [],
   "source": [
    "df = pd.DataFrame(data)"
   ],
   "metadata": {
    "collapsed": false,
    "pycharm": {
     "name": "#%%\n"
    }
   }
  },
  {
   "cell_type": "code",
   "execution_count": 96,
   "outputs": [
    {
     "data": {
      "text/plain": "      0         1         2         3         4         5         6      \\\n0 -0.318127 -0.069796 -0.036556 -0.163779  0.154582 -0.468522  0.149931   \n1  0.248915  0.138000 -0.209563 -0.142492 -0.541118 -0.220420 -0.038429   \n2  0.138845  0.060143 -0.074200 -0.062667  0.065521  0.034017 -0.131597   \n3 -0.255444  0.107162 -0.054165  0.085518 -0.007979 -0.277307 -0.052372   \n4 -0.377935 -0.060415 -0.005243 -0.431189 -0.117298 -0.135625  0.153580   \n\n      7         8         9      ...     19891     19892     19893     19894  \\\n0  0.085749 -0.091261 -0.097561  ... -0.013454  0.288202  0.346534  0.169769   \n1 -0.579570 -0.276240  0.080674  ...  0.047489 -0.217907  0.152274 -0.022263   \n2 -0.272950 -0.267307  0.056912  ...  0.064907 -0.101845  0.258160 -0.350446   \n3  0.300137  0.187776 -0.014143  ...  0.168408  0.214707  0.010837 -0.220701   \n4  0.104868  0.151153 -0.198125  ... -0.043606 -0.051302 -0.137138 -0.207220   \n\n      19895     19896     19897     19898     19899  19900  \n0  0.402399  0.235802  0.328523  0.022539  0.275308    1.0  \n1  0.387047  0.030468  0.100718  0.109483 -0.272489    1.0  \n2  0.157305 -0.163685 -0.071646  0.114257 -0.299283    1.0  \n3  0.121951  0.140008 -0.150833  0.227749 -0.012394    1.0  \n4 -0.160206 -0.037513  0.401884  0.275285 -0.304601    1.0  \n\n[5 rows x 19901 columns]",
      "text/html": "<div>\n<style scoped>\n    .dataframe tbody tr th:only-of-type {\n        vertical-align: middle;\n    }\n\n    .dataframe tbody tr th {\n        vertical-align: top;\n    }\n\n    .dataframe thead th {\n        text-align: right;\n    }\n</style>\n<table border=\"1\" class=\"dataframe\">\n  <thead>\n    <tr style=\"text-align: right;\">\n      <th></th>\n      <th>0</th>\n      <th>1</th>\n      <th>2</th>\n      <th>3</th>\n      <th>4</th>\n      <th>5</th>\n      <th>6</th>\n      <th>7</th>\n      <th>8</th>\n      <th>9</th>\n      <th>...</th>\n      <th>19891</th>\n      <th>19892</th>\n      <th>19893</th>\n      <th>19894</th>\n      <th>19895</th>\n      <th>19896</th>\n      <th>19897</th>\n      <th>19898</th>\n      <th>19899</th>\n      <th>19900</th>\n    </tr>\n  </thead>\n  <tbody>\n    <tr>\n      <th>0</th>\n      <td>-0.318127</td>\n      <td>-0.069796</td>\n      <td>-0.036556</td>\n      <td>-0.163779</td>\n      <td>0.154582</td>\n      <td>-0.468522</td>\n      <td>0.149931</td>\n      <td>0.085749</td>\n      <td>-0.091261</td>\n      <td>-0.097561</td>\n      <td>...</td>\n      <td>-0.013454</td>\n      <td>0.288202</td>\n      <td>0.346534</td>\n      <td>0.169769</td>\n      <td>0.402399</td>\n      <td>0.235802</td>\n      <td>0.328523</td>\n      <td>0.022539</td>\n      <td>0.275308</td>\n      <td>1.0</td>\n    </tr>\n    <tr>\n      <th>1</th>\n      <td>0.248915</td>\n      <td>0.138000</td>\n      <td>-0.209563</td>\n      <td>-0.142492</td>\n      <td>-0.541118</td>\n      <td>-0.220420</td>\n      <td>-0.038429</td>\n      <td>-0.579570</td>\n      <td>-0.276240</td>\n      <td>0.080674</td>\n      <td>...</td>\n      <td>0.047489</td>\n      <td>-0.217907</td>\n      <td>0.152274</td>\n      <td>-0.022263</td>\n      <td>0.387047</td>\n      <td>0.030468</td>\n      <td>0.100718</td>\n      <td>0.109483</td>\n      <td>-0.272489</td>\n      <td>1.0</td>\n    </tr>\n    <tr>\n      <th>2</th>\n      <td>0.138845</td>\n      <td>0.060143</td>\n      <td>-0.074200</td>\n      <td>-0.062667</td>\n      <td>0.065521</td>\n      <td>0.034017</td>\n      <td>-0.131597</td>\n      <td>-0.272950</td>\n      <td>-0.267307</td>\n      <td>0.056912</td>\n      <td>...</td>\n      <td>0.064907</td>\n      <td>-0.101845</td>\n      <td>0.258160</td>\n      <td>-0.350446</td>\n      <td>0.157305</td>\n      <td>-0.163685</td>\n      <td>-0.071646</td>\n      <td>0.114257</td>\n      <td>-0.299283</td>\n      <td>1.0</td>\n    </tr>\n    <tr>\n      <th>3</th>\n      <td>-0.255444</td>\n      <td>0.107162</td>\n      <td>-0.054165</td>\n      <td>0.085518</td>\n      <td>-0.007979</td>\n      <td>-0.277307</td>\n      <td>-0.052372</td>\n      <td>0.300137</td>\n      <td>0.187776</td>\n      <td>-0.014143</td>\n      <td>...</td>\n      <td>0.168408</td>\n      <td>0.214707</td>\n      <td>0.010837</td>\n      <td>-0.220701</td>\n      <td>0.121951</td>\n      <td>0.140008</td>\n      <td>-0.150833</td>\n      <td>0.227749</td>\n      <td>-0.012394</td>\n      <td>1.0</td>\n    </tr>\n    <tr>\n      <th>4</th>\n      <td>-0.377935</td>\n      <td>-0.060415</td>\n      <td>-0.005243</td>\n      <td>-0.431189</td>\n      <td>-0.117298</td>\n      <td>-0.135625</td>\n      <td>0.153580</td>\n      <td>0.104868</td>\n      <td>0.151153</td>\n      <td>-0.198125</td>\n      <td>...</td>\n      <td>-0.043606</td>\n      <td>-0.051302</td>\n      <td>-0.137138</td>\n      <td>-0.207220</td>\n      <td>-0.160206</td>\n      <td>-0.037513</td>\n      <td>0.401884</td>\n      <td>0.275285</td>\n      <td>-0.304601</td>\n      <td>1.0</td>\n    </tr>\n  </tbody>\n</table>\n<p>5 rows × 19901 columns</p>\n</div>"
     },
     "execution_count": 96,
     "metadata": {},
     "output_type": "execute_result"
    }
   ],
   "source": [
    "df.head()"
   ],
   "metadata": {
    "collapsed": false,
    "pycharm": {
     "name": "#%%\n"
    }
   }
  },
  {
   "cell_type": "code",
   "execution_count": 97,
   "outputs": [
    {
     "name": "stderr",
     "output_type": "stream",
     "text": [
      "/var/folders/0k/w62sf0c17hs15h730mmdkmj40000gn/T/ipykernel_64877/4128129977.py:1: FutureWarning: In a future version, `df.iloc[:, i] = newvals` will attempt to set the values inplace instead of always setting a new array. To retain the old behavior, use either `df[df.columns[i]] = newvals` or, if columns are non-unique, `df.isetitem(i, newvals)`\n",
      "  df.iloc[:,-1]=df.iloc[:,-1].astype(int)\n"
     ]
    }
   ],
   "source": [
    "df.iloc[:,-1]=df.iloc[:,-1].astype(int)"
   ],
   "metadata": {
    "collapsed": false,
    "pycharm": {
     "name": "#%%\n"
    }
   }
  },
  {
   "cell_type": "code",
   "execution_count": null,
   "outputs": [],
   "source": [],
   "metadata": {
    "collapsed": false,
    "pycharm": {
     "name": "#%%\n"
    }
   }
  },
  {
   "cell_type": "code",
   "execution_count": 98,
   "outputs": [],
   "source": [
    "X = df.iloc[:,:-1].to_numpy()\n",
    "y = np.array([1 if i==1 else 0 for i in df.iloc[:,-1]])"
   ],
   "metadata": {
    "collapsed": false,
    "pycharm": {
     "name": "#%%\n"
    }
   }
  },
  {
   "cell_type": "code",
   "execution_count": null,
   "outputs": [],
   "source": [],
   "metadata": {
    "collapsed": false,
    "pycharm": {
     "name": "#%%\n"
    }
   }
  },
  {
   "cell_type": "code",
   "execution_count": 100,
   "outputs": [
    {
     "name": "stdout",
     "output_type": "stream",
     "text": [
      "Iteration: \t1 / 100\n",
      "Confirmed: \t0\n",
      "Tentative: \t19900\n",
      "Rejected: \t0\n",
      "Iteration: \t2 / 100\n",
      "Confirmed: \t0\n",
      "Tentative: \t19900\n",
      "Rejected: \t0\n",
      "Iteration: \t3 / 100\n",
      "Confirmed: \t0\n",
      "Tentative: \t19900\n",
      "Rejected: \t0\n",
      "Iteration: \t4 / 100\n",
      "Confirmed: \t0\n",
      "Tentative: \t19900\n",
      "Rejected: \t0\n",
      "Iteration: \t5 / 100\n",
      "Confirmed: \t0\n",
      "Tentative: \t19900\n",
      "Rejected: \t0\n",
      "Iteration: \t6 / 100\n",
      "Confirmed: \t0\n",
      "Tentative: \t19900\n",
      "Rejected: \t0\n",
      "Iteration: \t7 / 100\n",
      "Confirmed: \t0\n",
      "Tentative: \t19900\n",
      "Rejected: \t0\n",
      "Iteration: \t8 / 100\n",
      "Confirmed: \t0\n",
      "Tentative: \t496\n",
      "Rejected: \t19404\n",
      "Iteration: \t9 / 100\n",
      "Confirmed: \t110\n",
      "Tentative: \t386\n",
      "Rejected: \t19404\n",
      "Iteration: \t10 / 100\n",
      "Confirmed: \t110\n",
      "Tentative: \t386\n",
      "Rejected: \t19404\n",
      "Iteration: \t11 / 100\n",
      "Confirmed: \t110\n",
      "Tentative: \t386\n",
      "Rejected: \t19404\n",
      "Iteration: \t12 / 100\n",
      "Confirmed: \t126\n",
      "Tentative: \t308\n",
      "Rejected: \t19466\n",
      "Iteration: \t13 / 100\n",
      "Confirmed: \t126\n",
      "Tentative: \t308\n",
      "Rejected: \t19466\n",
      "Iteration: \t14 / 100\n",
      "Confirmed: \t126\n",
      "Tentative: \t308\n",
      "Rejected: \t19466\n",
      "Iteration: \t15 / 100\n",
      "Confirmed: \t126\n",
      "Tentative: \t308\n",
      "Rejected: \t19466\n",
      "Iteration: \t16 / 100\n",
      "Confirmed: \t137\n",
      "Tentative: \t267\n",
      "Rejected: \t19496\n",
      "Iteration: \t17 / 100\n",
      "Confirmed: \t137\n",
      "Tentative: \t267\n",
      "Rejected: \t19496\n",
      "Iteration: \t18 / 100\n",
      "Confirmed: \t137\n",
      "Tentative: \t267\n",
      "Rejected: \t19496\n",
      "Iteration: \t19 / 100\n",
      "Confirmed: \t146\n",
      "Tentative: \t258\n",
      "Rejected: \t19496\n",
      "Iteration: \t20 / 100\n",
      "Confirmed: \t146\n",
      "Tentative: \t246\n",
      "Rejected: \t19508\n",
      "Iteration: \t21 / 100\n",
      "Confirmed: \t146\n",
      "Tentative: \t246\n",
      "Rejected: \t19508\n",
      "Iteration: \t22 / 100\n",
      "Confirmed: \t155\n",
      "Tentative: \t237\n",
      "Rejected: \t19508\n",
      "Iteration: \t23 / 100\n",
      "Confirmed: \t155\n",
      "Tentative: \t226\n",
      "Rejected: \t19519\n",
      "Iteration: \t24 / 100\n",
      "Confirmed: \t155\n",
      "Tentative: \t226\n",
      "Rejected: \t19519\n",
      "Iteration: \t25 / 100\n",
      "Confirmed: \t155\n",
      "Tentative: \t226\n",
      "Rejected: \t19519\n",
      "Iteration: \t26 / 100\n",
      "Confirmed: \t163\n",
      "Tentative: \t218\n",
      "Rejected: \t19519\n",
      "Iteration: \t27 / 100\n",
      "Confirmed: \t163\n",
      "Tentative: \t218\n",
      "Rejected: \t19519\n",
      "Iteration: \t28 / 100\n",
      "Confirmed: \t163\n",
      "Tentative: \t218\n",
      "Rejected: \t19519\n",
      "Iteration: \t29 / 100\n",
      "Confirmed: \t171\n",
      "Tentative: \t210\n",
      "Rejected: \t19519\n",
      "Iteration: \t30 / 100\n",
      "Confirmed: \t171\n",
      "Tentative: \t203\n",
      "Rejected: \t19526\n",
      "Iteration: \t31 / 100\n",
      "Confirmed: \t171\n",
      "Tentative: \t203\n",
      "Rejected: \t19526\n",
      "Iteration: \t32 / 100\n",
      "Confirmed: \t179\n",
      "Tentative: \t195\n",
      "Rejected: \t19526\n",
      "Iteration: \t33 / 100\n",
      "Confirmed: \t179\n",
      "Tentative: \t190\n",
      "Rejected: \t19531\n",
      "Iteration: \t34 / 100\n",
      "Confirmed: \t185\n",
      "Tentative: \t184\n",
      "Rejected: \t19531\n",
      "Iteration: \t35 / 100\n",
      "Confirmed: \t185\n",
      "Tentative: \t184\n",
      "Rejected: \t19531\n",
      "Iteration: \t36 / 100\n",
      "Confirmed: \t185\n",
      "Tentative: \t184\n",
      "Rejected: \t19531\n",
      "Iteration: \t37 / 100\n",
      "Confirmed: \t191\n",
      "Tentative: \t178\n",
      "Rejected: \t19531\n",
      "Iteration: \t38 / 100\n",
      "Confirmed: \t191\n",
      "Tentative: \t176\n",
      "Rejected: \t19533\n",
      "Iteration: \t39 / 100\n",
      "Confirmed: \t191\n",
      "Tentative: \t176\n",
      "Rejected: \t19533\n",
      "Iteration: \t40 / 100\n",
      "Confirmed: \t192\n",
      "Tentative: \t175\n",
      "Rejected: \t19533\n",
      "Iteration: \t41 / 100\n",
      "Confirmed: \t192\n",
      "Tentative: \t173\n",
      "Rejected: \t19535\n",
      "Iteration: \t42 / 100\n",
      "Confirmed: \t192\n",
      "Tentative: \t173\n",
      "Rejected: \t19535\n",
      "Iteration: \t43 / 100\n",
      "Confirmed: \t194\n",
      "Tentative: \t171\n",
      "Rejected: \t19535\n",
      "Iteration: \t44 / 100\n",
      "Confirmed: \t194\n",
      "Tentative: \t166\n",
      "Rejected: \t19540\n",
      "Iteration: \t45 / 100\n",
      "Confirmed: \t194\n",
      "Tentative: \t166\n",
      "Rejected: \t19540\n",
      "Iteration: \t46 / 100\n",
      "Confirmed: \t196\n",
      "Tentative: \t164\n",
      "Rejected: \t19540\n",
      "Iteration: \t47 / 100\n",
      "Confirmed: \t196\n",
      "Tentative: \t160\n",
      "Rejected: \t19544\n",
      "Iteration: \t48 / 100\n",
      "Confirmed: \t196\n",
      "Tentative: \t160\n",
      "Rejected: \t19544\n",
      "Iteration: \t49 / 100\n",
      "Confirmed: \t198\n",
      "Tentative: \t158\n",
      "Rejected: \t19544\n",
      "Iteration: \t50 / 100\n",
      "Confirmed: \t198\n",
      "Tentative: \t158\n",
      "Rejected: \t19544\n",
      "Iteration: \t51 / 100\n",
      "Confirmed: \t198\n",
      "Tentative: \t149\n",
      "Rejected: \t19553\n",
      "Iteration: \t52 / 100\n",
      "Confirmed: \t198\n",
      "Tentative: \t149\n",
      "Rejected: \t19553\n",
      "Iteration: \t53 / 100\n",
      "Confirmed: \t198\n",
      "Tentative: \t149\n",
      "Rejected: \t19553\n",
      "Iteration: \t54 / 100\n",
      "Confirmed: \t200\n",
      "Tentative: \t147\n",
      "Rejected: \t19553\n",
      "Iteration: \t55 / 100\n",
      "Confirmed: \t200\n",
      "Tentative: \t147\n",
      "Rejected: \t19553\n",
      "Iteration: \t56 / 100\n",
      "Confirmed: \t200\n",
      "Tentative: \t146\n",
      "Rejected: \t19554\n",
      "Iteration: \t57 / 100\n",
      "Confirmed: \t200\n",
      "Tentative: \t140\n",
      "Rejected: \t19560\n",
      "Iteration: \t58 / 100\n",
      "Confirmed: \t200\n",
      "Tentative: \t140\n",
      "Rejected: \t19560\n",
      "Iteration: \t59 / 100\n",
      "Confirmed: \t203\n",
      "Tentative: \t137\n",
      "Rejected: \t19560\n",
      "Iteration: \t60 / 100\n",
      "Confirmed: \t203\n",
      "Tentative: \t137\n",
      "Rejected: \t19560\n",
      "Iteration: \t61 / 100\n",
      "Confirmed: \t203\n",
      "Tentative: \t137\n",
      "Rejected: \t19560\n",
      "Iteration: \t62 / 100\n",
      "Confirmed: \t205\n",
      "Tentative: \t135\n",
      "Rejected: \t19560\n",
      "Iteration: \t63 / 100\n",
      "Confirmed: \t205\n",
      "Tentative: \t135\n",
      "Rejected: \t19560\n",
      "Iteration: \t64 / 100\n",
      "Confirmed: \t205\n",
      "Tentative: \t135\n",
      "Rejected: \t19560\n",
      "Iteration: \t65 / 100\n",
      "Confirmed: \t206\n",
      "Tentative: \t134\n",
      "Rejected: \t19560\n",
      "Iteration: \t66 / 100\n",
      "Confirmed: \t206\n",
      "Tentative: \t133\n",
      "Rejected: \t19561\n",
      "Iteration: \t67 / 100\n",
      "Confirmed: \t208\n",
      "Tentative: \t131\n",
      "Rejected: \t19561\n",
      "Iteration: \t68 / 100\n",
      "Confirmed: \t208\n",
      "Tentative: \t127\n",
      "Rejected: \t19565\n",
      "Iteration: \t69 / 100\n",
      "Confirmed: \t208\n",
      "Tentative: \t127\n",
      "Rejected: \t19565\n",
      "Iteration: \t70 / 100\n",
      "Confirmed: \t209\n",
      "Tentative: \t126\n",
      "Rejected: \t19565\n",
      "Iteration: \t71 / 100\n",
      "Confirmed: \t209\n",
      "Tentative: \t126\n",
      "Rejected: \t19565\n",
      "Iteration: \t72 / 100\n",
      "Confirmed: \t209\n",
      "Tentative: \t126\n",
      "Rejected: \t19565\n",
      "Iteration: \t73 / 100\n",
      "Confirmed: \t209\n",
      "Tentative: \t126\n",
      "Rejected: \t19565\n",
      "Iteration: \t74 / 100\n",
      "Confirmed: \t209\n",
      "Tentative: \t126\n",
      "Rejected: \t19565\n",
      "Iteration: \t75 / 100\n",
      "Confirmed: \t212\n",
      "Tentative: \t123\n",
      "Rejected: \t19565\n",
      "Iteration: \t76 / 100\n",
      "Confirmed: \t212\n",
      "Tentative: \t123\n",
      "Rejected: \t19565\n",
      "Iteration: \t77 / 100\n",
      "Confirmed: \t213\n",
      "Tentative: \t122\n",
      "Rejected: \t19565\n",
      "Iteration: \t78 / 100\n",
      "Confirmed: \t213\n",
      "Tentative: \t122\n",
      "Rejected: \t19565\n",
      "Iteration: \t79 / 100\n",
      "Confirmed: \t213\n",
      "Tentative: \t122\n",
      "Rejected: \t19565\n",
      "Iteration: \t80 / 100\n",
      "Confirmed: \t213\n",
      "Tentative: \t122\n",
      "Rejected: \t19565\n",
      "Iteration: \t81 / 100\n",
      "Confirmed: \t213\n",
      "Tentative: \t122\n",
      "Rejected: \t19565\n",
      "Iteration: \t82 / 100\n",
      "Confirmed: \t213\n",
      "Tentative: \t122\n",
      "Rejected: \t19565\n",
      "Iteration: \t83 / 100\n",
      "Confirmed: \t216\n",
      "Tentative: \t119\n",
      "Rejected: \t19565\n",
      "Iteration: \t84 / 100\n",
      "Confirmed: \t216\n",
      "Tentative: \t119\n",
      "Rejected: \t19565\n",
      "Iteration: \t85 / 100\n",
      "Confirmed: \t216\n",
      "Tentative: \t119\n",
      "Rejected: \t19565\n",
      "Iteration: \t86 / 100\n",
      "Confirmed: \t216\n",
      "Tentative: \t119\n",
      "Rejected: \t19565\n",
      "Iteration: \t87 / 100\n",
      "Confirmed: \t216\n",
      "Tentative: \t117\n",
      "Rejected: \t19567\n",
      "Iteration: \t88 / 100\n",
      "Confirmed: \t216\n",
      "Tentative: \t117\n",
      "Rejected: \t19567\n",
      "Iteration: \t89 / 100\n",
      "Confirmed: \t216\n",
      "Tentative: \t117\n",
      "Rejected: \t19567\n",
      "Iteration: \t90 / 100\n",
      "Confirmed: \t216\n",
      "Tentative: \t117\n",
      "Rejected: \t19567\n",
      "Iteration: \t91 / 100\n",
      "Confirmed: \t216\n",
      "Tentative: \t117\n",
      "Rejected: \t19567\n",
      "Iteration: \t92 / 100\n",
      "Confirmed: \t216\n",
      "Tentative: \t117\n",
      "Rejected: \t19567\n",
      "Iteration: \t93 / 100\n",
      "Confirmed: \t216\n",
      "Tentative: \t114\n",
      "Rejected: \t19570\n",
      "Iteration: \t94 / 100\n",
      "Confirmed: \t216\n",
      "Tentative: \t114\n",
      "Rejected: \t19570\n",
      "Iteration: \t95 / 100\n",
      "Confirmed: \t216\n",
      "Tentative: \t114\n",
      "Rejected: \t19570\n",
      "Iteration: \t96 / 100\n",
      "Confirmed: \t216\n",
      "Tentative: \t114\n",
      "Rejected: \t19570\n",
      "Iteration: \t97 / 100\n",
      "Confirmed: \t216\n",
      "Tentative: \t114\n",
      "Rejected: \t19570\n",
      "Iteration: \t98 / 100\n",
      "Confirmed: \t217\n",
      "Tentative: \t113\n",
      "Rejected: \t19570\n",
      "Iteration: \t99 / 100\n",
      "Confirmed: \t217\n",
      "Tentative: \t113\n",
      "Rejected: \t19570\n",
      "\n",
      "\n",
      "BorutaPy finished running.\n",
      "\n",
      "Iteration: \t100 / 100\n",
      "Confirmed: \t217\n",
      "Tentative: \t53\n",
      "Rejected: \t19570\n"
     ]
    }
   ],
   "source": [
    "rf = RandomForestClassifier(n_jobs=-1, class_weight='balanced', max_depth=5)\n",
    "\n",
    "# define Boruta feature selection method\n",
    "feat_selector = BorutaPy(rf, n_estimators='auto', verbose=2, random_state=1)\n",
    "\n",
    "# find all relevant features - 5 features should be selected\n",
    "feat_selector.fit(X, y)\n",
    "\n",
    "# check selected features - first 5 features are selected\n",
    "feat_selector.support_\n",
    "\n",
    "# check ranking of features\n",
    "feat_selector.ranking_\n",
    "\n",
    "# call transform() on X to filter it down to selected features\n",
    "X_filtered = feat_selector.transform(X)"
   ],
   "metadata": {
    "collapsed": false,
    "pycharm": {
     "name": "#%%\n"
    }
   }
  },
  {
   "cell_type": "code",
   "execution_count": null,
   "outputs": [],
   "source": [],
   "metadata": {
    "collapsed": false,
    "pycharm": {
     "name": "#%%\n"
    }
   }
  },
  {
   "cell_type": "code",
   "execution_count": 236,
   "outputs": [],
   "source": [
    "cv = StratifiedShuffleSplit(n_splits=10, random_state=0, test_size=0.2)\n",
    "scores = []\n",
    "for train, test in cv.split(X_filtered, y):\n",
    "        # *ConnectivityMeasure* can output the estimated subjects coefficients\n",
    "        # as a 1D arrays through the parameter *vectorize*.\n",
    "\n",
    "    classifier = RandomForestClassifier().fit(X_filtered[train], y[train])\n",
    "        # make predictions for the left-out test subjects\n",
    "    predictions = classifier.predict(X_filtered[test])\n",
    "        # store the accuracy for this cross-validation fold\n",
    "    score= accuracy_score(y[test], predictions)\n",
    "    scores.append(score)"
   ],
   "metadata": {
    "collapsed": false,
    "pycharm": {
     "name": "#%%\n"
    }
   }
  },
  {
   "cell_type": "code",
   "execution_count": 237,
   "outputs": [
    {
     "data": {
      "text/plain": "0.7300970873786408"
     },
     "execution_count": 237,
     "metadata": {},
     "output_type": "execute_result"
    }
   ],
   "source": [
    "np.mean(scores)"
   ],
   "metadata": {
    "collapsed": false,
    "pycharm": {
     "name": "#%%\n"
    }
   }
  },
  {
   "cell_type": "code",
   "execution_count": 239,
   "outputs": [],
   "source": [
    "cv = StratifiedShuffleSplit(n_splits=10, random_state=0, test_size=0.2)\n",
    "scores = []\n",
    "for train, test in cv.split(X_filtered, y):\n",
    "    # *ConnectivityMeasure* can output the estimated subjects coefficients\n",
    "    # as a 1D arrays through the parameter *vectorize*.\n",
    "\n",
    "    classifier = SVC(kernel='rbf').fit(X_filtered[train], y[train])\n",
    "    # make predictions for the left-out test subjects\n",
    "    predictions = classifier.predict(X_filtered[test])\n",
    "    # store the accuracy for this cross-validation fold\n",
    "    score = accuracy_score(y[test], predictions)\n",
    "    scores.append(score)"
   ],
   "metadata": {
    "collapsed": false,
    "pycharm": {
     "name": "#%%\n"
    }
   }
  },
  {
   "cell_type": "code",
   "execution_count": 240,
   "outputs": [
    {
     "data": {
      "text/plain": "0.7485436893203883"
     },
     "execution_count": 240,
     "metadata": {},
     "output_type": "execute_result"
    }
   ],
   "source": [
    "np.mean(scores)"
   ],
   "metadata": {
    "collapsed": false,
    "pycharm": {
     "name": "#%%\n"
    }
   }
  },
  {
   "cell_type": "code",
   "execution_count": 105,
   "outputs": [],
   "source": [
    "cv = StratifiedShuffleSplit(n_splits=5, random_state=0, test_size=0.2)\n",
    "\n",
    "for train, test in cv.split(X_filtered, y):\n",
    "    # *ConnectivityMeasure* can output the estimated subjects coefficients\n",
    "    # as a 1D arrays through the parameter *vectorize*.\n",
    "\n",
    "    classifier = LinearSVC().fit(X_filtered[train], y[train])\n",
    "    # make predictions for the left-out test subjects\n",
    "    predictions = classifier.predict(X_filtered[test])\n",
    "    # store the accuracy for this cross-validation fold\n",
    "    score = accuracy_score(y[test], predictions)"
   ],
   "metadata": {
    "collapsed": false,
    "pycharm": {
     "name": "#%%\n"
    }
   }
  },
  {
   "cell_type": "code",
   "execution_count": 106,
   "outputs": [
    {
     "data": {
      "text/plain": "0.6941747572815534"
     },
     "execution_count": 106,
     "metadata": {},
     "output_type": "execute_result"
    }
   ],
   "source": [
    "score"
   ],
   "metadata": {
    "collapsed": false,
    "pycharm": {
     "name": "#%%\n"
    }
   }
  },
  {
   "cell_type": "code",
   "execution_count": 273,
   "outputs": [],
   "source": [
    "X_train,y_train, X_val, y_val = train_test_split(X_filtered,y, test_size=0.2, random_state=2, shuffle=True)"
   ],
   "metadata": {
    "collapsed": false,
    "pycharm": {
     "name": "#%%\n"
    }
   }
  },
  {
   "cell_type": "code",
   "execution_count": 274,
   "outputs": [
    {
     "data": {
      "text/plain": "array([[0.        , 0.        , 0.        , 0.        ],\n       [0.26037874, 0.        , 0.        , 0.        ],\n       [0.        , 0.57402742, 0.04546703, 0.        ],\n       ...,\n       [0.        , 0.41175431, 0.17929614, 0.077432  ],\n       [0.09295521, 0.17961145, 0.        , 0.05321868],\n       [0.14298477, 0.        , 0.155806  , 0.        ]])"
     },
     "execution_count": 274,
     "metadata": {},
     "output_type": "execute_result"
    }
   ],
   "source": [
    "X_train"
   ],
   "metadata": {
    "collapsed": false,
    "pycharm": {
     "name": "#%%\n"
    }
   }
  },
  {
   "cell_type": "code",
   "execution_count": null,
   "outputs": [],
   "source": [],
   "metadata": {
    "collapsed": false,
    "pycharm": {
     "name": "#%%\n"
    }
   }
  }
 ],
 "metadata": {
  "kernelspec": {
   "display_name": "Python 3",
   "language": "python",
   "name": "python3"
  },
  "language_info": {
   "codemirror_mode": {
    "name": "ipython",
    "version": 2
   },
   "file_extension": ".py",
   "mimetype": "text/x-python",
   "name": "python",
   "nbconvert_exporter": "python",
   "pygments_lexer": "ipython2",
   "version": "2.7.6"
  }
 },
 "nbformat": 4,
 "nbformat_minor": 0
}